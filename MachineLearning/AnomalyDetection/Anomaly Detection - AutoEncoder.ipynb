{
 "cells": [
  {
   "cell_type": "code",
   "execution_count": 1,
   "metadata": {},
   "outputs": [
    {
     "data": {
      "application/javascript": [
       "\n",
       "            setTimeout(function() {\n",
       "                var nbb_cell_id = 1;\n",
       "                var nbb_unformatted_code = \"import sys\\n\\nimport seaborn as sns\\nimport pandas as pd\\nimport numpy as np\\n\\nimport tensorflow as tf\\nfrom tensorflow import keras\\nfrom tensorflow.keras import optimizers, losses, regularizers\\nfrom tensorflow.keras.models import Sequential, Model\\nfrom tensorflow.keras.layers import Dense, Input, Dropout, Lambda\\n\\nimport sklearn\\nfrom sklearn.preprocessing import StandardScaler\\nfrom sklearn.model_selection import train_test_split\\nfrom sklearn.metrics import confusion_matrix, roc_auc_score\\nfrom sklearn.preprocessing import MinMaxScaler\\nfrom sklearn.metrics import classification_report\\n\\nimport matplotlib.pyplot as plt\\n\\n%matplotlib inline\\n%reload_ext nb_black\\n\\nimport warnings\\n\\nwarnings.filterwarnings(\\\"ignore\\\")\";\n",
       "                var nbb_formatted_code = \"import sys\\n\\nimport seaborn as sns\\nimport pandas as pd\\nimport numpy as np\\n\\nimport tensorflow as tf\\nfrom tensorflow import keras\\nfrom tensorflow.keras import optimizers, losses, regularizers\\nfrom tensorflow.keras.models import Sequential, Model\\nfrom tensorflow.keras.layers import Dense, Input, Dropout, Lambda\\n\\nimport sklearn\\nfrom sklearn.preprocessing import StandardScaler\\nfrom sklearn.model_selection import train_test_split\\nfrom sklearn.metrics import confusion_matrix, roc_auc_score\\nfrom sklearn.preprocessing import MinMaxScaler\\nfrom sklearn.metrics import classification_report\\n\\nimport matplotlib.pyplot as plt\\n\\n%matplotlib inline\\n%reload_ext nb_black\\n\\nimport warnings\\n\\nwarnings.filterwarnings(\\\"ignore\\\")\";\n",
       "                var nbb_cells = Jupyter.notebook.get_cells();\n",
       "                for (var i = 0; i < nbb_cells.length; ++i) {\n",
       "                    if (nbb_cells[i].input_prompt_number == nbb_cell_id) {\n",
       "                        if (nbb_cells[i].get_text() == nbb_unformatted_code) {\n",
       "                             nbb_cells[i].set_text(nbb_formatted_code);\n",
       "                        }\n",
       "                        break;\n",
       "                    }\n",
       "                }\n",
       "            }, 500);\n",
       "            "
      ],
      "text/plain": [
       "<IPython.core.display.Javascript object>"
      ]
     },
     "metadata": {},
     "output_type": "display_data"
    }
   ],
   "source": [
    "import sys\n",
    "\n",
    "import seaborn as sns\n",
    "import pandas as pd\n",
    "import numpy as np\n",
    "\n",
    "import tensorflow as tf\n",
    "from tensorflow import keras\n",
    "from tensorflow.keras import optimizers, losses, regularizers\n",
    "from tensorflow.keras.models import Sequential, Model\n",
    "from tensorflow.keras.layers import Dense, Input, Dropout, Lambda\n",
    "\n",
    "import sklearn\n",
    "from sklearn.preprocessing import StandardScaler\n",
    "from sklearn.model_selection import train_test_split\n",
    "from sklearn.metrics import confusion_matrix, roc_auc_score\n",
    "from sklearn.preprocessing import MinMaxScaler\n",
    "from sklearn.metrics import classification_report\n",
    "\n",
    "import matplotlib.pyplot as plt\n",
    "\n",
    "%matplotlib inline\n",
    "%reload_ext nb_black\n",
    "\n",
    "import warnings\n",
    "\n",
    "warnings.filterwarnings(\"ignore\")"
   ]
  },
  {
   "cell_type": "code",
   "execution_count": 2,
   "metadata": {},
   "outputs": [
    {
     "name": "stdout",
     "output_type": "stream",
     "text": [
      "Python:  3.7.9 (tags/v3.7.9:13c94747c7, Aug 17 2020, 18:58:18) [MSC v.1900 64 bit (AMD64)]\n",
      "pandas:  1.1.5\n",
      "numpy:  1.18.5\n",
      "seaborn:  0.11.0\n",
      "sklearn:  0.23.2\n",
      "Keras:  2.4.0\n",
      "Tensorflow:  2.3.1\n"
     ]
    },
    {
     "data": {
      "application/javascript": [
       "\n",
       "            setTimeout(function() {\n",
       "                var nbb_cell_id = 2;\n",
       "                var nbb_unformatted_code = \"print(\\\"Python: \\\", sys.version)\\n\\nprint(\\\"pandas: \\\", pd.__version__)\\nprint(\\\"numpy: \\\", np.__version__)\\nprint(\\\"seaborn: \\\", sns.__version__)\\nprint(\\\"sklearn: \\\", sklearn.__version__)\\nprint(\\\"Keras: \\\", keras.__version__)\\nprint(\\\"Tensorflow: \\\", tf.__version__)\";\n",
       "                var nbb_formatted_code = \"print(\\\"Python: \\\", sys.version)\\n\\nprint(\\\"pandas: \\\", pd.__version__)\\nprint(\\\"numpy: \\\", np.__version__)\\nprint(\\\"seaborn: \\\", sns.__version__)\\nprint(\\\"sklearn: \\\", sklearn.__version__)\\nprint(\\\"Keras: \\\", keras.__version__)\\nprint(\\\"Tensorflow: \\\", tf.__version__)\";\n",
       "                var nbb_cells = Jupyter.notebook.get_cells();\n",
       "                for (var i = 0; i < nbb_cells.length; ++i) {\n",
       "                    if (nbb_cells[i].input_prompt_number == nbb_cell_id) {\n",
       "                        if (nbb_cells[i].get_text() == nbb_unformatted_code) {\n",
       "                             nbb_cells[i].set_text(nbb_formatted_code);\n",
       "                        }\n",
       "                        break;\n",
       "                    }\n",
       "                }\n",
       "            }, 500);\n",
       "            "
      ],
      "text/plain": [
       "<IPython.core.display.Javascript object>"
      ]
     },
     "metadata": {},
     "output_type": "display_data"
    }
   ],
   "source": [
    "print(\"Python: \", sys.version)\n",
    "\n",
    "print(\"pandas: \", pd.__version__)\n",
    "print(\"numpy: \", np.__version__)\n",
    "print(\"seaborn: \", sns.__version__)\n",
    "print(\"sklearn: \", sklearn.__version__)\n",
    "print(\"Keras: \", keras.__version__)\n",
    "print(\"Tensorflow: \", tf.__version__)"
   ]
  },
  {
   "cell_type": "code",
   "execution_count": 3,
   "metadata": {},
   "outputs": [
    {
     "data": {
      "application/javascript": [
       "\n",
       "            setTimeout(function() {\n",
       "                var nbb_cell_id = 3;\n",
       "                var nbb_unformatted_code = \"class VisualizationHelper:\\n    labels = [\\\"Normal\\\", \\\"Anomaly\\\"]\\n\\n    def draw_confusion_matrix(self, y, ypred):\\n        matrix = confusion_matrix(y, ypred)\\n\\n        plt.figure(figsize=(10, 8))\\n        colors = [\\\"orange\\\", \\\"green\\\"]\\n        sns.heatmap(\\n            matrix,\\n            xticklabels=self.labels,\\n            yticklabels=self.labels,\\n            cmap=colors,\\n            annot=True,\\n            fmt=\\\"d\\\",\\n        )\\n        plt.title(\\\"Confusion Matrix\\\")\\n        plt.ylabel(\\\"Actual\\\")\\n        plt.xlabel(\\\"Predicted\\\")\\n        plt.show()\\n\\n    def draw_anomaly(self, y, error, threshold):\\n        groupsDF = pd.DataFrame({\\\"error\\\": error, \\\"true\\\": y}).groupby(\\\"true\\\")\\n\\n        figure, axes = plt.subplots(figsize=(12, 8))\\n\\n        for name, group in groupsDF:\\n            axes.plot(\\n                group.index,\\n                group.error,\\n                marker=\\\"x\\\" if name == 1 else \\\"o\\\",\\n                linestyle=\\\"\\\",\\n                color=\\\"r\\\" if name == 1 else \\\"g\\\",\\n                label=\\\"Anomaly\\\" if name == 1 else \\\"Normal\\\",\\n            )\\n\\n        axes.hlines(\\n            threshold,\\n            axes.get_xlim()[0],\\n            axes.get_xlim()[1],\\n            colors=\\\"b\\\",\\n            zorder=100,\\n            label=\\\"Threshold\\\",\\n        )\\n        axes.legend()\\n\\n        plt.title(\\\"Anomalies\\\")\\n        plt.ylabel(\\\"Error\\\")\\n        plt.xlabel(\\\"Data\\\")\\n        plt.show()\\n\\n    def draw_error(self, error, threshold):\\n        plt.plot(error, marker=\\\"o\\\", ms=3.5, linestyle=\\\"\\\", label=\\\"Point\\\")\\n\\n        plt.hlines(\\n            threshold,\\n            xmin=0,\\n            xmax=len(error) - 1,\\n            colors=\\\"b\\\",\\n            zorder=100,\\n            label=\\\"Threshold\\\",\\n        )\\n        plt.legend()\\n        plt.title(\\\"Reconstruction error\\\")\\n        plt.ylabel(\\\"Error\\\")\\n        plt.xlabel(\\\"Data\\\")\\n        plt.show()\";\n",
       "                var nbb_formatted_code = \"class VisualizationHelper:\\n    labels = [\\\"Normal\\\", \\\"Anomaly\\\"]\\n\\n    def draw_confusion_matrix(self, y, ypred):\\n        matrix = confusion_matrix(y, ypred)\\n\\n        plt.figure(figsize=(10, 8))\\n        colors = [\\\"orange\\\", \\\"green\\\"]\\n        sns.heatmap(\\n            matrix,\\n            xticklabels=self.labels,\\n            yticklabels=self.labels,\\n            cmap=colors,\\n            annot=True,\\n            fmt=\\\"d\\\",\\n        )\\n        plt.title(\\\"Confusion Matrix\\\")\\n        plt.ylabel(\\\"Actual\\\")\\n        plt.xlabel(\\\"Predicted\\\")\\n        plt.show()\\n\\n    def draw_anomaly(self, y, error, threshold):\\n        groupsDF = pd.DataFrame({\\\"error\\\": error, \\\"true\\\": y}).groupby(\\\"true\\\")\\n\\n        figure, axes = plt.subplots(figsize=(12, 8))\\n\\n        for name, group in groupsDF:\\n            axes.plot(\\n                group.index,\\n                group.error,\\n                marker=\\\"x\\\" if name == 1 else \\\"o\\\",\\n                linestyle=\\\"\\\",\\n                color=\\\"r\\\" if name == 1 else \\\"g\\\",\\n                label=\\\"Anomaly\\\" if name == 1 else \\\"Normal\\\",\\n            )\\n\\n        axes.hlines(\\n            threshold,\\n            axes.get_xlim()[0],\\n            axes.get_xlim()[1],\\n            colors=\\\"b\\\",\\n            zorder=100,\\n            label=\\\"Threshold\\\",\\n        )\\n        axes.legend()\\n\\n        plt.title(\\\"Anomalies\\\")\\n        plt.ylabel(\\\"Error\\\")\\n        plt.xlabel(\\\"Data\\\")\\n        plt.show()\\n\\n    def draw_error(self, error, threshold):\\n        plt.plot(error, marker=\\\"o\\\", ms=3.5, linestyle=\\\"\\\", label=\\\"Point\\\")\\n\\n        plt.hlines(\\n            threshold,\\n            xmin=0,\\n            xmax=len(error) - 1,\\n            colors=\\\"b\\\",\\n            zorder=100,\\n            label=\\\"Threshold\\\",\\n        )\\n        plt.legend()\\n        plt.title(\\\"Reconstruction error\\\")\\n        plt.ylabel(\\\"Error\\\")\\n        plt.xlabel(\\\"Data\\\")\\n        plt.show()\";\n",
       "                var nbb_cells = Jupyter.notebook.get_cells();\n",
       "                for (var i = 0; i < nbb_cells.length; ++i) {\n",
       "                    if (nbb_cells[i].input_prompt_number == nbb_cell_id) {\n",
       "                        if (nbb_cells[i].get_text() == nbb_unformatted_code) {\n",
       "                             nbb_cells[i].set_text(nbb_formatted_code);\n",
       "                        }\n",
       "                        break;\n",
       "                    }\n",
       "                }\n",
       "            }, 500);\n",
       "            "
      ],
      "text/plain": [
       "<IPython.core.display.Javascript object>"
      ]
     },
     "metadata": {},
     "output_type": "display_data"
    }
   ],
   "source": [
    "class VisualizationHelper:\n",
    "    labels = [\"Normal\", \"Anomaly\"]\n",
    "\n",
    "    def draw_confusion_matrix(self, y, ypred):\n",
    "        matrix = confusion_matrix(y, ypred)\n",
    "\n",
    "        plt.figure(figsize=(10, 8))\n",
    "        colors = [\"orange\", \"green\"]\n",
    "        sns.heatmap(\n",
    "            matrix,\n",
    "            xticklabels=self.labels,\n",
    "            yticklabels=self.labels,\n",
    "            cmap=colors,\n",
    "            annot=True,\n",
    "            fmt=\"d\",\n",
    "        )\n",
    "        plt.title(\"Confusion Matrix\")\n",
    "        plt.ylabel(\"Actual\")\n",
    "        plt.xlabel(\"Predicted\")\n",
    "        plt.show()\n",
    "\n",
    "    def draw_anomaly(self, y, error, threshold):\n",
    "        groupsDF = pd.DataFrame({\"error\": error, \"true\": y}).groupby(\"true\")\n",
    "\n",
    "        figure, axes = plt.subplots(figsize=(12, 8))\n",
    "\n",
    "        for name, group in groupsDF:\n",
    "            axes.plot(\n",
    "                group.index,\n",
    "                group.error,\n",
    "                marker=\"x\" if name == 1 else \"o\",\n",
    "                linestyle=\"\",\n",
    "                color=\"r\" if name == 1 else \"g\",\n",
    "                label=\"Anomaly\" if name == 1 else \"Normal\",\n",
    "            )\n",
    "\n",
    "        axes.hlines(\n",
    "            threshold,\n",
    "            axes.get_xlim()[0],\n",
    "            axes.get_xlim()[1],\n",
    "            colors=\"b\",\n",
    "            zorder=100,\n",
    "            label=\"Threshold\",\n",
    "        )\n",
    "        axes.legend()\n",
    "\n",
    "        plt.title(\"Anomalies\")\n",
    "        plt.ylabel(\"Error\")\n",
    "        plt.xlabel(\"Data\")\n",
    "        plt.show()\n",
    "\n",
    "    def draw_error(self, error, threshold):\n",
    "        plt.plot(error, marker=\"o\", ms=3.5, linestyle=\"\", label=\"Point\")\n",
    "\n",
    "        plt.hlines(\n",
    "            threshold,\n",
    "            xmin=0,\n",
    "            xmax=len(error) - 1,\n",
    "            colors=\"b\",\n",
    "            zorder=100,\n",
    "            label=\"Threshold\",\n",
    "        )\n",
    "        plt.legend()\n",
    "        plt.title(\"Reconstruction error\")\n",
    "        plt.ylabel(\"Error\")\n",
    "        plt.xlabel(\"Data\")\n",
    "        plt.show()"
   ]
  },
  {
   "cell_type": "markdown",
   "metadata": {},
   "source": [
    "## Prepare Data"
   ]
  },
  {
   "cell_type": "code",
   "execution_count": 4,
   "metadata": {},
   "outputs": [
    {
     "data": {
      "application/javascript": [
       "\n",
       "            setTimeout(function() {\n",
       "                var nbb_cell_id = 4;\n",
       "                var nbb_unformatted_code = \"df = pd.read_csv(\\\"data/creditcard.csv\\\")\";\n",
       "                var nbb_formatted_code = \"df = pd.read_csv(\\\"data/creditcard.csv\\\")\";\n",
       "                var nbb_cells = Jupyter.notebook.get_cells();\n",
       "                for (var i = 0; i < nbb_cells.length; ++i) {\n",
       "                    if (nbb_cells[i].input_prompt_number == nbb_cell_id) {\n",
       "                        if (nbb_cells[i].get_text() == nbb_unformatted_code) {\n",
       "                             nbb_cells[i].set_text(nbb_formatted_code);\n",
       "                        }\n",
       "                        break;\n",
       "                    }\n",
       "                }\n",
       "            }, 500);\n",
       "            "
      ],
      "text/plain": [
       "<IPython.core.display.Javascript object>"
      ]
     },
     "metadata": {},
     "output_type": "display_data"
    }
   ],
   "source": [
    "df = pd.read_csv(\"data/creditcard.csv\")"
   ]
  },
  {
   "cell_type": "code",
   "execution_count": 5,
   "metadata": {},
   "outputs": [
    {
     "data": {
      "text/html": [
       "<div>\n",
       "<style scoped>\n",
       "    .dataframe tbody tr th:only-of-type {\n",
       "        vertical-align: middle;\n",
       "    }\n",
       "\n",
       "    .dataframe tbody tr th {\n",
       "        vertical-align: top;\n",
       "    }\n",
       "\n",
       "    .dataframe thead th {\n",
       "        text-align: right;\n",
       "    }\n",
       "</style>\n",
       "<table border=\"1\" class=\"dataframe\">\n",
       "  <thead>\n",
       "    <tr style=\"text-align: right;\">\n",
       "      <th></th>\n",
       "      <th>Time</th>\n",
       "      <th>V1</th>\n",
       "      <th>V2</th>\n",
       "      <th>V3</th>\n",
       "      <th>V4</th>\n",
       "      <th>V5</th>\n",
       "      <th>V6</th>\n",
       "      <th>V7</th>\n",
       "      <th>V8</th>\n",
       "      <th>V9</th>\n",
       "      <th>...</th>\n",
       "      <th>V21</th>\n",
       "      <th>V22</th>\n",
       "      <th>V23</th>\n",
       "      <th>V24</th>\n",
       "      <th>V25</th>\n",
       "      <th>V26</th>\n",
       "      <th>V27</th>\n",
       "      <th>V28</th>\n",
       "      <th>Amount</th>\n",
       "      <th>Class</th>\n",
       "    </tr>\n",
       "  </thead>\n",
       "  <tbody>\n",
       "    <tr>\n",
       "      <th>0</th>\n",
       "      <td>0.0</td>\n",
       "      <td>-1.359807</td>\n",
       "      <td>-0.072781</td>\n",
       "      <td>2.536347</td>\n",
       "      <td>1.378155</td>\n",
       "      <td>-0.338321</td>\n",
       "      <td>0.462388</td>\n",
       "      <td>0.239599</td>\n",
       "      <td>0.098698</td>\n",
       "      <td>0.363787</td>\n",
       "      <td>...</td>\n",
       "      <td>-0.018307</td>\n",
       "      <td>0.277838</td>\n",
       "      <td>-0.110474</td>\n",
       "      <td>0.066928</td>\n",
       "      <td>0.128539</td>\n",
       "      <td>-0.189115</td>\n",
       "      <td>0.133558</td>\n",
       "      <td>-0.021053</td>\n",
       "      <td>149.62</td>\n",
       "      <td>0</td>\n",
       "    </tr>\n",
       "    <tr>\n",
       "      <th>1</th>\n",
       "      <td>0.0</td>\n",
       "      <td>1.191857</td>\n",
       "      <td>0.266151</td>\n",
       "      <td>0.166480</td>\n",
       "      <td>0.448154</td>\n",
       "      <td>0.060018</td>\n",
       "      <td>-0.082361</td>\n",
       "      <td>-0.078803</td>\n",
       "      <td>0.085102</td>\n",
       "      <td>-0.255425</td>\n",
       "      <td>...</td>\n",
       "      <td>-0.225775</td>\n",
       "      <td>-0.638672</td>\n",
       "      <td>0.101288</td>\n",
       "      <td>-0.339846</td>\n",
       "      <td>0.167170</td>\n",
       "      <td>0.125895</td>\n",
       "      <td>-0.008983</td>\n",
       "      <td>0.014724</td>\n",
       "      <td>2.69</td>\n",
       "      <td>0</td>\n",
       "    </tr>\n",
       "    <tr>\n",
       "      <th>2</th>\n",
       "      <td>1.0</td>\n",
       "      <td>-1.358354</td>\n",
       "      <td>-1.340163</td>\n",
       "      <td>1.773209</td>\n",
       "      <td>0.379780</td>\n",
       "      <td>-0.503198</td>\n",
       "      <td>1.800499</td>\n",
       "      <td>0.791461</td>\n",
       "      <td>0.247676</td>\n",
       "      <td>-1.514654</td>\n",
       "      <td>...</td>\n",
       "      <td>0.247998</td>\n",
       "      <td>0.771679</td>\n",
       "      <td>0.909412</td>\n",
       "      <td>-0.689281</td>\n",
       "      <td>-0.327642</td>\n",
       "      <td>-0.139097</td>\n",
       "      <td>-0.055353</td>\n",
       "      <td>-0.059752</td>\n",
       "      <td>378.66</td>\n",
       "      <td>0</td>\n",
       "    </tr>\n",
       "    <tr>\n",
       "      <th>3</th>\n",
       "      <td>1.0</td>\n",
       "      <td>-0.966272</td>\n",
       "      <td>-0.185226</td>\n",
       "      <td>1.792993</td>\n",
       "      <td>-0.863291</td>\n",
       "      <td>-0.010309</td>\n",
       "      <td>1.247203</td>\n",
       "      <td>0.237609</td>\n",
       "      <td>0.377436</td>\n",
       "      <td>-1.387024</td>\n",
       "      <td>...</td>\n",
       "      <td>-0.108300</td>\n",
       "      <td>0.005274</td>\n",
       "      <td>-0.190321</td>\n",
       "      <td>-1.175575</td>\n",
       "      <td>0.647376</td>\n",
       "      <td>-0.221929</td>\n",
       "      <td>0.062723</td>\n",
       "      <td>0.061458</td>\n",
       "      <td>123.50</td>\n",
       "      <td>0</td>\n",
       "    </tr>\n",
       "    <tr>\n",
       "      <th>4</th>\n",
       "      <td>2.0</td>\n",
       "      <td>-1.158233</td>\n",
       "      <td>0.877737</td>\n",
       "      <td>1.548718</td>\n",
       "      <td>0.403034</td>\n",
       "      <td>-0.407193</td>\n",
       "      <td>0.095921</td>\n",
       "      <td>0.592941</td>\n",
       "      <td>-0.270533</td>\n",
       "      <td>0.817739</td>\n",
       "      <td>...</td>\n",
       "      <td>-0.009431</td>\n",
       "      <td>0.798278</td>\n",
       "      <td>-0.137458</td>\n",
       "      <td>0.141267</td>\n",
       "      <td>-0.206010</td>\n",
       "      <td>0.502292</td>\n",
       "      <td>0.219422</td>\n",
       "      <td>0.215153</td>\n",
       "      <td>69.99</td>\n",
       "      <td>0</td>\n",
       "    </tr>\n",
       "  </tbody>\n",
       "</table>\n",
       "<p>5 rows × 31 columns</p>\n",
       "</div>"
      ],
      "text/plain": [
       "   Time        V1        V2        V3        V4        V5        V6        V7  \\\n",
       "0   0.0 -1.359807 -0.072781  2.536347  1.378155 -0.338321  0.462388  0.239599   \n",
       "1   0.0  1.191857  0.266151  0.166480  0.448154  0.060018 -0.082361 -0.078803   \n",
       "2   1.0 -1.358354 -1.340163  1.773209  0.379780 -0.503198  1.800499  0.791461   \n",
       "3   1.0 -0.966272 -0.185226  1.792993 -0.863291 -0.010309  1.247203  0.237609   \n",
       "4   2.0 -1.158233  0.877737  1.548718  0.403034 -0.407193  0.095921  0.592941   \n",
       "\n",
       "         V8        V9  ...       V21       V22       V23       V24       V25  \\\n",
       "0  0.098698  0.363787  ... -0.018307  0.277838 -0.110474  0.066928  0.128539   \n",
       "1  0.085102 -0.255425  ... -0.225775 -0.638672  0.101288 -0.339846  0.167170   \n",
       "2  0.247676 -1.514654  ...  0.247998  0.771679  0.909412 -0.689281 -0.327642   \n",
       "3  0.377436 -1.387024  ... -0.108300  0.005274 -0.190321 -1.175575  0.647376   \n",
       "4 -0.270533  0.817739  ... -0.009431  0.798278 -0.137458  0.141267 -0.206010   \n",
       "\n",
       "        V26       V27       V28  Amount  Class  \n",
       "0 -0.189115  0.133558 -0.021053  149.62      0  \n",
       "1  0.125895 -0.008983  0.014724    2.69      0  \n",
       "2 -0.139097 -0.055353 -0.059752  378.66      0  \n",
       "3 -0.221929  0.062723  0.061458  123.50      0  \n",
       "4  0.502292  0.219422  0.215153   69.99      0  \n",
       "\n",
       "[5 rows x 31 columns]"
      ]
     },
     "execution_count": 5,
     "metadata": {},
     "output_type": "execute_result"
    },
    {
     "data": {
      "application/javascript": [
       "\n",
       "            setTimeout(function() {\n",
       "                var nbb_cell_id = 5;\n",
       "                var nbb_unformatted_code = \"df.head()\";\n",
       "                var nbb_formatted_code = \"df.head()\";\n",
       "                var nbb_cells = Jupyter.notebook.get_cells();\n",
       "                for (var i = 0; i < nbb_cells.length; ++i) {\n",
       "                    if (nbb_cells[i].input_prompt_number == nbb_cell_id) {\n",
       "                        if (nbb_cells[i].get_text() == nbb_unformatted_code) {\n",
       "                             nbb_cells[i].set_text(nbb_formatted_code);\n",
       "                        }\n",
       "                        break;\n",
       "                    }\n",
       "                }\n",
       "            }, 500);\n",
       "            "
      ],
      "text/plain": [
       "<IPython.core.display.Javascript object>"
      ]
     },
     "metadata": {},
     "output_type": "display_data"
    }
   ],
   "source": [
    "df.head()"
   ]
  },
  {
   "cell_type": "code",
   "execution_count": 6,
   "metadata": {},
   "outputs": [
    {
     "data": {
      "text/plain": [
       "(284807, 31)"
      ]
     },
     "execution_count": 6,
     "metadata": {},
     "output_type": "execute_result"
    },
    {
     "data": {
      "application/javascript": [
       "\n",
       "            setTimeout(function() {\n",
       "                var nbb_cell_id = 6;\n",
       "                var nbb_unformatted_code = \"df.shape\";\n",
       "                var nbb_formatted_code = \"df.shape\";\n",
       "                var nbb_cells = Jupyter.notebook.get_cells();\n",
       "                for (var i = 0; i < nbb_cells.length; ++i) {\n",
       "                    if (nbb_cells[i].input_prompt_number == nbb_cell_id) {\n",
       "                        if (nbb_cells[i].get_text() == nbb_unformatted_code) {\n",
       "                             nbb_cells[i].set_text(nbb_formatted_code);\n",
       "                        }\n",
       "                        break;\n",
       "                    }\n",
       "                }\n",
       "            }, 500);\n",
       "            "
      ],
      "text/plain": [
       "<IPython.core.display.Javascript object>"
      ]
     },
     "metadata": {},
     "output_type": "display_data"
    }
   ],
   "source": [
    "df.shape"
   ]
  },
  {
   "cell_type": "code",
   "execution_count": 7,
   "metadata": {},
   "outputs": [
    {
     "data": {
      "text/plain": [
       "0    284315\n",
       "1       492\n",
       "Name: Class, dtype: int64"
      ]
     },
     "execution_count": 7,
     "metadata": {},
     "output_type": "execute_result"
    },
    {
     "data": {
      "application/javascript": [
       "\n",
       "            setTimeout(function() {\n",
       "                var nbb_cell_id = 7;\n",
       "                var nbb_unformatted_code = \"df.Class.value_counts()\";\n",
       "                var nbb_formatted_code = \"df.Class.value_counts()\";\n",
       "                var nbb_cells = Jupyter.notebook.get_cells();\n",
       "                for (var i = 0; i < nbb_cells.length; ++i) {\n",
       "                    if (nbb_cells[i].input_prompt_number == nbb_cell_id) {\n",
       "                        if (nbb_cells[i].get_text() == nbb_unformatted_code) {\n",
       "                             nbb_cells[i].set_text(nbb_formatted_code);\n",
       "                        }\n",
       "                        break;\n",
       "                    }\n",
       "                }\n",
       "            }, 500);\n",
       "            "
      ],
      "text/plain": [
       "<IPython.core.display.Javascript object>"
      ]
     },
     "metadata": {},
     "output_type": "display_data"
    }
   ],
   "source": [
    "df.Class.value_counts()"
   ]
  },
  {
   "cell_type": "markdown",
   "metadata": {},
   "source": [
    "#### Scale features"
   ]
  },
  {
   "cell_type": "code",
   "execution_count": 8,
   "metadata": {},
   "outputs": [
    {
     "data": {
      "application/javascript": [
       "\n",
       "            setTimeout(function() {\n",
       "                var nbb_cell_id = 8;\n",
       "                var nbb_unformatted_code = \"df[\\\"Amount\\\"] = StandardScaler().fit_transform(df.Amount.values.reshape(-1, 1))\";\n",
       "                var nbb_formatted_code = \"df[\\\"Amount\\\"] = StandardScaler().fit_transform(df.Amount.values.reshape(-1, 1))\";\n",
       "                var nbb_cells = Jupyter.notebook.get_cells();\n",
       "                for (var i = 0; i < nbb_cells.length; ++i) {\n",
       "                    if (nbb_cells[i].input_prompt_number == nbb_cell_id) {\n",
       "                        if (nbb_cells[i].get_text() == nbb_unformatted_code) {\n",
       "                             nbb_cells[i].set_text(nbb_formatted_code);\n",
       "                        }\n",
       "                        break;\n",
       "                    }\n",
       "                }\n",
       "            }, 500);\n",
       "            "
      ],
      "text/plain": [
       "<IPython.core.display.Javascript object>"
      ]
     },
     "metadata": {},
     "output_type": "display_data"
    }
   ],
   "source": [
    "df[\"Amount\"] = StandardScaler().fit_transform(df.Amount.values.reshape(-1, 1))"
   ]
  },
  {
   "cell_type": "code",
   "execution_count": 9,
   "metadata": {},
   "outputs": [
    {
     "data": {
      "application/javascript": [
       "\n",
       "            setTimeout(function() {\n",
       "                var nbb_cell_id = 9;\n",
       "                var nbb_unformatted_code = \"# Take 20K normal and 492 fraud cases\\ndf_sample = pd.concat([df[df.Class == 0].sample(20000), df[df.Class == 1]])\";\n",
       "                var nbb_formatted_code = \"# Take 20K normal and 492 fraud cases\\ndf_sample = pd.concat([df[df.Class == 0].sample(20000), df[df.Class == 1]])\";\n",
       "                var nbb_cells = Jupyter.notebook.get_cells();\n",
       "                for (var i = 0; i < nbb_cells.length; ++i) {\n",
       "                    if (nbb_cells[i].input_prompt_number == nbb_cell_id) {\n",
       "                        if (nbb_cells[i].get_text() == nbb_unformatted_code) {\n",
       "                             nbb_cells[i].set_text(nbb_formatted_code);\n",
       "                        }\n",
       "                        break;\n",
       "                    }\n",
       "                }\n",
       "            }, 500);\n",
       "            "
      ],
      "text/plain": [
       "<IPython.core.display.Javascript object>"
      ]
     },
     "metadata": {},
     "output_type": "display_data"
    }
   ],
   "source": [
    "# Take 20K normal and 492 fraud cases\n",
    "df_sample = pd.concat([df[df.Class == 0].sample(20000), df[df.Class == 1]])"
   ]
  },
  {
   "cell_type": "code",
   "execution_count": 11,
   "metadata": {},
   "outputs": [
    {
     "data": {
      "application/javascript": [
       "\n",
       "            setTimeout(function() {\n",
       "                var nbb_cell_id = 11;\n",
       "                var nbb_unformatted_code = \"X_train, X_test, y_train, y_test = train_test_split(\\n    df_sample.drop(columns=[\\\"Time\\\", \\\"Class\\\"], axis=1),\\n    df_sample.Class,\\n    stratify=df_sample.Class,\\n    test_size=0.2,\\n    random_state=42,\\n)\";\n",
       "                var nbb_formatted_code = \"X_train, X_test, y_train, y_test = train_test_split(\\n    df_sample.drop(columns=[\\\"Time\\\", \\\"Class\\\"], axis=1),\\n    df_sample.Class,\\n    stratify=df_sample.Class,\\n    test_size=0.2,\\n    random_state=42,\\n)\";\n",
       "                var nbb_cells = Jupyter.notebook.get_cells();\n",
       "                for (var i = 0; i < nbb_cells.length; ++i) {\n",
       "                    if (nbb_cells[i].input_prompt_number == nbb_cell_id) {\n",
       "                        if (nbb_cells[i].get_text() == nbb_unformatted_code) {\n",
       "                             nbb_cells[i].set_text(nbb_formatted_code);\n",
       "                        }\n",
       "                        break;\n",
       "                    }\n",
       "                }\n",
       "            }, 500);\n",
       "            "
      ],
      "text/plain": [
       "<IPython.core.display.Javascript object>"
      ]
     },
     "metadata": {},
     "output_type": "display_data"
    }
   ],
   "source": [
    "X_train, X_test, y_train, y_test = train_test_split(\n",
    "    df_sample.drop(columns=[\"Time\", \"Class\"], axis=1),\n",
    "    df_sample.Class,\n",
    "    stratify=df_sample.Class,\n",
    "    test_size=0.2,\n",
    "    random_state=42,\n",
    ")"
   ]
  },
  {
   "cell_type": "markdown",
   "metadata": {},
   "source": [
    "## Model"
   ]
  },
  {
   "cell_type": "markdown",
   "metadata": {},
   "source": [
    "#### Hyperparameters"
   ]
  },
  {
   "cell_type": "code",
   "execution_count": 12,
   "metadata": {},
   "outputs": [
    {
     "data": {
      "application/javascript": [
       "\n",
       "            setTimeout(function() {\n",
       "                var nbb_cell_id = 12;\n",
       "                var nbb_unformatted_code = \"ENCODING_DIM = 12\\nBATCH_SIZE = 32\\nEPOCHS = 20\";\n",
       "                var nbb_formatted_code = \"ENCODING_DIM = 12\\nBATCH_SIZE = 32\\nEPOCHS = 20\";\n",
       "                var nbb_cells = Jupyter.notebook.get_cells();\n",
       "                for (var i = 0; i < nbb_cells.length; ++i) {\n",
       "                    if (nbb_cells[i].input_prompt_number == nbb_cell_id) {\n",
       "                        if (nbb_cells[i].get_text() == nbb_unformatted_code) {\n",
       "                             nbb_cells[i].set_text(nbb_formatted_code);\n",
       "                        }\n",
       "                        break;\n",
       "                    }\n",
       "                }\n",
       "            }, 500);\n",
       "            "
      ],
      "text/plain": [
       "<IPython.core.display.Javascript object>"
      ]
     },
     "metadata": {},
     "output_type": "display_data"
    }
   ],
   "source": [
    "ENCODING_DIM = 12\n",
    "BATCH_SIZE = 32\n",
    "EPOCHS = 20"
   ]
  },
  {
   "cell_type": "code",
   "execution_count": 13,
   "metadata": {},
   "outputs": [
    {
     "data": {
      "application/javascript": [
       "\n",
       "            setTimeout(function() {\n",
       "                var nbb_cell_id = 13;\n",
       "                var nbb_unformatted_code = \"def create_autoencoder_model(input_dim: int) -> Model:\\n\\n    inputArray = Input(shape=(input_dim,))\\n\\n    encoder = Dense(\\n        ENCODING_DIM, activation=\\\"relu\\\", kernel_regularizer=regularizers.l1(10e-5)\\n    )(inputArray)\\n    decoder = Dense(input_dim, activation=\\\"softmax\\\")(encoder)\\n\\n    autoencoder = Model(inputArray, decoder)\\n\\n    return autoencoder\";\n",
       "                var nbb_formatted_code = \"def create_autoencoder_model(input_dim: int) -> Model:\\n\\n    inputArray = Input(shape=(input_dim,))\\n\\n    encoder = Dense(\\n        ENCODING_DIM, activation=\\\"relu\\\", kernel_regularizer=regularizers.l1(10e-5)\\n    )(inputArray)\\n    decoder = Dense(input_dim, activation=\\\"softmax\\\")(encoder)\\n\\n    autoencoder = Model(inputArray, decoder)\\n\\n    return autoencoder\";\n",
       "                var nbb_cells = Jupyter.notebook.get_cells();\n",
       "                for (var i = 0; i < nbb_cells.length; ++i) {\n",
       "                    if (nbb_cells[i].input_prompt_number == nbb_cell_id) {\n",
       "                        if (nbb_cells[i].get_text() == nbb_unformatted_code) {\n",
       "                             nbb_cells[i].set_text(nbb_formatted_code);\n",
       "                        }\n",
       "                        break;\n",
       "                    }\n",
       "                }\n",
       "            }, 500);\n",
       "            "
      ],
      "text/plain": [
       "<IPython.core.display.Javascript object>"
      ]
     },
     "metadata": {},
     "output_type": "display_data"
    }
   ],
   "source": [
    "def create_autoencoder_model(input_dim: int) -> Model:\n",
    "\n",
    "    inputArray = Input(shape=(input_dim,))\n",
    "\n",
    "    encoder = Dense(\n",
    "        ENCODING_DIM, activation=\"relu\", kernel_regularizer=regularizers.l1(10e-5)\n",
    "    )(inputArray)\n",
    "    decoder = Dense(input_dim, activation=\"softmax\")(encoder)\n",
    "\n",
    "    autoencoder = Model(inputArray, decoder)\n",
    "\n",
    "    return autoencoder"
   ]
  },
  {
   "cell_type": "code",
   "execution_count": 14,
   "metadata": {},
   "outputs": [
    {
     "data": {
      "application/javascript": [
       "\n",
       "            setTimeout(function() {\n",
       "                var nbb_cell_id = 14;\n",
       "                var nbb_unformatted_code = \"autoencoder_model = create_autoencoder_model(X_train.shape[1])\";\n",
       "                var nbb_formatted_code = \"autoencoder_model = create_autoencoder_model(X_train.shape[1])\";\n",
       "                var nbb_cells = Jupyter.notebook.get_cells();\n",
       "                for (var i = 0; i < nbb_cells.length; ++i) {\n",
       "                    if (nbb_cells[i].input_prompt_number == nbb_cell_id) {\n",
       "                        if (nbb_cells[i].get_text() == nbb_unformatted_code) {\n",
       "                             nbb_cells[i].set_text(nbb_formatted_code);\n",
       "                        }\n",
       "                        break;\n",
       "                    }\n",
       "                }\n",
       "            }, 500);\n",
       "            "
      ],
      "text/plain": [
       "<IPython.core.display.Javascript object>"
      ]
     },
     "metadata": {},
     "output_type": "display_data"
    }
   ],
   "source": [
    "autoencoder_model = create_autoencoder_model(X_train.shape[1])"
   ]
  },
  {
   "cell_type": "code",
   "execution_count": 15,
   "metadata": {},
   "outputs": [
    {
     "name": "stdout",
     "output_type": "stream",
     "text": [
      "Model: \"functional_1\"\n",
      "_________________________________________________________________\n",
      "Layer (type)                 Output Shape              Param #   \n",
      "=================================================================\n",
      "input_1 (InputLayer)         [(None, 29)]              0         \n",
      "_________________________________________________________________\n",
      "dense (Dense)                (None, 12)                360       \n",
      "_________________________________________________________________\n",
      "dense_1 (Dense)              (None, 29)                377       \n",
      "=================================================================\n",
      "Total params: 737\n",
      "Trainable params: 737\n",
      "Non-trainable params: 0\n",
      "_________________________________________________________________\n"
     ]
    },
    {
     "data": {
      "application/javascript": [
       "\n",
       "            setTimeout(function() {\n",
       "                var nbb_cell_id = 15;\n",
       "                var nbb_unformatted_code = \"autoencoder_model.summary()\";\n",
       "                var nbb_formatted_code = \"autoencoder_model.summary()\";\n",
       "                var nbb_cells = Jupyter.notebook.get_cells();\n",
       "                for (var i = 0; i < nbb_cells.length; ++i) {\n",
       "                    if (nbb_cells[i].input_prompt_number == nbb_cell_id) {\n",
       "                        if (nbb_cells[i].get_text() == nbb_unformatted_code) {\n",
       "                             nbb_cells[i].set_text(nbb_formatted_code);\n",
       "                        }\n",
       "                        break;\n",
       "                    }\n",
       "                }\n",
       "            }, 500);\n",
       "            "
      ],
      "text/plain": [
       "<IPython.core.display.Javascript object>"
      ]
     },
     "metadata": {},
     "output_type": "display_data"
    }
   ],
   "source": [
    "autoencoder_model.summary()"
   ]
  },
  {
   "cell_type": "code",
   "execution_count": 16,
   "metadata": {},
   "outputs": [
    {
     "data": {
      "application/javascript": [
       "\n",
       "            setTimeout(function() {\n",
       "                var nbb_cell_id = 16;\n",
       "                var nbb_unformatted_code = \"autoencoder_model.compile(\\n    optimizer=optimizers.RMSprop(),\\n    loss=\\\"mean_squared_error\\\",\\n    metrics=[\\\"mae\\\", \\\"accuracy\\\"],\\n)\";\n",
       "                var nbb_formatted_code = \"autoencoder_model.compile(\\n    optimizer=optimizers.RMSprop(),\\n    loss=\\\"mean_squared_error\\\",\\n    metrics=[\\\"mae\\\", \\\"accuracy\\\"],\\n)\";\n",
       "                var nbb_cells = Jupyter.notebook.get_cells();\n",
       "                for (var i = 0; i < nbb_cells.length; ++i) {\n",
       "                    if (nbb_cells[i].input_prompt_number == nbb_cell_id) {\n",
       "                        if (nbb_cells[i].get_text() == nbb_unformatted_code) {\n",
       "                             nbb_cells[i].set_text(nbb_formatted_code);\n",
       "                        }\n",
       "                        break;\n",
       "                    }\n",
       "                }\n",
       "            }, 500);\n",
       "            "
      ],
      "text/plain": [
       "<IPython.core.display.Javascript object>"
      ]
     },
     "metadata": {},
     "output_type": "display_data"
    }
   ],
   "source": [
    "autoencoder_model.compile(\n",
    "    optimizer=optimizers.RMSprop(),\n",
    "    loss=\"mean_squared_error\",\n",
    "    metrics=[\"mae\", \"accuracy\"],\n",
    ")"
   ]
  },
  {
   "cell_type": "code",
   "execution_count": 17,
   "metadata": {},
   "outputs": [
    {
     "data": {
      "application/javascript": [
       "\n",
       "            setTimeout(function() {\n",
       "                var nbb_cell_id = 17;\n",
       "                var nbb_unformatted_code = \"#### Train Model\";\n",
       "                var nbb_formatted_code = \"#### Train Model\";\n",
       "                var nbb_cells = Jupyter.notebook.get_cells();\n",
       "                for (var i = 0; i < nbb_cells.length; ++i) {\n",
       "                    if (nbb_cells[i].input_prompt_number == nbb_cell_id) {\n",
       "                        if (nbb_cells[i].get_text() == nbb_unformatted_code) {\n",
       "                             nbb_cells[i].set_text(nbb_formatted_code);\n",
       "                        }\n",
       "                        break;\n",
       "                    }\n",
       "                }\n",
       "            }, 500);\n",
       "            "
      ],
      "text/plain": [
       "<IPython.core.display.Javascript object>"
      ]
     },
     "metadata": {},
     "output_type": "display_data"
    }
   ],
   "source": [
    "#### Train Model"
   ]
  },
  {
   "cell_type": "code",
   "execution_count": 18,
   "metadata": {},
   "outputs": [
    {
     "name": "stdout",
     "output_type": "stream",
     "text": [
      "Epoch 1/20\n",
      "513/513 [==============================] - 1s 1ms/step - loss: 1.6492 - mae: 0.6890 - accuracy: 0.2849 - val_loss: 1.5476 - val_mae: 0.6675 - val_accuracy: 0.4594\n",
      "Epoch 2/20\n",
      "513/513 [==============================] - 0s 710us/step - loss: 1.5954 - mae: 0.6723 - accuracy: 0.5240 - val_loss: 1.5209 - val_mae: 0.6617 - val_accuracy: 0.6040\n",
      "Epoch 3/20\n",
      "513/513 [==============================] - 0s 712us/step - loss: 1.5801 - mae: 0.6695 - accuracy: 0.6256 - val_loss: 1.5126 - val_mae: 0.6605 - val_accuracy: 0.6709\n",
      "Epoch 4/20\n",
      "513/513 [==============================] - 0s 701us/step - loss: 1.5745 - mae: 0.6686 - accuracy: 0.6936 - val_loss: 1.5090 - val_mae: 0.6598 - val_accuracy: 0.7185\n",
      "Epoch 5/20\n",
      "513/513 [==============================] - 0s 728us/step - loss: 1.5717 - mae: 0.6682 - accuracy: 0.7304 - val_loss: 1.5066 - val_mae: 0.6596 - val_accuracy: 0.7497\n",
      "Epoch 6/20\n",
      "513/513 [==============================] - 0s 724us/step - loss: 1.5702 - mae: 0.6680 - accuracy: 0.7499 - val_loss: 1.5056 - val_mae: 0.6595 - val_accuracy: 0.7599\n",
      "Epoch 7/20\n",
      "513/513 [==============================] - 0s 722us/step - loss: 1.5694 - mae: 0.6680 - accuracy: 0.7596 - val_loss: 1.5051 - val_mae: 0.6594 - val_accuracy: 0.7638\n",
      "Epoch 8/20\n",
      "513/513 [==============================] - 0s 708us/step - loss: 1.5688 - mae: 0.6679 - accuracy: 0.7669 - val_loss: 1.5046 - val_mae: 0.6593 - val_accuracy: 0.7724\n",
      "Epoch 9/20\n",
      "513/513 [==============================] - 0s 730us/step - loss: 1.5684 - mae: 0.6679 - accuracy: 0.7727 - val_loss: 1.5042 - val_mae: 0.6593 - val_accuracy: 0.7770\n",
      "Epoch 10/20\n",
      "513/513 [==============================] - 0s 754us/step - loss: 1.5681 - mae: 0.6679 - accuracy: 0.7756 - val_loss: 1.5039 - val_mae: 0.6593 - val_accuracy: 0.7775\n",
      "Epoch 11/20\n",
      "513/513 [==============================] - 0s 766us/step - loss: 1.5678 - mae: 0.6678 - accuracy: 0.7784 - val_loss: 1.5037 - val_mae: 0.6593 - val_accuracy: 0.7807\n",
      "Epoch 12/20\n",
      "513/513 [==============================] - 0s 723us/step - loss: 1.5676 - mae: 0.6678 - accuracy: 0.7811 - val_loss: 1.5035 - val_mae: 0.6593 - val_accuracy: 0.7807\n",
      "Epoch 13/20\n",
      "513/513 [==============================] - 0s 740us/step - loss: 1.5674 - mae: 0.6678 - accuracy: 0.7829 - val_loss: 1.5033 - val_mae: 0.6592 - val_accuracy: 0.7858\n",
      "Epoch 14/20\n",
      "513/513 [==============================] - 0s 731us/step - loss: 1.5671 - mae: 0.6678 - accuracy: 0.7858 - val_loss: 1.5030 - val_mae: 0.6593 - val_accuracy: 0.7851\n",
      "Epoch 15/20\n",
      "513/513 [==============================] - 0s 709us/step - loss: 1.5669 - mae: 0.6678 - accuracy: 0.7881 - val_loss: 1.5028 - val_mae: 0.6592 - val_accuracy: 0.7890\n",
      "Epoch 16/20\n",
      "513/513 [==============================] - 0s 712us/step - loss: 1.5667 - mae: 0.6678 - accuracy: 0.7888 - val_loss: 1.5027 - val_mae: 0.6592 - val_accuracy: 0.7892\n",
      "Epoch 17/20\n",
      "513/513 [==============================] - 0s 769us/step - loss: 1.5666 - mae: 0.6678 - accuracy: 0.7908 - val_loss: 1.5026 - val_mae: 0.6592 - val_accuracy: 0.7921\n",
      "Epoch 18/20\n",
      "513/513 [==============================] - 0s 705us/step - loss: 1.5665 - mae: 0.6678 - accuracy: 0.7908 - val_loss: 1.5025 - val_mae: 0.6592 - val_accuracy: 0.7917\n",
      "Epoch 19/20\n",
      "513/513 [==============================] - 0s 674us/step - loss: 1.5664 - mae: 0.6678 - accuracy: 0.7920 - val_loss: 1.5023 - val_mae: 0.6592 - val_accuracy: 0.7887\n",
      "Epoch 20/20\n",
      "513/513 [==============================] - 0s 782us/step - loss: 1.5664 - mae: 0.6678 - accuracy: 0.7926 - val_loss: 1.5023 - val_mae: 0.6592 - val_accuracy: 0.7921\n"
     ]
    },
    {
     "data": {
      "application/javascript": [
       "\n",
       "            setTimeout(function() {\n",
       "                var nbb_cell_id = 18;\n",
       "                var nbb_unformatted_code = \"history = autoencoder_model.fit(\\n    X_train,\\n    X_train,\\n    batch_size=BATCH_SIZE,\\n    epochs=EPOCHS,\\n    verbose=1,\\n    shuffle=True,\\n    validation_data=(X_test, X_test),\\n)\";\n",
       "                var nbb_formatted_code = \"history = autoencoder_model.fit(\\n    X_train,\\n    X_train,\\n    batch_size=BATCH_SIZE,\\n    epochs=EPOCHS,\\n    verbose=1,\\n    shuffle=True,\\n    validation_data=(X_test, X_test),\\n)\";\n",
       "                var nbb_cells = Jupyter.notebook.get_cells();\n",
       "                for (var i = 0; i < nbb_cells.length; ++i) {\n",
       "                    if (nbb_cells[i].input_prompt_number == nbb_cell_id) {\n",
       "                        if (nbb_cells[i].get_text() == nbb_unformatted_code) {\n",
       "                             nbb_cells[i].set_text(nbb_formatted_code);\n",
       "                        }\n",
       "                        break;\n",
       "                    }\n",
       "                }\n",
       "            }, 500);\n",
       "            "
      ],
      "text/plain": [
       "<IPython.core.display.Javascript object>"
      ]
     },
     "metadata": {},
     "output_type": "display_data"
    }
   ],
   "source": [
    "history = autoencoder_model.fit(\n",
    "    X_train,\n",
    "    X_train,\n",
    "    batch_size=BATCH_SIZE,\n",
    "    epochs=EPOCHS,\n",
    "    verbose=1,\n",
    "    shuffle=True,\n",
    "    validation_data=(X_test, X_test),\n",
    ")"
   ]
  },
  {
   "cell_type": "code",
   "execution_count": 19,
   "metadata": {},
   "outputs": [
    {
     "data": {
      "application/javascript": [
       "\n",
       "            setTimeout(function() {\n",
       "                var nbb_cell_id = 19;\n",
       "                var nbb_unformatted_code = \"### Evaluate Model\";\n",
       "                var nbb_formatted_code = \"### Evaluate Model\";\n",
       "                var nbb_cells = Jupyter.notebook.get_cells();\n",
       "                for (var i = 0; i < nbb_cells.length; ++i) {\n",
       "                    if (nbb_cells[i].input_prompt_number == nbb_cell_id) {\n",
       "                        if (nbb_cells[i].get_text() == nbb_unformatted_code) {\n",
       "                             nbb_cells[i].set_text(nbb_formatted_code);\n",
       "                        }\n",
       "                        break;\n",
       "                    }\n",
       "                }\n",
       "            }, 500);\n",
       "            "
      ],
      "text/plain": [
       "<IPython.core.display.Javascript object>"
      ]
     },
     "metadata": {},
     "output_type": "display_data"
    }
   ],
   "source": [
    "### Evaluate Model"
   ]
  },
  {
   "cell_type": "code",
   "execution_count": 20,
   "metadata": {},
   "outputs": [
    {
     "name": "stdout",
     "output_type": "stream",
     "text": [
      "129/129 [==============================] - 0s 506us/step - loss: 1.5023 - mae: 0.6592 - accuracy: 0.7921\n"
     ]
    },
    {
     "data": {
      "application/javascript": [
       "\n",
       "            setTimeout(function() {\n",
       "                var nbb_cell_id = 20;\n",
       "                var nbb_unformatted_code = \"score = autoencoder_model.evaluate(X_test, X_test, verbose=1)\";\n",
       "                var nbb_formatted_code = \"score = autoencoder_model.evaluate(X_test, X_test, verbose=1)\";\n",
       "                var nbb_cells = Jupyter.notebook.get_cells();\n",
       "                for (var i = 0; i < nbb_cells.length; ++i) {\n",
       "                    if (nbb_cells[i].input_prompt_number == nbb_cell_id) {\n",
       "                        if (nbb_cells[i].get_text() == nbb_unformatted_code) {\n",
       "                             nbb_cells[i].set_text(nbb_formatted_code);\n",
       "                        }\n",
       "                        break;\n",
       "                    }\n",
       "                }\n",
       "            }, 500);\n",
       "            "
      ],
      "text/plain": [
       "<IPython.core.display.Javascript object>"
      ]
     },
     "metadata": {},
     "output_type": "display_data"
    }
   ],
   "source": [
    "score = autoencoder_model.evaluate(X_test, X_test, verbose=1)"
   ]
  },
  {
   "cell_type": "code",
   "execution_count": 21,
   "metadata": {},
   "outputs": [
    {
     "name": "stdout",
     "output_type": "stream",
     "text": [
      "Test Loss: 1.5022578239440918\n",
      "Test Accuracy: 0.7921444177627563\n"
     ]
    },
    {
     "data": {
      "application/javascript": [
       "\n",
       "            setTimeout(function() {\n",
       "                var nbb_cell_id = 21;\n",
       "                var nbb_unformatted_code = \"print(\\\"Test Loss:\\\", score[0])\\nprint(\\\"Test Accuracy:\\\", score[2])\";\n",
       "                var nbb_formatted_code = \"print(\\\"Test Loss:\\\", score[0])\\nprint(\\\"Test Accuracy:\\\", score[2])\";\n",
       "                var nbb_cells = Jupyter.notebook.get_cells();\n",
       "                for (var i = 0; i < nbb_cells.length; ++i) {\n",
       "                    if (nbb_cells[i].input_prompt_number == nbb_cell_id) {\n",
       "                        if (nbb_cells[i].get_text() == nbb_unformatted_code) {\n",
       "                             nbb_cells[i].set_text(nbb_formatted_code);\n",
       "                        }\n",
       "                        break;\n",
       "                    }\n",
       "                }\n",
       "            }, 500);\n",
       "            "
      ],
      "text/plain": [
       "<IPython.core.display.Javascript object>"
      ]
     },
     "metadata": {},
     "output_type": "display_data"
    }
   ],
   "source": [
    "print(\"Test Loss:\", score[0])\n",
    "print(\"Test Accuracy:\", score[2])"
   ]
  },
  {
   "cell_type": "code",
   "execution_count": 22,
   "metadata": {},
   "outputs": [
    {
     "data": {
      "application/javascript": [
       "\n",
       "            setTimeout(function() {\n",
       "                var nbb_cell_id = 22;\n",
       "                var nbb_unformatted_code = \"THRESHOLD = 15.0\";\n",
       "                var nbb_formatted_code = \"THRESHOLD = 15.0\";\n",
       "                var nbb_cells = Jupyter.notebook.get_cells();\n",
       "                for (var i = 0; i < nbb_cells.length; ++i) {\n",
       "                    if (nbb_cells[i].input_prompt_number == nbb_cell_id) {\n",
       "                        if (nbb_cells[i].get_text() == nbb_unformatted_code) {\n",
       "                             nbb_cells[i].set_text(nbb_formatted_code);\n",
       "                        }\n",
       "                        break;\n",
       "                    }\n",
       "                }\n",
       "            }, 500);\n",
       "            "
      ],
      "text/plain": [
       "<IPython.core.display.Javascript object>"
      ]
     },
     "metadata": {},
     "output_type": "display_data"
    }
   ],
   "source": [
    "THRESHOLD = 15.0"
   ]
  },
  {
   "cell_type": "code",
   "execution_count": 23,
   "metadata": {},
   "outputs": [
    {
     "data": {
      "application/javascript": [
       "\n",
       "            setTimeout(function() {\n",
       "                var nbb_cell_id = 23;\n",
       "                var nbb_unformatted_code = \"def generate_labels(model: Model, data: np.array) -> (list, list):\\n    y_pred = model.predict(data)\\n\\n    y_dist = np.linalg.norm(data - y_pred, axis=-1)\\n    predictions = zip(y_dist >= THRESHOLD, y_dist)\\n\\n    labels = []\\n    er = []\\n\\n    for is_anomaly, dist in predictions:\\n        if is_anomaly:\\n            labels.append(1)\\n        else:\\n            labels.append(0)\\n\\n        er.append(dist)\\n\\n    return labels, er\";\n",
       "                var nbb_formatted_code = \"def generate_labels(model: Model, data: np.array) -> (list, list):\\n    y_pred = model.predict(data)\\n\\n    y_dist = np.linalg.norm(data - y_pred, axis=-1)\\n    predictions = zip(y_dist >= THRESHOLD, y_dist)\\n\\n    labels = []\\n    er = []\\n\\n    for is_anomaly, dist in predictions:\\n        if is_anomaly:\\n            labels.append(1)\\n        else:\\n            labels.append(0)\\n\\n        er.append(dist)\\n\\n    return labels, er\";\n",
       "                var nbb_cells = Jupyter.notebook.get_cells();\n",
       "                for (var i = 0; i < nbb_cells.length; ++i) {\n",
       "                    if (nbb_cells[i].input_prompt_number == nbb_cell_id) {\n",
       "                        if (nbb_cells[i].get_text() == nbb_unformatted_code) {\n",
       "                             nbb_cells[i].set_text(nbb_formatted_code);\n",
       "                        }\n",
       "                        break;\n",
       "                    }\n",
       "                }\n",
       "            }, 500);\n",
       "            "
      ],
      "text/plain": [
       "<IPython.core.display.Javascript object>"
      ]
     },
     "metadata": {},
     "output_type": "display_data"
    }
   ],
   "source": [
    "def generate_labels(model: Model, data: np.array) -> (list, list):\n",
    "    y_pred = model.predict(data)\n",
    "\n",
    "    y_dist = np.linalg.norm(data - y_pred, axis=-1)\n",
    "    predictions = zip(y_dist >= THRESHOLD, y_dist)\n",
    "\n",
    "    labels = []\n",
    "    er = []\n",
    "\n",
    "    for is_anomaly, dist in predictions:\n",
    "        if is_anomaly:\n",
    "            labels.append(1)\n",
    "        else:\n",
    "            labels.append(0)\n",
    "\n",
    "        er.append(dist)\n",
    "\n",
    "    return labels, er"
   ]
  },
  {
   "cell_type": "markdown",
   "metadata": {},
   "source": [
    "#### Visualize errors"
   ]
  },
  {
   "cell_type": "code",
   "execution_count": 24,
   "metadata": {},
   "outputs": [
    {
     "data": {
      "application/javascript": [
       "\n",
       "            setTimeout(function() {\n",
       "                var nbb_cell_id = 24;\n",
       "                var nbb_unformatted_code = \"y_label, errors = generate_labels(autoencoder_model, X_test)\";\n",
       "                var nbb_formatted_code = \"y_label, errors = generate_labels(autoencoder_model, X_test)\";\n",
       "                var nbb_cells = Jupyter.notebook.get_cells();\n",
       "                for (var i = 0; i < nbb_cells.length; ++i) {\n",
       "                    if (nbb_cells[i].input_prompt_number == nbb_cell_id) {\n",
       "                        if (nbb_cells[i].get_text() == nbb_unformatted_code) {\n",
       "                             nbb_cells[i].set_text(nbb_formatted_code);\n",
       "                        }\n",
       "                        break;\n",
       "                    }\n",
       "                }\n",
       "            }, 500);\n",
       "            "
      ],
      "text/plain": [
       "<IPython.core.display.Javascript object>"
      ]
     },
     "metadata": {},
     "output_type": "display_data"
    }
   ],
   "source": [
    "y_label, errors = generate_labels(autoencoder_model, X_test)"
   ]
  },
  {
   "cell_type": "code",
   "execution_count": 25,
   "metadata": {},
   "outputs": [
    {
     "name": "stdout",
     "output_type": "stream",
     "text": [
      "              precision    recall  f1-score   support\n",
      "\n",
      "           0       0.99      0.99      0.99      4001\n",
      "           1       0.61      0.60      0.61        98\n",
      "\n",
      "    accuracy                           0.98      4099\n",
      "   macro avg       0.80      0.80      0.80      4099\n",
      "weighted avg       0.98      0.98      0.98      4099\n",
      "\n"
     ]
    },
    {
     "data": {
      "application/javascript": [
       "\n",
       "            setTimeout(function() {\n",
       "                var nbb_cell_id = 25;\n",
       "                var nbb_unformatted_code = \"print(classification_report(y_test, y_label))\";\n",
       "                var nbb_formatted_code = \"print(classification_report(y_test, y_label))\";\n",
       "                var nbb_cells = Jupyter.notebook.get_cells();\n",
       "                for (var i = 0; i < nbb_cells.length; ++i) {\n",
       "                    if (nbb_cells[i].input_prompt_number == nbb_cell_id) {\n",
       "                        if (nbb_cells[i].get_text() == nbb_unformatted_code) {\n",
       "                             nbb_cells[i].set_text(nbb_formatted_code);\n",
       "                        }\n",
       "                        break;\n",
       "                    }\n",
       "                }\n",
       "            }, 500);\n",
       "            "
      ],
      "text/plain": [
       "<IPython.core.display.Javascript object>"
      ]
     },
     "metadata": {},
     "output_type": "display_data"
    }
   ],
   "source": [
    "print(classification_report(y_test, y_label))"
   ]
  },
  {
   "cell_type": "code",
   "execution_count": 26,
   "metadata": {},
   "outputs": [
    {
     "data": {
      "text/plain": [
       "0.796396564124275"
      ]
     },
     "execution_count": 26,
     "metadata": {},
     "output_type": "execute_result"
    },
    {
     "data": {
      "application/javascript": [
       "\n",
       "            setTimeout(function() {\n",
       "                var nbb_cell_id = 26;\n",
       "                var nbb_unformatted_code = \"roc_auc_score(y_test, y_label)\";\n",
       "                var nbb_formatted_code = \"roc_auc_score(y_test, y_label)\";\n",
       "                var nbb_cells = Jupyter.notebook.get_cells();\n",
       "                for (var i = 0; i < nbb_cells.length; ++i) {\n",
       "                    if (nbb_cells[i].input_prompt_number == nbb_cell_id) {\n",
       "                        if (nbb_cells[i].get_text() == nbb_unformatted_code) {\n",
       "                             nbb_cells[i].set_text(nbb_formatted_code);\n",
       "                        }\n",
       "                        break;\n",
       "                    }\n",
       "                }\n",
       "            }, 500);\n",
       "            "
      ],
      "text/plain": [
       "<IPython.core.display.Javascript object>"
      ]
     },
     "metadata": {},
     "output_type": "display_data"
    }
   ],
   "source": [
    "roc_auc_score(y_test, y_label)"
   ]
  },
  {
   "cell_type": "code",
   "execution_count": 27,
   "metadata": {},
   "outputs": [
    {
     "data": {
      "image/png": "[encoded data removed]",
      "text/plain": [
       "<Figure size 720x576 with 2 Axes>"
      ]
     },
     "metadata": {
      "needs_background": "light"
     },
     "output_type": "display_data"
    },
    {
     "data": {
      "application/javascript": [
       "\n",
       "            setTimeout(function() {\n",
       "                var nbb_cell_id = 27;\n",
       "                var nbb_unformatted_code = \"VisualizationHelper().draw_confusion_matrix(y_test, y_label)\";\n",
       "                var nbb_formatted_code = \"VisualizationHelper().draw_confusion_matrix(y_test, y_label)\";\n",
       "                var nbb_cells = Jupyter.notebook.get_cells();\n",
       "                for (var i = 0; i < nbb_cells.length; ++i) {\n",
       "                    if (nbb_cells[i].input_prompt_number == nbb_cell_id) {\n",
       "                        if (nbb_cells[i].get_text() == nbb_unformatted_code) {\n",
       "                             nbb_cells[i].set_text(nbb_formatted_code);\n",
       "                        }\n",
       "                        break;\n",
       "                    }\n",
       "                }\n",
       "            }, 500);\n",
       "            "
      ],
      "text/plain": [
       "<IPython.core.display.Javascript object>"
      ]
     },
     "metadata": {},
     "output_type": "display_data"
    }
   ],
   "source": [
    "VisualizationHelper().draw_confusion_matrix(y_test, y_label)"
   ]
  },
  {
   "cell_type": "code",
   "execution_count": 28,
   "metadata": {},
   "outputs": [
    {
     "data": {
      "image/png": "[encoded data removed]",
      "text/plain": [
       "<Figure size 864x576 with 1 Axes>"
      ]
     },
     "metadata": {
      "needs_background": "light"
     },
     "output_type": "display_data"
    },
    {
     "data": {
      "application/javascript": [
       "\n",
       "            setTimeout(function() {\n",
       "                var nbb_cell_id = 28;\n",
       "                var nbb_unformatted_code = \"VisualizationHelper().draw_anomaly(y_test, errors, THRESHOLD)\";\n",
       "                var nbb_formatted_code = \"VisualizationHelper().draw_anomaly(y_test, errors, THRESHOLD)\";\n",
       "                var nbb_cells = Jupyter.notebook.get_cells();\n",
       "                for (var i = 0; i < nbb_cells.length; ++i) {\n",
       "                    if (nbb_cells[i].input_prompt_number == nbb_cell_id) {\n",
       "                        if (nbb_cells[i].get_text() == nbb_unformatted_code) {\n",
       "                             nbb_cells[i].set_text(nbb_formatted_code);\n",
       "                        }\n",
       "                        break;\n",
       "                    }\n",
       "                }\n",
       "            }, 500);\n",
       "            "
      ],
      "text/plain": [
       "<IPython.core.display.Javascript object>"
      ]
     },
     "metadata": {},
     "output_type": "display_data"
    }
   ],
   "source": [
    "VisualizationHelper().draw_anomaly(y_test, errors, THRESHOLD)"
   ]
  },
  {
   "cell_type": "markdown",
   "metadata": {},
   "source": [
    "## Deep AutoEncoder Model"
   ]
  },
  {
   "cell_type": "code",
   "execution_count": 29,
   "metadata": {},
   "outputs": [
    {
     "data": {
      "application/javascript": [
       "\n",
       "            setTimeout(function() {\n",
       "                var nbb_cell_id = 29;\n",
       "                var nbb_unformatted_code = \"ENCODING_DIM = 16\\nEPOCHS = 20\";\n",
       "                var nbb_formatted_code = \"ENCODING_DIM = 16\\nEPOCHS = 20\";\n",
       "                var nbb_cells = Jupyter.notebook.get_cells();\n",
       "                for (var i = 0; i < nbb_cells.length; ++i) {\n",
       "                    if (nbb_cells[i].input_prompt_number == nbb_cell_id) {\n",
       "                        if (nbb_cells[i].get_text() == nbb_unformatted_code) {\n",
       "                             nbb_cells[i].set_text(nbb_formatted_code);\n",
       "                        }\n",
       "                        break;\n",
       "                    }\n",
       "                }\n",
       "            }, 500);\n",
       "            "
      ],
      "text/plain": [
       "<IPython.core.display.Javascript object>"
      ]
     },
     "metadata": {},
     "output_type": "display_data"
    }
   ],
   "source": [
    "ENCODING_DIM = 16\n",
    "EPOCHS = 20"
   ]
  },
  {
   "cell_type": "code",
   "execution_count": 30,
   "metadata": {},
   "outputs": [
    {
     "data": {
      "application/javascript": [
       "\n",
       "            setTimeout(function() {\n",
       "                var nbb_cell_id = 30;\n",
       "                var nbb_unformatted_code = \"def create_deep_autoencoder_model(input_dim: int) -> Model:\\n\\n    inputArray = Input(shape=(input_dim,))\\n\\n    encoder = Dense(\\n        units=ENCODING_DIM, activation=\\\"relu\\\", kernel_regularizer=regularizers.l1(10e-5)\\n    )(inputArray)\\n    encoder = Dense(units=8, activation=\\\"relu\\\")(encoder)\\n    encoder = Dense(units=4, activation=\\\"relu\\\")(encoder)\\n\\n    decoder = Dense(units=8, activation=\\\"relu\\\")(encoder)\\n    decoder = Dense(units=ENCODING_DIM, activation=\\\"relu\\\")(decoder)\\n    decoder = Dense(input_dim, activation=\\\"softmax\\\")(decoder)\\n\\n    autoencoder = Model(inputArray, decoder)\\n\\n    return autoencoder\";\n",
       "                var nbb_formatted_code = \"def create_deep_autoencoder_model(input_dim: int) -> Model:\\n\\n    inputArray = Input(shape=(input_dim,))\\n\\n    encoder = Dense(\\n        units=ENCODING_DIM, activation=\\\"relu\\\", kernel_regularizer=regularizers.l1(10e-5)\\n    )(inputArray)\\n    encoder = Dense(units=8, activation=\\\"relu\\\")(encoder)\\n    encoder = Dense(units=4, activation=\\\"relu\\\")(encoder)\\n\\n    decoder = Dense(units=8, activation=\\\"relu\\\")(encoder)\\n    decoder = Dense(units=ENCODING_DIM, activation=\\\"relu\\\")(decoder)\\n    decoder = Dense(input_dim, activation=\\\"softmax\\\")(decoder)\\n\\n    autoencoder = Model(inputArray, decoder)\\n\\n    return autoencoder\";\n",
       "                var nbb_cells = Jupyter.notebook.get_cells();\n",
       "                for (var i = 0; i < nbb_cells.length; ++i) {\n",
       "                    if (nbb_cells[i].input_prompt_number == nbb_cell_id) {\n",
       "                        if (nbb_cells[i].get_text() == nbb_unformatted_code) {\n",
       "                             nbb_cells[i].set_text(nbb_formatted_code);\n",
       "                        }\n",
       "                        break;\n",
       "                    }\n",
       "                }\n",
       "            }, 500);\n",
       "            "
      ],
      "text/plain": [
       "<IPython.core.display.Javascript object>"
      ]
     },
     "metadata": {},
     "output_type": "display_data"
    }
   ],
   "source": [
    "def create_deep_autoencoder_model(input_dim: int) -> Model:\n",
    "\n",
    "    inputArray = Input(shape=(input_dim,))\n",
    "\n",
    "    encoder = Dense(\n",
    "        units=ENCODING_DIM, activation=\"relu\", kernel_regularizer=regularizers.l1(10e-5)\n",
    "    )(inputArray)\n",
    "    encoder = Dense(units=8, activation=\"relu\")(encoder)\n",
    "    encoder = Dense(units=4, activation=\"relu\")(encoder)\n",
    "\n",
    "    decoder = Dense(units=8, activation=\"relu\")(encoder)\n",
    "    decoder = Dense(units=ENCODING_DIM, activation=\"relu\")(decoder)\n",
    "    decoder = Dense(input_dim, activation=\"softmax\")(decoder)\n",
    "\n",
    "    autoencoder = Model(inputArray, decoder)\n",
    "\n",
    "    return autoencoder"
   ]
  },
  {
   "cell_type": "code",
   "execution_count": 31,
   "metadata": {},
   "outputs": [
    {
     "data": {
      "application/javascript": [
       "\n",
       "            setTimeout(function() {\n",
       "                var nbb_cell_id = 31;\n",
       "                var nbb_unformatted_code = \"deep_autoencoder_model = create_deep_autoencoder_model(X_train.shape[1])\";\n",
       "                var nbb_formatted_code = \"deep_autoencoder_model = create_deep_autoencoder_model(X_train.shape[1])\";\n",
       "                var nbb_cells = Jupyter.notebook.get_cells();\n",
       "                for (var i = 0; i < nbb_cells.length; ++i) {\n",
       "                    if (nbb_cells[i].input_prompt_number == nbb_cell_id) {\n",
       "                        if (nbb_cells[i].get_text() == nbb_unformatted_code) {\n",
       "                             nbb_cells[i].set_text(nbb_formatted_code);\n",
       "                        }\n",
       "                        break;\n",
       "                    }\n",
       "                }\n",
       "            }, 500);\n",
       "            "
      ],
      "text/plain": [
       "<IPython.core.display.Javascript object>"
      ]
     },
     "metadata": {},
     "output_type": "display_data"
    }
   ],
   "source": [
    "deep_autoencoder_model = create_deep_autoencoder_model(X_train.shape[1])"
   ]
  },
  {
   "cell_type": "code",
   "execution_count": 32,
   "metadata": {},
   "outputs": [
    {
     "name": "stdout",
     "output_type": "stream",
     "text": [
      "Model: \"functional_3\"\n",
      "_________________________________________________________________\n",
      "Layer (type)                 Output Shape              Param #   \n",
      "=================================================================\n",
      "input_2 (InputLayer)         [(None, 29)]              0         \n",
      "_________________________________________________________________\n",
      "dense_2 (Dense)              (None, 16)                480       \n",
      "_________________________________________________________________\n",
      "dense_3 (Dense)              (None, 8)                 136       \n",
      "_________________________________________________________________\n",
      "dense_4 (Dense)              (None, 4)                 36        \n",
      "_________________________________________________________________\n",
      "dense_5 (Dense)              (None, 8)                 40        \n",
      "_________________________________________________________________\n",
      "dense_6 (Dense)              (None, 16)                144       \n",
      "_________________________________________________________________\n",
      "dense_7 (Dense)              (None, 29)                493       \n",
      "=================================================================\n",
      "Total params: 1,329\n",
      "Trainable params: 1,329\n",
      "Non-trainable params: 0\n",
      "_________________________________________________________________\n"
     ]
    },
    {
     "data": {
      "application/javascript": [
       "\n",
       "            setTimeout(function() {\n",
       "                var nbb_cell_id = 32;\n",
       "                var nbb_unformatted_code = \"deep_autoencoder_model.summary()\";\n",
       "                var nbb_formatted_code = \"deep_autoencoder_model.summary()\";\n",
       "                var nbb_cells = Jupyter.notebook.get_cells();\n",
       "                for (var i = 0; i < nbb_cells.length; ++i) {\n",
       "                    if (nbb_cells[i].input_prompt_number == nbb_cell_id) {\n",
       "                        if (nbb_cells[i].get_text() == nbb_unformatted_code) {\n",
       "                             nbb_cells[i].set_text(nbb_formatted_code);\n",
       "                        }\n",
       "                        break;\n",
       "                    }\n",
       "                }\n",
       "            }, 500);\n",
       "            "
      ],
      "text/plain": [
       "<IPython.core.display.Javascript object>"
      ]
     },
     "metadata": {},
     "output_type": "display_data"
    }
   ],
   "source": [
    "deep_autoencoder_model.summary()"
   ]
  },
  {
   "cell_type": "code",
   "execution_count": 33,
   "metadata": {},
   "outputs": [
    {
     "data": {
      "application/javascript": [
       "\n",
       "            setTimeout(function() {\n",
       "                var nbb_cell_id = 33;\n",
       "                var nbb_unformatted_code = \"deep_autoencoder_model.compile(\\n    optimizer=optimizers.Adam(),\\n    loss=\\\"mean_squared_error\\\",\\n    metrics=[\\\"mae\\\", \\\"accuracy\\\"],\\n)\";\n",
       "                var nbb_formatted_code = \"deep_autoencoder_model.compile(\\n    optimizer=optimizers.Adam(),\\n    loss=\\\"mean_squared_error\\\",\\n    metrics=[\\\"mae\\\", \\\"accuracy\\\"],\\n)\";\n",
       "                var nbb_cells = Jupyter.notebook.get_cells();\n",
       "                for (var i = 0; i < nbb_cells.length; ++i) {\n",
       "                    if (nbb_cells[i].input_prompt_number == nbb_cell_id) {\n",
       "                        if (nbb_cells[i].get_text() == nbb_unformatted_code) {\n",
       "                             nbb_cells[i].set_text(nbb_formatted_code);\n",
       "                        }\n",
       "                        break;\n",
       "                    }\n",
       "                }\n",
       "            }, 500);\n",
       "            "
      ],
      "text/plain": [
       "<IPython.core.display.Javascript object>"
      ]
     },
     "metadata": {},
     "output_type": "display_data"
    }
   ],
   "source": [
    "deep_autoencoder_model.compile(\n",
    "    optimizer=optimizers.Adam(),\n",
    "    loss=\"mean_squared_error\",\n",
    "    metrics=[\"mae\", \"accuracy\"],\n",
    ")"
   ]
  },
  {
   "cell_type": "markdown",
   "metadata": {},
   "source": [
    "#### Train Model"
   ]
  },
  {
   "cell_type": "code",
   "execution_count": 34,
   "metadata": {},
   "outputs": [
    {
     "name": "stdout",
     "output_type": "stream",
     "text": [
      "Epoch 1/20\n",
      "513/513 [==============================] - 0s 960us/step - loss: 1.6517 - mae: 0.6917 - accuracy: 0.2261 - val_loss: 1.5466 - val_mae: 0.6676 - val_accuracy: 0.4538\n",
      "Epoch 2/20\n",
      "513/513 [==============================] - 0s 789us/step - loss: 1.6048 - mae: 0.6735 - accuracy: 0.4781 - val_loss: 1.5349 - val_mae: 0.6632 - val_accuracy: 0.4979\n",
      "Epoch 3/20\n",
      "513/513 [==============================] - 0s 780us/step - loss: 1.5915 - mae: 0.6709 - accuracy: 0.5435 - val_loss: 1.5233 - val_mae: 0.6616 - val_accuracy: 0.5670\n",
      "Epoch 4/20\n",
      "513/513 [==============================] - 0s 825us/step - loss: 1.5871 - mae: 0.6701 - accuracy: 0.5659 - val_loss: 1.5224 - val_mae: 0.6614 - val_accuracy: 0.5694\n",
      "Epoch 5/20\n",
      "513/513 [==============================] - 0s 806us/step - loss: 1.5863 - mae: 0.6699 - accuracy: 0.5704 - val_loss: 1.5215 - val_mae: 0.6612 - val_accuracy: 0.5799\n",
      "Epoch 6/20\n",
      "513/513 [==============================] - 0s 772us/step - loss: 1.5855 - mae: 0.6698 - accuracy: 0.5736 - val_loss: 1.5208 - val_mae: 0.6612 - val_accuracy: 0.5833\n",
      "Epoch 7/20\n",
      "513/513 [==============================] - 0s 804us/step - loss: 1.5846 - mae: 0.6697 - accuracy: 0.5820 - val_loss: 1.5199 - val_mae: 0.6609 - val_accuracy: 0.5838\n",
      "Epoch 8/20\n",
      "513/513 [==============================] - 0s 807us/step - loss: 1.5836 - mae: 0.6696 - accuracy: 0.5863 - val_loss: 1.5176 - val_mae: 0.6608 - val_accuracy: 0.5960\n",
      "Epoch 9/20\n",
      "513/513 [==============================] - 0s 787us/step - loss: 1.5821 - mae: 0.6694 - accuracy: 0.5945 - val_loss: 1.5167 - val_mae: 0.6606 - val_accuracy: 0.6026\n",
      "Epoch 10/20\n",
      "513/513 [==============================] - 0s 811us/step - loss: 1.5818 - mae: 0.6693 - accuracy: 0.5966 - val_loss: 1.5170 - val_mae: 0.6607 - val_accuracy: 0.5977\n",
      "Epoch 11/20\n",
      "513/513 [==============================] - 0s 790us/step - loss: 1.5814 - mae: 0.6692 - accuracy: 0.5967 - val_loss: 1.5162 - val_mae: 0.6605 - val_accuracy: 0.6021\n",
      "Epoch 12/20\n",
      "513/513 [==============================] - 0s 790us/step - loss: 1.5810 - mae: 0.6692 - accuracy: 0.6015 - val_loss: 1.5163 - val_mae: 0.6608 - val_accuracy: 0.6016\n",
      "Epoch 13/20\n",
      "513/513 [==============================] - 0s 790us/step - loss: 1.5787 - mae: 0.6692 - accuracy: 0.6028 - val_loss: 1.5135 - val_mae: 0.6603 - val_accuracy: 0.6150\n",
      "Epoch 14/20\n",
      "513/513 [==============================] - 0s 844us/step - loss: 1.5775 - mae: 0.6690 - accuracy: 0.6099 - val_loss: 1.5131 - val_mae: 0.6603 - val_accuracy: 0.6211\n",
      "Epoch 15/20\n",
      "513/513 [==============================] - 0s 791us/step - loss: 1.5774 - mae: 0.6689 - accuracy: 0.6116 - val_loss: 1.5139 - val_mae: 0.6604 - val_accuracy: 0.6053\n",
      "Epoch 16/20\n",
      "513/513 [==============================] - 0s 836us/step - loss: 1.5774 - mae: 0.6689 - accuracy: 0.6132 - val_loss: 1.5128 - val_mae: 0.6602 - val_accuracy: 0.6189\n",
      "Epoch 17/20\n",
      "513/513 [==============================] - 0s 832us/step - loss: 1.5767 - mae: 0.6689 - accuracy: 0.6161 - val_loss: 1.5138 - val_mae: 0.6605 - val_accuracy: 0.6116\n",
      "Epoch 18/20\n",
      "513/513 [==============================] - 0s 793us/step - loss: 1.5774 - mae: 0.6689 - accuracy: 0.6114 - val_loss: 1.5126 - val_mae: 0.6602 - val_accuracy: 0.6263\n",
      "Epoch 19/20\n",
      "513/513 [==============================] - 0s 791us/step - loss: 1.5764 - mae: 0.6688 - accuracy: 0.6193 - val_loss: 1.5121 - val_mae: 0.6601 - val_accuracy: 0.6275\n",
      "Epoch 20/20\n",
      "513/513 [==============================] - 0s 756us/step - loss: 1.5760 - mae: 0.6687 - accuracy: 0.6219 - val_loss: 1.5120 - val_mae: 0.6601 - val_accuracy: 0.6258\n"
     ]
    },
    {
     "data": {
      "application/javascript": [
       "\n",
       "            setTimeout(function() {\n",
       "                var nbb_cell_id = 34;\n",
       "                var nbb_unformatted_code = \"history = deep_autoencoder_model.fit(\\n    X_train,\\n    X_train,\\n    batch_size=BATCH_SIZE,\\n    epochs=EPOCHS,\\n    verbose=1,\\n    shuffle=True,\\n    validation_data=(X_test, X_test),\\n)\";\n",
       "                var nbb_formatted_code = \"history = deep_autoencoder_model.fit(\\n    X_train,\\n    X_train,\\n    batch_size=BATCH_SIZE,\\n    epochs=EPOCHS,\\n    verbose=1,\\n    shuffle=True,\\n    validation_data=(X_test, X_test),\\n)\";\n",
       "                var nbb_cells = Jupyter.notebook.get_cells();\n",
       "                for (var i = 0; i < nbb_cells.length; ++i) {\n",
       "                    if (nbb_cells[i].input_prompt_number == nbb_cell_id) {\n",
       "                        if (nbb_cells[i].get_text() == nbb_unformatted_code) {\n",
       "                             nbb_cells[i].set_text(nbb_formatted_code);\n",
       "                        }\n",
       "                        break;\n",
       "                    }\n",
       "                }\n",
       "            }, 500);\n",
       "            "
      ],
      "text/plain": [
       "<IPython.core.display.Javascript object>"
      ]
     },
     "metadata": {},
     "output_type": "display_data"
    }
   ],
   "source": [
    "history = deep_autoencoder_model.fit(\n",
    "    X_train,\n",
    "    X_train,\n",
    "    batch_size=BATCH_SIZE,\n",
    "    epochs=EPOCHS,\n",
    "    verbose=1,\n",
    "    shuffle=True,\n",
    "    validation_data=(X_test, X_test),\n",
    ")"
   ]
  },
  {
   "cell_type": "markdown",
   "metadata": {},
   "source": [
    "### Evaluate Model"
   ]
  },
  {
   "cell_type": "code",
   "execution_count": 35,
   "metadata": {},
   "outputs": [
    {
     "name": "stdout",
     "output_type": "stream",
     "text": [
      "129/129 [==============================] - 0s 550us/step - loss: 1.5120 - mae: 0.6601 - accuracy: 0.6258\n"
     ]
    },
    {
     "data": {
      "application/javascript": [
       "\n",
       "            setTimeout(function() {\n",
       "                var nbb_cell_id = 35;\n",
       "                var nbb_unformatted_code = \"score = deep_autoencoder_model.evaluate(X_test, X_test, verbose=1)\";\n",
       "                var nbb_formatted_code = \"score = deep_autoencoder_model.evaluate(X_test, X_test, verbose=1)\";\n",
       "                var nbb_cells = Jupyter.notebook.get_cells();\n",
       "                for (var i = 0; i < nbb_cells.length; ++i) {\n",
       "                    if (nbb_cells[i].input_prompt_number == nbb_cell_id) {\n",
       "                        if (nbb_cells[i].get_text() == nbb_unformatted_code) {\n",
       "                             nbb_cells[i].set_text(nbb_formatted_code);\n",
       "                        }\n",
       "                        break;\n",
       "                    }\n",
       "                }\n",
       "            }, 500);\n",
       "            "
      ],
      "text/plain": [
       "<IPython.core.display.Javascript object>"
      ]
     },
     "metadata": {},
     "output_type": "display_data"
    }
   ],
   "source": [
    "score = deep_autoencoder_model.evaluate(X_test, X_test, verbose=1)"
   ]
  },
  {
   "cell_type": "code",
   "execution_count": 36,
   "metadata": {},
   "outputs": [
    {
     "name": "stdout",
     "output_type": "stream",
     "text": [
      "Test Loss: 1.5120269060134888\n",
      "Test Accuracy: 0.625762403011322\n"
     ]
    },
    {
     "data": {
      "application/javascript": [
       "\n",
       "            setTimeout(function() {\n",
       "                var nbb_cell_id = 36;\n",
       "                var nbb_unformatted_code = \"print(\\\"Test Loss:\\\", score[0])\\nprint(\\\"Test Accuracy:\\\", score[2])\";\n",
       "                var nbb_formatted_code = \"print(\\\"Test Loss:\\\", score[0])\\nprint(\\\"Test Accuracy:\\\", score[2])\";\n",
       "                var nbb_cells = Jupyter.notebook.get_cells();\n",
       "                for (var i = 0; i < nbb_cells.length; ++i) {\n",
       "                    if (nbb_cells[i].input_prompt_number == nbb_cell_id) {\n",
       "                        if (nbb_cells[i].get_text() == nbb_unformatted_code) {\n",
       "                             nbb_cells[i].set_text(nbb_formatted_code);\n",
       "                        }\n",
       "                        break;\n",
       "                    }\n",
       "                }\n",
       "            }, 500);\n",
       "            "
      ],
      "text/plain": [
       "<IPython.core.display.Javascript object>"
      ]
     },
     "metadata": {},
     "output_type": "display_data"
    }
   ],
   "source": [
    "print(\"Test Loss:\", score[0])\n",
    "print(\"Test Accuracy:\", score[2])"
   ]
  },
  {
   "cell_type": "code",
   "execution_count": 37,
   "metadata": {},
   "outputs": [
    {
     "data": {
      "application/javascript": [
       "\n",
       "            setTimeout(function() {\n",
       "                var nbb_cell_id = 37;\n",
       "                var nbb_unformatted_code = \"THRESHOLD = 15.0\";\n",
       "                var nbb_formatted_code = \"THRESHOLD = 15.0\";\n",
       "                var nbb_cells = Jupyter.notebook.get_cells();\n",
       "                for (var i = 0; i < nbb_cells.length; ++i) {\n",
       "                    if (nbb_cells[i].input_prompt_number == nbb_cell_id) {\n",
       "                        if (nbb_cells[i].get_text() == nbb_unformatted_code) {\n",
       "                             nbb_cells[i].set_text(nbb_formatted_code);\n",
       "                        }\n",
       "                        break;\n",
       "                    }\n",
       "                }\n",
       "            }, 500);\n",
       "            "
      ],
      "text/plain": [
       "<IPython.core.display.Javascript object>"
      ]
     },
     "metadata": {},
     "output_type": "display_data"
    }
   ],
   "source": [
    "THRESHOLD = 15.0"
   ]
  },
  {
   "cell_type": "markdown",
   "metadata": {},
   "source": [
    "#### Visualize errors"
   ]
  },
  {
   "cell_type": "code",
   "execution_count": 38,
   "metadata": {},
   "outputs": [
    {
     "data": {
      "application/javascript": [
       "\n",
       "            setTimeout(function() {\n",
       "                var nbb_cell_id = 38;\n",
       "                var nbb_unformatted_code = \"y_label, errors = generate_labels(deep_autoencoder_model, X_test)\";\n",
       "                var nbb_formatted_code = \"y_label, errors = generate_labels(deep_autoencoder_model, X_test)\";\n",
       "                var nbb_cells = Jupyter.notebook.get_cells();\n",
       "                for (var i = 0; i < nbb_cells.length; ++i) {\n",
       "                    if (nbb_cells[i].input_prompt_number == nbb_cell_id) {\n",
       "                        if (nbb_cells[i].get_text() == nbb_unformatted_code) {\n",
       "                             nbb_cells[i].set_text(nbb_formatted_code);\n",
       "                        }\n",
       "                        break;\n",
       "                    }\n",
       "                }\n",
       "            }, 500);\n",
       "            "
      ],
      "text/plain": [
       "<IPython.core.display.Javascript object>"
      ]
     },
     "metadata": {},
     "output_type": "display_data"
    }
   ],
   "source": [
    "y_label, errors = generate_labels(deep_autoencoder_model, X_test)"
   ]
  },
  {
   "cell_type": "code",
   "execution_count": 39,
   "metadata": {},
   "outputs": [
    {
     "name": "stdout",
     "output_type": "stream",
     "text": [
      "              precision    recall  f1-score   support\n",
      "\n",
      "           0       0.99      0.99      0.99      4001\n",
      "           1       0.61      0.60      0.61        98\n",
      "\n",
      "    accuracy                           0.98      4099\n",
      "   macro avg       0.80      0.80      0.80      4099\n",
      "weighted avg       0.98      0.98      0.98      4099\n",
      "\n"
     ]
    },
    {
     "data": {
      "application/javascript": [
       "\n",
       "            setTimeout(function() {\n",
       "                var nbb_cell_id = 39;\n",
       "                var nbb_unformatted_code = \"print(classification_report(y_test, y_label))\";\n",
       "                var nbb_formatted_code = \"print(classification_report(y_test, y_label))\";\n",
       "                var nbb_cells = Jupyter.notebook.get_cells();\n",
       "                for (var i = 0; i < nbb_cells.length; ++i) {\n",
       "                    if (nbb_cells[i].input_prompt_number == nbb_cell_id) {\n",
       "                        if (nbb_cells[i].get_text() == nbb_unformatted_code) {\n",
       "                             nbb_cells[i].set_text(nbb_formatted_code);\n",
       "                        }\n",
       "                        break;\n",
       "                    }\n",
       "                }\n",
       "            }, 500);\n",
       "            "
      ],
      "text/plain": [
       "<IPython.core.display.Javascript object>"
      ]
     },
     "metadata": {},
     "output_type": "display_data"
    }
   ],
   "source": [
    "print(classification_report(y_test, y_label))"
   ]
  },
  {
   "cell_type": "code",
   "execution_count": 40,
   "metadata": {},
   "outputs": [
    {
     "data": {
      "text/plain": [
       "0.796396564124275"
      ]
     },
     "execution_count": 40,
     "metadata": {},
     "output_type": "execute_result"
    },
    {
     "data": {
      "application/javascript": [
       "\n",
       "            setTimeout(function() {\n",
       "                var nbb_cell_id = 40;\n",
       "                var nbb_unformatted_code = \"roc_auc_score(y_test, y_label)\";\n",
       "                var nbb_formatted_code = \"roc_auc_score(y_test, y_label)\";\n",
       "                var nbb_cells = Jupyter.notebook.get_cells();\n",
       "                for (var i = 0; i < nbb_cells.length; ++i) {\n",
       "                    if (nbb_cells[i].input_prompt_number == nbb_cell_id) {\n",
       "                        if (nbb_cells[i].get_text() == nbb_unformatted_code) {\n",
       "                             nbb_cells[i].set_text(nbb_formatted_code);\n",
       "                        }\n",
       "                        break;\n",
       "                    }\n",
       "                }\n",
       "            }, 500);\n",
       "            "
      ],
      "text/plain": [
       "<IPython.core.display.Javascript object>"
      ]
     },
     "metadata": {},
     "output_type": "display_data"
    }
   ],
   "source": [
    "roc_auc_score(y_test, y_label)"
   ]
  },
  {
   "cell_type": "code",
   "execution_count": 41,
   "metadata": {},
   "outputs": [
    {
     "data": {
      "image/png": "[encoded data removed]",
      "text/plain": [
       "<Figure size 720x576 with 2 Axes>"
      ]
     },
     "metadata": {
      "needs_background": "light"
     },
     "output_type": "display_data"
    },
    {
     "data": {
      "application/javascript": [
       "\n",
       "            setTimeout(function() {\n",
       "                var nbb_cell_id = 41;\n",
       "                var nbb_unformatted_code = \"VisualizationHelper().draw_confusion_matrix(y_test, y_label)\";\n",
       "                var nbb_formatted_code = \"VisualizationHelper().draw_confusion_matrix(y_test, y_label)\";\n",
       "                var nbb_cells = Jupyter.notebook.get_cells();\n",
       "                for (var i = 0; i < nbb_cells.length; ++i) {\n",
       "                    if (nbb_cells[i].input_prompt_number == nbb_cell_id) {\n",
       "                        if (nbb_cells[i].get_text() == nbb_unformatted_code) {\n",
       "                             nbb_cells[i].set_text(nbb_formatted_code);\n",
       "                        }\n",
       "                        break;\n",
       "                    }\n",
       "                }\n",
       "            }, 500);\n",
       "            "
      ],
      "text/plain": [
       "<IPython.core.display.Javascript object>"
      ]
     },
     "metadata": {},
     "output_type": "display_data"
    }
   ],
   "source": [
    "VisualizationHelper().draw_confusion_matrix(y_test, y_label)"
   ]
  },
  {
   "cell_type": "code",
   "execution_count": 42,
   "metadata": {},
   "outputs": [
    {
     "data": {
      "image/png": "[encoded data removed]",
      "text/plain": [
       "<Figure size 864x576 with 1 Axes>"
      ]
     },
     "metadata": {
      "needs_background": "light"
     },
     "output_type": "display_data"
    },
    {
     "data": {
      "application/javascript": [
       "\n",
       "            setTimeout(function() {\n",
       "                var nbb_cell_id = 42;\n",
       "                var nbb_unformatted_code = \"VisualizationHelper().draw_anomaly(y_test, errors, THRESHOLD)\";\n",
       "                var nbb_formatted_code = \"VisualizationHelper().draw_anomaly(y_test, errors, THRESHOLD)\";\n",
       "                var nbb_cells = Jupyter.notebook.get_cells();\n",
       "                for (var i = 0; i < nbb_cells.length; ++i) {\n",
       "                    if (nbb_cells[i].input_prompt_number == nbb_cell_id) {\n",
       "                        if (nbb_cells[i].get_text() == nbb_unformatted_code) {\n",
       "                             nbb_cells[i].set_text(nbb_formatted_code);\n",
       "                        }\n",
       "                        break;\n",
       "                    }\n",
       "                }\n",
       "            }, 500);\n",
       "            "
      ],
      "text/plain": [
       "<IPython.core.display.Javascript object>"
      ]
     },
     "metadata": {},
     "output_type": "display_data"
    }
   ],
   "source": [
    "VisualizationHelper().draw_anomaly(y_test, errors, THRESHOLD)"
   ]
  },
  {
   "cell_type": "markdown",
   "metadata": {},
   "source": [
    "## Variational Auto Encoders"
   ]
  },
  {
   "cell_type": "code",
   "execution_count": 43,
   "metadata": {},
   "outputs": [
    {
     "data": {
      "application/javascript": [
       "\n",
       "            setTimeout(function() {\n",
       "                var nbb_cell_id = 43;\n",
       "                var nbb_unformatted_code = \"from tensorflow.keras import backend as K\";\n",
       "                var nbb_formatted_code = \"from tensorflow.keras import backend as K\";\n",
       "                var nbb_cells = Jupyter.notebook.get_cells();\n",
       "                for (var i = 0; i < nbb_cells.length; ++i) {\n",
       "                    if (nbb_cells[i].input_prompt_number == nbb_cell_id) {\n",
       "                        if (nbb_cells[i].get_text() == nbb_unformatted_code) {\n",
       "                             nbb_cells[i].set_text(nbb_formatted_code);\n",
       "                        }\n",
       "                        break;\n",
       "                    }\n",
       "                }\n",
       "            }, 500);\n",
       "            "
      ],
      "text/plain": [
       "<IPython.core.display.Javascript object>"
      ]
     },
     "metadata": {},
     "output_type": "display_data"
    }
   ],
   "source": [
    "from tensorflow.keras import backend as K\n"
   ]
  },
  {
   "cell_type": "code",
   "execution_count": 44,
   "metadata": {},
   "outputs": [
    {
     "data": {
      "application/javascript": [
       "\n",
       "            setTimeout(function() {\n",
       "                var nbb_cell_id = 44;\n",
       "                var nbb_unformatted_code = \"original_dim = X_train.shape[1]\\n\\ninput_shape = (original_dim,)\\nintermediate_dim = 12\\nlatent_dim = 2\\n\\ninputs = Input(shape=input_shape, name=\\\"encoder_input\\\")\\nx = Dense(intermediate_dim, activation=\\\"relu\\\")(inputs)\\nz_mean = Dense(latent_dim, name=\\\"z_mean\\\")(x)\\nz_log_var = Dense(latent_dim, name=\\\"z_log_var\\\")(x)\";\n",
       "                var nbb_formatted_code = \"original_dim = X_train.shape[1]\\n\\ninput_shape = (original_dim,)\\nintermediate_dim = 12\\nlatent_dim = 2\\n\\ninputs = Input(shape=input_shape, name=\\\"encoder_input\\\")\\nx = Dense(intermediate_dim, activation=\\\"relu\\\")(inputs)\\nz_mean = Dense(latent_dim, name=\\\"z_mean\\\")(x)\\nz_log_var = Dense(latent_dim, name=\\\"z_log_var\\\")(x)\";\n",
       "                var nbb_cells = Jupyter.notebook.get_cells();\n",
       "                for (var i = 0; i < nbb_cells.length; ++i) {\n",
       "                    if (nbb_cells[i].input_prompt_number == nbb_cell_id) {\n",
       "                        if (nbb_cells[i].get_text() == nbb_unformatted_code) {\n",
       "                             nbb_cells[i].set_text(nbb_formatted_code);\n",
       "                        }\n",
       "                        break;\n",
       "                    }\n",
       "                }\n",
       "            }, 500);\n",
       "            "
      ],
      "text/plain": [
       "<IPython.core.display.Javascript object>"
      ]
     },
     "metadata": {},
     "output_type": "display_data"
    }
   ],
   "source": [
    "original_dim = X_train.shape[1]\n",
    "\n",
    "input_shape = (original_dim,)\n",
    "intermediate_dim = 12\n",
    "latent_dim = 2\n",
    "\n",
    "inputs = Input(shape=input_shape, name=\"encoder_input\")\n",
    "x = Dense(intermediate_dim, activation=\"relu\")(inputs)\n",
    "z_mean = Dense(latent_dim, name=\"z_mean\")(x)\n",
    "z_log_var = Dense(latent_dim, name=\"z_log_var\")(x)"
   ]
  },
  {
   "cell_type": "code",
   "execution_count": 45,
   "metadata": {},
   "outputs": [
    {
     "data": {
      "application/javascript": [
       "\n",
       "            setTimeout(function() {\n",
       "                var nbb_cell_id = 45;\n",
       "                var nbb_unformatted_code = \"from tensorflow.keras import backend as K\\n\\n\\ndef sampling(args):\\n    z_mean, z_log_sigma = args\\n    epsilon = K.random_normal(\\n        shape=(K.shape(z_mean)[0], latent_dim), mean=0.0, stddev=0.1\\n    )\\n    return z_mean + K.exp(z_log_sigma) * epsilon\\n\\n\\nz = Lambda(sampling, output_shape=(latent_dim,), name=\\\"z\\\")([z_mean, z_log_var])\";\n",
       "                var nbb_formatted_code = \"from tensorflow.keras import backend as K\\n\\n\\ndef sampling(args):\\n    z_mean, z_log_sigma = args\\n    epsilon = K.random_normal(\\n        shape=(K.shape(z_mean)[0], latent_dim), mean=0.0, stddev=0.1\\n    )\\n    return z_mean + K.exp(z_log_sigma) * epsilon\\n\\n\\nz = Lambda(sampling, output_shape=(latent_dim,), name=\\\"z\\\")([z_mean, z_log_var])\";\n",
       "                var nbb_cells = Jupyter.notebook.get_cells();\n",
       "                for (var i = 0; i < nbb_cells.length; ++i) {\n",
       "                    if (nbb_cells[i].input_prompt_number == nbb_cell_id) {\n",
       "                        if (nbb_cells[i].get_text() == nbb_unformatted_code) {\n",
       "                             nbb_cells[i].set_text(nbb_formatted_code);\n",
       "                        }\n",
       "                        break;\n",
       "                    }\n",
       "                }\n",
       "            }, 500);\n",
       "            "
      ],
      "text/plain": [
       "<IPython.core.display.Javascript object>"
      ]
     },
     "metadata": {},
     "output_type": "display_data"
    }
   ],
   "source": [
    "from tensorflow.keras import backend as K\n",
    "\n",
    "\n",
    "def sampling(args):\n",
    "    z_mean, z_log_sigma = args\n",
    "    epsilon = K.random_normal(\n",
    "        shape=(K.shape(z_mean)[0], latent_dim), mean=0.0, stddev=0.1\n",
    "    )\n",
    "    return z_mean + K.exp(z_log_sigma) * epsilon\n",
    "\n",
    "\n",
    "z = Lambda(sampling, output_shape=(latent_dim,), name=\"z\")([z_mean, z_log_var])"
   ]
  },
  {
   "cell_type": "markdown",
   "metadata": {},
   "source": [
    "#### Create Model"
   ]
  },
  {
   "cell_type": "code",
   "execution_count": 46,
   "metadata": {},
   "outputs": [
    {
     "name": "stdout",
     "output_type": "stream",
     "text": [
      "Model: \"encoder\"\n",
      "__________________________________________________________________________________________________\n",
      "Layer (type)                    Output Shape         Param #     Connected to                     \n",
      "==================================================================================================\n",
      "encoder_input (InputLayer)      [(None, 29)]         0                                            \n",
      "__________________________________________________________________________________________________\n",
      "dense_8 (Dense)                 (None, 12)           360         encoder_input[0][0]              \n",
      "__________________________________________________________________________________________________\n",
      "z_mean (Dense)                  (None, 2)            26          dense_8[0][0]                    \n",
      "__________________________________________________________________________________________________\n",
      "z_log_var (Dense)               (None, 2)            26          dense_8[0][0]                    \n",
      "__________________________________________________________________________________________________\n",
      "z (Lambda)                      (None, 2)            0           z_mean[0][0]                     \n",
      "                                                                 z_log_var[0][0]                  \n",
      "==================================================================================================\n",
      "Total params: 412\n",
      "Trainable params: 412\n",
      "Non-trainable params: 0\n",
      "__________________________________________________________________________________________________\n"
     ]
    },
    {
     "data": {
      "application/javascript": [
       "\n",
       "            setTimeout(function() {\n",
       "                var nbb_cell_id = 46;\n",
       "                var nbb_unformatted_code = \"# Create encoder\\nencoder = Model(inputs, [z_mean, z_log_var, z], name=\\\"encoder\\\")\\n\\nencoder.summary()\";\n",
       "                var nbb_formatted_code = \"# Create encoder\\nencoder = Model(inputs, [z_mean, z_log_var, z], name=\\\"encoder\\\")\\n\\nencoder.summary()\";\n",
       "                var nbb_cells = Jupyter.notebook.get_cells();\n",
       "                for (var i = 0; i < nbb_cells.length; ++i) {\n",
       "                    if (nbb_cells[i].input_prompt_number == nbb_cell_id) {\n",
       "                        if (nbb_cells[i].get_text() == nbb_unformatted_code) {\n",
       "                             nbb_cells[i].set_text(nbb_formatted_code);\n",
       "                        }\n",
       "                        break;\n",
       "                    }\n",
       "                }\n",
       "            }, 500);\n",
       "            "
      ],
      "text/plain": [
       "<IPython.core.display.Javascript object>"
      ]
     },
     "metadata": {},
     "output_type": "display_data"
    }
   ],
   "source": [
    "# Create encoder\n",
    "encoder = Model(inputs, [z_mean, z_log_var, z], name=\"encoder\")\n",
    "\n",
    "encoder.summary()"
   ]
  },
  {
   "cell_type": "code",
   "execution_count": 48,
   "metadata": {},
   "outputs": [
    {
     "name": "stdout",
     "output_type": "stream",
     "text": [
      "Model: \"decoder\"\n",
      "_________________________________________________________________\n",
      "Layer (type)                 Output Shape              Param #   \n",
      "=================================================================\n",
      "z_sampling (InputLayer)      [(None, 2)]               0         \n",
      "_________________________________________________________________\n",
      "dense_11 (Dense)             (None, 12)                36        \n",
      "_________________________________________________________________\n",
      "dense_12 (Dense)             (None, 29)                377       \n",
      "=================================================================\n",
      "Total params: 413\n",
      "Trainable params: 413\n",
      "Non-trainable params: 0\n",
      "_________________________________________________________________\n"
     ]
    },
    {
     "data": {
      "application/javascript": [
       "\n",
       "            setTimeout(function() {\n",
       "                var nbb_cell_id = 48;\n",
       "                var nbb_unformatted_code = \"# Create decoder\\nlatent_inputs = Input(shape=(latent_dim,), name=\\\"z_sampling\\\")\\nx = Dense(intermediate_dim, activation=\\\"relu\\\")(latent_inputs)\\noutputs = Dense(original_dim, activation=\\\"sigmoid\\\")(x)\\ndecoder = Model(latent_inputs, outputs, name=\\\"decoder\\\")\\n\\ndecoder.summary()\";\n",
       "                var nbb_formatted_code = \"# Create decoder\\nlatent_inputs = Input(shape=(latent_dim,), name=\\\"z_sampling\\\")\\nx = Dense(intermediate_dim, activation=\\\"relu\\\")(latent_inputs)\\noutputs = Dense(original_dim, activation=\\\"sigmoid\\\")(x)\\ndecoder = Model(latent_inputs, outputs, name=\\\"decoder\\\")\\n\\ndecoder.summary()\";\n",
       "                var nbb_cells = Jupyter.notebook.get_cells();\n",
       "                for (var i = 0; i < nbb_cells.length; ++i) {\n",
       "                    if (nbb_cells[i].input_prompt_number == nbb_cell_id) {\n",
       "                        if (nbb_cells[i].get_text() == nbb_unformatted_code) {\n",
       "                             nbb_cells[i].set_text(nbb_formatted_code);\n",
       "                        }\n",
       "                        break;\n",
       "                    }\n",
       "                }\n",
       "            }, 500);\n",
       "            "
      ],
      "text/plain": [
       "<IPython.core.display.Javascript object>"
      ]
     },
     "metadata": {},
     "output_type": "display_data"
    }
   ],
   "source": [
    "# Create decoder\n",
    "latent_inputs = Input(shape=(latent_dim,), name=\"z_sampling\")\n",
    "x = Dense(intermediate_dim, activation=\"relu\")(latent_inputs)\n",
    "outputs = Dense(original_dim, activation=\"sigmoid\")(x)\n",
    "decoder = Model(latent_inputs, outputs, name=\"decoder\")\n",
    "\n",
    "decoder.summary()"
   ]
  },
  {
   "cell_type": "code",
   "execution_count": 49,
   "metadata": {},
   "outputs": [
    {
     "data": {
      "application/javascript": [
       "\n",
       "            setTimeout(function() {\n",
       "                var nbb_cell_id = 49;\n",
       "                var nbb_unformatted_code = \"# instantiate VAE model\\noutputs = decoder(encoder(inputs)[2])\\nvae = Model(inputs, outputs, name=\\\"vae_mlp\\\")\";\n",
       "                var nbb_formatted_code = \"# instantiate VAE model\\noutputs = decoder(encoder(inputs)[2])\\nvae = Model(inputs, outputs, name=\\\"vae_mlp\\\")\";\n",
       "                var nbb_cells = Jupyter.notebook.get_cells();\n",
       "                for (var i = 0; i < nbb_cells.length; ++i) {\n",
       "                    if (nbb_cells[i].input_prompt_number == nbb_cell_id) {\n",
       "                        if (nbb_cells[i].get_text() == nbb_unformatted_code) {\n",
       "                             nbb_cells[i].set_text(nbb_formatted_code);\n",
       "                        }\n",
       "                        break;\n",
       "                    }\n",
       "                }\n",
       "            }, 500);\n",
       "            "
      ],
      "text/plain": [
       "<IPython.core.display.Javascript object>"
      ]
     },
     "metadata": {},
     "output_type": "display_data"
    }
   ],
   "source": [
    "# instantiate VAE model\n",
    "outputs = decoder(encoder(inputs)[2])\n",
    "vae = Model(inputs, outputs, name=\"vae_mlp\")"
   ]
  },
  {
   "cell_type": "code",
   "execution_count": 50,
   "metadata": {},
   "outputs": [
    {
     "data": {
      "application/javascript": [
       "\n",
       "            setTimeout(function() {\n",
       "                var nbb_cell_id = 50;\n",
       "                var nbb_unformatted_code = \"reconstruction_loss = keras.losses.mse(inputs, outputs)\\nreconstruction_loss *= original_dim\";\n",
       "                var nbb_formatted_code = \"reconstruction_loss = keras.losses.mse(inputs, outputs)\\nreconstruction_loss *= original_dim\";\n",
       "                var nbb_cells = Jupyter.notebook.get_cells();\n",
       "                for (var i = 0; i < nbb_cells.length; ++i) {\n",
       "                    if (nbb_cells[i].input_prompt_number == nbb_cell_id) {\n",
       "                        if (nbb_cells[i].get_text() == nbb_unformatted_code) {\n",
       "                             nbb_cells[i].set_text(nbb_formatted_code);\n",
       "                        }\n",
       "                        break;\n",
       "                    }\n",
       "                }\n",
       "            }, 500);\n",
       "            "
      ],
      "text/plain": [
       "<IPython.core.display.Javascript object>"
      ]
     },
     "metadata": {},
     "output_type": "display_data"
    }
   ],
   "source": [
    "reconstruction_loss = keras.losses.mse(inputs, outputs)\n",
    "reconstruction_loss *= original_dim"
   ]
  },
  {
   "cell_type": "code",
   "execution_count": 51,
   "metadata": {},
   "outputs": [
    {
     "data": {
      "application/javascript": [
       "\n",
       "            setTimeout(function() {\n",
       "                var nbb_cell_id = 51;\n",
       "                var nbb_unformatted_code = \"# loss function: the sum of a reconstruction term, and the KL divergence regularization term.\\n\\nkl_loss = 1 + z_log_var - K.square(z_mean) - K.exp(z_log_var)\\nkl_loss = K.sum(kl_loss, axis=-1)\\nkl_loss *= -0.5\\nvae_loss = K.mean(reconstruction_loss + kl_loss)\\nvae.add_loss(vae_loss)\";\n",
       "                var nbb_formatted_code = \"# loss function: the sum of a reconstruction term, and the KL divergence regularization term.\\n\\nkl_loss = 1 + z_log_var - K.square(z_mean) - K.exp(z_log_var)\\nkl_loss = K.sum(kl_loss, axis=-1)\\nkl_loss *= -0.5\\nvae_loss = K.mean(reconstruction_loss + kl_loss)\\nvae.add_loss(vae_loss)\";\n",
       "                var nbb_cells = Jupyter.notebook.get_cells();\n",
       "                for (var i = 0; i < nbb_cells.length; ++i) {\n",
       "                    if (nbb_cells[i].input_prompt_number == nbb_cell_id) {\n",
       "                        if (nbb_cells[i].get_text() == nbb_unformatted_code) {\n",
       "                             nbb_cells[i].set_text(nbb_formatted_code);\n",
       "                        }\n",
       "                        break;\n",
       "                    }\n",
       "                }\n",
       "            }, 500);\n",
       "            "
      ],
      "text/plain": [
       "<IPython.core.display.Javascript object>"
      ]
     },
     "metadata": {},
     "output_type": "display_data"
    }
   ],
   "source": [
    "# loss function: the sum of a reconstruction term, and the KL divergence regularization term.\n",
    "\n",
    "kl_loss = 1 + z_log_var - K.square(z_mean) - K.exp(z_log_var)\n",
    "kl_loss = K.sum(kl_loss, axis=-1)\n",
    "kl_loss *= -0.5\n",
    "vae_loss = K.mean(reconstruction_loss + kl_loss)\n",
    "vae.add_loss(vae_loss)"
   ]
  },
  {
   "cell_type": "code",
   "execution_count": 52,
   "metadata": {},
   "outputs": [
    {
     "name": "stdout",
     "output_type": "stream",
     "text": [
      "Model: \"vae_mlp\"\n",
      "__________________________________________________________________________________________________\n",
      "Layer (type)                    Output Shape         Param #     Connected to                     \n",
      "==================================================================================================\n",
      "encoder_input (InputLayer)      [(None, 29)]         0                                            \n",
      "__________________________________________________________________________________________________\n",
      "encoder (Functional)            [(None, 2), (None, 2 412         encoder_input[0][0]              \n",
      "__________________________________________________________________________________________________\n",
      "decoder (Functional)            (None, 29)           413         encoder[0][2]                    \n",
      "__________________________________________________________________________________________________\n",
      "dense_8 (Dense)                 (None, 12)           360         encoder_input[0][0]              \n",
      "__________________________________________________________________________________________________\n",
      "z_log_var (Dense)               (None, 2)            26          dense_8[0][0]                    \n",
      "__________________________________________________________________________________________________\n",
      "z_mean (Dense)                  (None, 2)            26          dense_8[0][0]                    \n",
      "__________________________________________________________________________________________________\n",
      "tf_op_layer_AddV2 (TensorFlowOp [(None, 2)]          0           z_log_var[0][0]                  \n",
      "__________________________________________________________________________________________________\n",
      "tf_op_layer_Square (TensorFlowO [(None, 2)]          0           z_mean[0][0]                     \n",
      "__________________________________________________________________________________________________\n",
      "tf_op_layer_Sub (TensorFlowOpLa [(None, 2)]          0           tf_op_layer_AddV2[0][0]          \n",
      "                                                                 tf_op_layer_Square[0][0]         \n",
      "__________________________________________________________________________________________________\n",
      "tf_op_layer_Exp (TensorFlowOpLa [(None, 2)]          0           z_log_var[0][0]                  \n",
      "__________________________________________________________________________________________________\n",
      "tf_op_layer_SquaredDifference ( [(None, 29)]         0           decoder[0][0]                    \n",
      "                                                                 encoder_input[0][0]              \n",
      "__________________________________________________________________________________________________\n",
      "tf_op_layer_Sub_1 (TensorFlowOp [(None, 2)]          0           tf_op_layer_Sub[0][0]            \n",
      "                                                                 tf_op_layer_Exp[0][0]            \n",
      "__________________________________________________________________________________________________\n",
      "tf_op_layer_Mean (TensorFlowOpL [(None,)]            0           tf_op_layer_SquaredDifference[0][\n",
      "__________________________________________________________________________________________________\n",
      "tf_op_layer_Sum (TensorFlowOpLa [(None,)]            0           tf_op_layer_Sub_1[0][0]          \n",
      "__________________________________________________________________________________________________\n",
      "tf_op_layer_Mul (TensorFlowOpLa [(None,)]            0           tf_op_layer_Mean[0][0]           \n",
      "__________________________________________________________________________________________________\n",
      "tf_op_layer_Mul_1 (TensorFlowOp [(None,)]            0           tf_op_layer_Sum[0][0]            \n",
      "__________________________________________________________________________________________________\n",
      "tf_op_layer_AddV2_1 (TensorFlow [(None,)]            0           tf_op_layer_Mul[0][0]            \n",
      "                                                                 tf_op_layer_Mul_1[0][0]          \n",
      "__________________________________________________________________________________________________\n",
      "tf_op_layer_Mean_1 (TensorFlowO [()]                 0           tf_op_layer_AddV2_1[0][0]        \n",
      "__________________________________________________________________________________________________\n",
      "add_loss (AddLoss)              ()                   0           tf_op_layer_Mean_1[0][0]         \n",
      "==================================================================================================\n",
      "Total params: 825\n",
      "Trainable params: 825\n",
      "Non-trainable params: 0\n",
      "__________________________________________________________________________________________________\n"
     ]
    },
    {
     "data": {
      "application/javascript": [
       "\n",
       "            setTimeout(function() {\n",
       "                var nbb_cell_id = 52;\n",
       "                var nbb_unformatted_code = \"vae.compile(optimizer=\\\"adam\\\", loss=\\\"mse\\\", metrics=[\\\"accuracy\\\"])\\n\\nvae.summary()\";\n",
       "                var nbb_formatted_code = \"vae.compile(optimizer=\\\"adam\\\", loss=\\\"mse\\\", metrics=[\\\"accuracy\\\"])\\n\\nvae.summary()\";\n",
       "                var nbb_cells = Jupyter.notebook.get_cells();\n",
       "                for (var i = 0; i < nbb_cells.length; ++i) {\n",
       "                    if (nbb_cells[i].input_prompt_number == nbb_cell_id) {\n",
       "                        if (nbb_cells[i].get_text() == nbb_unformatted_code) {\n",
       "                             nbb_cells[i].set_text(nbb_formatted_code);\n",
       "                        }\n",
       "                        break;\n",
       "                    }\n",
       "                }\n",
       "            }, 500);\n",
       "            "
      ],
      "text/plain": [
       "<IPython.core.display.Javascript object>"
      ]
     },
     "metadata": {},
     "output_type": "display_data"
    }
   ],
   "source": [
    "vae.compile(optimizer=\"adam\", loss=\"mse\", metrics=[\"accuracy\"])\n",
    "\n",
    "vae.summary()"
   ]
  },
  {
   "cell_type": "markdown",
   "metadata": {},
   "source": [
    "#### Train Model"
   ]
  },
  {
   "cell_type": "code",
   "execution_count": 53,
   "metadata": {},
   "outputs": [
    {
     "name": "stdout",
     "output_type": "stream",
     "text": [
      "Epoch 1/20\n",
      "513/513 [==============================] - 1s 985us/step - loss: 54.6646 - accuracy: 0.1811 - val_loss: 48.9446 - val_accuracy: 0.2588\n",
      "Epoch 2/20\n",
      "513/513 [==============================] - 0s 829us/step - loss: 50.1414 - accuracy: 0.2669 - val_loss: 47.5803 - val_accuracy: 0.3023\n",
      "Epoch 3/20\n",
      "513/513 [==============================] - 0s 805us/step - loss: 49.1086 - accuracy: 0.3048 - val_loss: 46.8387 - val_accuracy: 0.3264\n",
      "Epoch 4/20\n",
      "513/513 [==============================] - 0s 804us/step - loss: 48.5409 - accuracy: 0.3218 - val_loss: 46.3848 - val_accuracy: 0.3369\n",
      "Epoch 5/20\n",
      "513/513 [==============================] - 0s 814us/step - loss: 48.1097 - accuracy: 0.3332 - val_loss: 46.0031 - val_accuracy: 0.3464\n",
      "Epoch 6/20\n",
      "513/513 [==============================] - 0s 862us/step - loss: 47.7748 - accuracy: 0.3442 - val_loss: 45.7590 - val_accuracy: 0.3569\n",
      "Epoch 7/20\n",
      "513/513 [==============================] - 0s 824us/step - loss: 47.5256 - accuracy: 0.3566 - val_loss: 45.5431 - val_accuracy: 0.3740\n",
      "Epoch 8/20\n",
      "513/513 [==============================] - 0s 814us/step - loss: 47.3481 - accuracy: 0.3679 - val_loss: 45.4589 - val_accuracy: 0.3769\n",
      "Epoch 9/20\n",
      "513/513 [==============================] - 0s 794us/step - loss: 47.2325 - accuracy: 0.3780 - val_loss: 45.3490 - val_accuracy: 0.3859\n",
      "Epoch 10/20\n",
      "513/513 [==============================] - 0s 870us/step - loss: 47.1495 - accuracy: 0.3861 - val_loss: 45.2647 - val_accuracy: 0.3918\n",
      "Epoch 11/20\n",
      "513/513 [==============================] - 0s 803us/step - loss: 47.0628 - accuracy: 0.3921 - val_loss: 45.1805 - val_accuracy: 0.3999\n",
      "Epoch 12/20\n",
      "513/513 [==============================] - 0s 837us/step - loss: 47.0084 - accuracy: 0.3952 - val_loss: 45.1320 - val_accuracy: 0.4025\n",
      "Epoch 13/20\n",
      "513/513 [==============================] - 0s 812us/step - loss: 46.9588 - accuracy: 0.3983 - val_loss: 45.1189 - val_accuracy: 0.4074\n",
      "Epoch 14/20\n",
      "513/513 [==============================] - 0s 831us/step - loss: 46.8793 - accuracy: 0.4004 - val_loss: 45.0313 - val_accuracy: 0.4050\n",
      "Epoch 15/20\n",
      "513/513 [==============================] - 0s 815us/step - loss: 46.8578 - accuracy: 0.4004 - val_loss: 44.9931 - val_accuracy: 0.4057\n",
      "Epoch 16/20\n",
      "513/513 [==============================] - 0s 852us/step - loss: 46.8086 - accuracy: 0.4038 - val_loss: 44.9593 - val_accuracy: 0.4106\n",
      "Epoch 17/20\n",
      "513/513 [==============================] - 0s 798us/step - loss: 46.7605 - accuracy: 0.4029 - val_loss: 44.8958 - val_accuracy: 0.4189\n",
      "Epoch 18/20\n",
      "513/513 [==============================] - 0s 826us/step - loss: 46.7424 - accuracy: 0.4105 - val_loss: 44.8627 - val_accuracy: 0.4169\n",
      "Epoch 19/20\n",
      "513/513 [==============================] - 0s 814us/step - loss: 46.6868 - accuracy: 0.4115 - val_loss: 44.8987 - val_accuracy: 0.4211\n",
      "Epoch 20/20\n",
      "513/513 [==============================] - 0s 831us/step - loss: 46.7088 - accuracy: 0.4116 - val_loss: 44.8184 - val_accuracy: 0.4194\n"
     ]
    },
    {
     "data": {
      "application/javascript": [
       "\n",
       "            setTimeout(function() {\n",
       "                var nbb_cell_id = 53;\n",
       "                var nbb_unformatted_code = \"history = vae.fit(\\n    X_train,\\n    X_train,\\n    batch_size=BATCH_SIZE,\\n    epochs=EPOCHS,\\n    verbose=1,\\n    shuffle=True,\\n    validation_data=(X_test, X_test),\\n)\";\n",
       "                var nbb_formatted_code = \"history = vae.fit(\\n    X_train,\\n    X_train,\\n    batch_size=BATCH_SIZE,\\n    epochs=EPOCHS,\\n    verbose=1,\\n    shuffle=True,\\n    validation_data=(X_test, X_test),\\n)\";\n",
       "                var nbb_cells = Jupyter.notebook.get_cells();\n",
       "                for (var i = 0; i < nbb_cells.length; ++i) {\n",
       "                    if (nbb_cells[i].input_prompt_number == nbb_cell_id) {\n",
       "                        if (nbb_cells[i].get_text() == nbb_unformatted_code) {\n",
       "                             nbb_cells[i].set_text(nbb_formatted_code);\n",
       "                        }\n",
       "                        break;\n",
       "                    }\n",
       "                }\n",
       "            }, 500);\n",
       "            "
      ],
      "text/plain": [
       "<IPython.core.display.Javascript object>"
      ]
     },
     "metadata": {},
     "output_type": "display_data"
    }
   ],
   "source": [
    "history = vae.fit(\n",
    "    X_train,\n",
    "    X_train,\n",
    "    batch_size=BATCH_SIZE,\n",
    "    epochs=EPOCHS,\n",
    "    verbose=1,\n",
    "    shuffle=True,\n",
    "    validation_data=(X_test, X_test),\n",
    ")"
   ]
  },
  {
   "cell_type": "markdown",
   "metadata": {},
   "source": [
    "### Evaluate Model"
   ]
  },
  {
   "cell_type": "code",
   "execution_count": 54,
   "metadata": {},
   "outputs": [
    {
     "name": "stdout",
     "output_type": "stream",
     "text": [
      "129/129 [==============================] - 0s 574us/step - loss: 44.8370 - accuracy: 0.4184\n"
     ]
    },
    {
     "data": {
      "application/javascript": [
       "\n",
       "            setTimeout(function() {\n",
       "                var nbb_cell_id = 54;\n",
       "                var nbb_unformatted_code = \"score = vae.evaluate(X_test, X_test, verbose=1)\";\n",
       "                var nbb_formatted_code = \"score = vae.evaluate(X_test, X_test, verbose=1)\";\n",
       "                var nbb_cells = Jupyter.notebook.get_cells();\n",
       "                for (var i = 0; i < nbb_cells.length; ++i) {\n",
       "                    if (nbb_cells[i].input_prompt_number == nbb_cell_id) {\n",
       "                        if (nbb_cells[i].get_text() == nbb_unformatted_code) {\n",
       "                             nbb_cells[i].set_text(nbb_formatted_code);\n",
       "                        }\n",
       "                        break;\n",
       "                    }\n",
       "                }\n",
       "            }, 500);\n",
       "            "
      ],
      "text/plain": [
       "<IPython.core.display.Javascript object>"
      ]
     },
     "metadata": {},
     "output_type": "display_data"
    }
   ],
   "source": [
    "score = vae.evaluate(X_test, X_test, verbose=1)"
   ]
  },
  {
   "cell_type": "code",
   "execution_count": 55,
   "metadata": {},
   "outputs": [
    {
     "name": "stdout",
     "output_type": "stream",
     "text": [
      "Test Loss: 44.836997985839844\n",
      "Test Accuracy: 0.4183947443962097\n"
     ]
    },
    {
     "data": {
      "application/javascript": [
       "\n",
       "            setTimeout(function() {\n",
       "                var nbb_cell_id = 55;\n",
       "                var nbb_unformatted_code = \"print(\\\"Test Loss:\\\", score[0])\\nprint(\\\"Test Accuracy:\\\", score[1])\";\n",
       "                var nbb_formatted_code = \"print(\\\"Test Loss:\\\", score[0])\\nprint(\\\"Test Accuracy:\\\", score[1])\";\n",
       "                var nbb_cells = Jupyter.notebook.get_cells();\n",
       "                for (var i = 0; i < nbb_cells.length; ++i) {\n",
       "                    if (nbb_cells[i].input_prompt_number == nbb_cell_id) {\n",
       "                        if (nbb_cells[i].get_text() == nbb_unformatted_code) {\n",
       "                             nbb_cells[i].set_text(nbb_formatted_code);\n",
       "                        }\n",
       "                        break;\n",
       "                    }\n",
       "                }\n",
       "            }, 500);\n",
       "            "
      ],
      "text/plain": [
       "<IPython.core.display.Javascript object>"
      ]
     },
     "metadata": {},
     "output_type": "display_data"
    }
   ],
   "source": [
    "print(\"Test Loss:\", score[0])\n",
    "print(\"Test Accuracy:\", score[1])"
   ]
  },
  {
   "cell_type": "markdown",
   "metadata": {},
   "source": [
    "#### Visualize errors"
   ]
  },
  {
   "cell_type": "code",
   "execution_count": 56,
   "metadata": {},
   "outputs": [
    {
     "data": {
      "application/javascript": [
       "\n",
       "            setTimeout(function() {\n",
       "                var nbb_cell_id = 56;\n",
       "                var nbb_unformatted_code = \"threshold = 10.00\\ny_pred = vae.predict(X_test)\\ny_dist = np.linalg.norm(X_test - y_pred, axis=-1)\\nz = zip(y_dist >= threshold, y_dist)\\ny_label = []\\nerror = []\\nfor idx, (is_anomaly, y_dist) in enumerate(z):\\n    if is_anomaly:\\n        y_label.append(1)\\n    else:\\n        y_label.append(0)\\n    error.append(y_dist)\";\n",
       "                var nbb_formatted_code = \"threshold = 10.00\\ny_pred = vae.predict(X_test)\\ny_dist = np.linalg.norm(X_test - y_pred, axis=-1)\\nz = zip(y_dist >= threshold, y_dist)\\ny_label = []\\nerror = []\\nfor idx, (is_anomaly, y_dist) in enumerate(z):\\n    if is_anomaly:\\n        y_label.append(1)\\n    else:\\n        y_label.append(0)\\n    error.append(y_dist)\";\n",
       "                var nbb_cells = Jupyter.notebook.get_cells();\n",
       "                for (var i = 0; i < nbb_cells.length; ++i) {\n",
       "                    if (nbb_cells[i].input_prompt_number == nbb_cell_id) {\n",
       "                        if (nbb_cells[i].get_text() == nbb_unformatted_code) {\n",
       "                             nbb_cells[i].set_text(nbb_formatted_code);\n",
       "                        }\n",
       "                        break;\n",
       "                    }\n",
       "                }\n",
       "            }, 500);\n",
       "            "
      ],
      "text/plain": [
       "<IPython.core.display.Javascript object>"
      ]
     },
     "metadata": {},
     "output_type": "display_data"
    }
   ],
   "source": [
    "threshold = 10.00\n",
    "y_pred = vae.predict(X_test)\n",
    "y_dist = np.linalg.norm(X_test - y_pred, axis=-1)\n",
    "z = zip(y_dist >= threshold, y_dist)\n",
    "y_label = []\n",
    "error = []\n",
    "for idx, (is_anomaly, y_dist) in enumerate(z):\n",
    "    if is_anomaly:\n",
    "        y_label.append(1)\n",
    "    else:\n",
    "        y_label.append(0)\n",
    "    error.append(y_dist)"
   ]
  },
  {
   "cell_type": "code",
   "execution_count": 57,
   "metadata": {},
   "outputs": [
    {
     "name": "stdout",
     "output_type": "stream",
     "text": [
      "              precision    recall  f1-score   support\n",
      "\n",
      "           0       1.00      0.98      0.99      4001\n",
      "           1       0.46      0.87      0.60        98\n",
      "\n",
      "    accuracy                           0.97      4099\n",
      "   macro avg       0.73      0.92      0.79      4099\n",
      "weighted avg       0.98      0.97      0.98      4099\n",
      "\n"
     ]
    },
    {
     "data": {
      "application/javascript": [
       "\n",
       "            setTimeout(function() {\n",
       "                var nbb_cell_id = 57;\n",
       "                var nbb_unformatted_code = \"print(classification_report(y_test, y_label))\";\n",
       "                var nbb_formatted_code = \"print(classification_report(y_test, y_label))\";\n",
       "                var nbb_cells = Jupyter.notebook.get_cells();\n",
       "                for (var i = 0; i < nbb_cells.length; ++i) {\n",
       "                    if (nbb_cells[i].input_prompt_number == nbb_cell_id) {\n",
       "                        if (nbb_cells[i].get_text() == nbb_unformatted_code) {\n",
       "                             nbb_cells[i].set_text(nbb_formatted_code);\n",
       "                        }\n",
       "                        break;\n",
       "                    }\n",
       "                }\n",
       "            }, 500);\n",
       "            "
      ],
      "text/plain": [
       "<IPython.core.display.Javascript object>"
      ]
     },
     "metadata": {},
     "output_type": "display_data"
    }
   ],
   "source": [
    "print(classification_report(y_test, y_label))"
   ]
  },
  {
   "cell_type": "code",
   "execution_count": 58,
   "metadata": {},
   "outputs": [
    {
     "data": {
      "text/plain": [
       "0.9211765936067003"
      ]
     },
     "execution_count": 58,
     "metadata": {},
     "output_type": "execute_result"
    },
    {
     "data": {
      "application/javascript": [
       "\n",
       "            setTimeout(function() {\n",
       "                var nbb_cell_id = 58;\n",
       "                var nbb_unformatted_code = \"roc_auc_score(y_test, y_label)\";\n",
       "                var nbb_formatted_code = \"roc_auc_score(y_test, y_label)\";\n",
       "                var nbb_cells = Jupyter.notebook.get_cells();\n",
       "                for (var i = 0; i < nbb_cells.length; ++i) {\n",
       "                    if (nbb_cells[i].input_prompt_number == nbb_cell_id) {\n",
       "                        if (nbb_cells[i].get_text() == nbb_unformatted_code) {\n",
       "                             nbb_cells[i].set_text(nbb_formatted_code);\n",
       "                        }\n",
       "                        break;\n",
       "                    }\n",
       "                }\n",
       "            }, 500);\n",
       "            "
      ],
      "text/plain": [
       "<IPython.core.display.Javascript object>"
      ]
     },
     "metadata": {},
     "output_type": "display_data"
    }
   ],
   "source": [
    "roc_auc_score(y_test, y_label)"
   ]
  },
  {
   "cell_type": "code",
   "execution_count": 59,
   "metadata": {},
   "outputs": [
    {
     "data": {
      "image/png": "[encoded data removed]",
      "text/plain": [
       "<Figure size 720x576 with 2 Axes>"
      ]
     },
     "metadata": {
      "needs_background": "light"
     },
     "output_type": "display_data"
    },
    {
     "data": {
      "application/javascript": [
       "\n",
       "            setTimeout(function() {\n",
       "                var nbb_cell_id = 59;\n",
       "                var nbb_unformatted_code = \"VisualizationHelper().draw_confusion_matrix(y_test, y_label)\";\n",
       "                var nbb_formatted_code = \"VisualizationHelper().draw_confusion_matrix(y_test, y_label)\";\n",
       "                var nbb_cells = Jupyter.notebook.get_cells();\n",
       "                for (var i = 0; i < nbb_cells.length; ++i) {\n",
       "                    if (nbb_cells[i].input_prompt_number == nbb_cell_id) {\n",
       "                        if (nbb_cells[i].get_text() == nbb_unformatted_code) {\n",
       "                             nbb_cells[i].set_text(nbb_formatted_code);\n",
       "                        }\n",
       "                        break;\n",
       "                    }\n",
       "                }\n",
       "            }, 500);\n",
       "            "
      ],
      "text/plain": [
       "<IPython.core.display.Javascript object>"
      ]
     },
     "metadata": {},
     "output_type": "display_data"
    }
   ],
   "source": [
    "VisualizationHelper().draw_confusion_matrix(y_test, y_label)"
   ]
  },
  {
   "cell_type": "code",
   "execution_count": 60,
   "metadata": {},
   "outputs": [
    {
     "data": {
      "image/png": "[encoded data removed]",
      "text/plain": [
       "<Figure size 864x576 with 1 Axes>"
      ]
     },
     "metadata": {
      "needs_background": "light"
     },
     "output_type": "display_data"
    },
    {
     "data": {
      "application/javascript": [
       "\n",
       "            setTimeout(function() {\n",
       "                var nbb_cell_id = 60;\n",
       "                var nbb_unformatted_code = \"VisualizationHelper().draw_anomaly(y_test, errors, THRESHOLD)\";\n",
       "                var nbb_formatted_code = \"VisualizationHelper().draw_anomaly(y_test, errors, THRESHOLD)\";\n",
       "                var nbb_cells = Jupyter.notebook.get_cells();\n",
       "                for (var i = 0; i < nbb_cells.length; ++i) {\n",
       "                    if (nbb_cells[i].input_prompt_number == nbb_cell_id) {\n",
       "                        if (nbb_cells[i].get_text() == nbb_unformatted_code) {\n",
       "                             nbb_cells[i].set_text(nbb_formatted_code);\n",
       "                        }\n",
       "                        break;\n",
       "                    }\n",
       "                }\n",
       "            }, 500);\n",
       "            "
      ],
      "text/plain": [
       "<IPython.core.display.Javascript object>"
      ]
     },
     "metadata": {},
     "output_type": "display_data"
    }
   ],
   "source": [
    "VisualizationHelper().draw_anomaly(y_test, errors, THRESHOLD)"
   ]
  },
  {
   "cell_type": "code",
   "execution_count": null,
   "metadata": {},
   "outputs": [],
   "source": []
  }
 ],
 "metadata": {
  "kernelspec": {
   "display_name": "Python 3",
   "language": "python",
   "name": "python3"
  },
  "language_info": {
   "codemirror_mode": {
    "name": "ipython",
    "version": 3
   },
   "file_extension": ".py",
   "mimetype": "text/x-python",
   "name": "python",
   "nbconvert_exporter": "python",
   "pygments_lexer": "ipython3",
   "version": "3.7.9"
  }
 },
 "nbformat": 4,
 "nbformat_minor": 4
}
