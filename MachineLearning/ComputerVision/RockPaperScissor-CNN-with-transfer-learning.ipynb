{
 "cells": [
  {
   "cell_type": "code",
   "execution_count": 1,
   "metadata": {},
   "outputs": [
    {
     "name": "stderr",
     "output_type": "stream",
     "text": [
      "Using TensorFlow backend.\n"
     ]
    },
    {
     "data": {
      "application/javascript": [
       "\n",
       "            setTimeout(function() {\n",
       "                var nbb_cell_id = 1;\n",
       "                var nbb_unformatted_code = \"import os\\nimport random\\nfrom shutil import copyfile\\n\\n\\nimport tensorflow as tf\\nimport tensorflow.keras as keras\\nimport numpy as np\\nimport pandas as pd\\nimport matplotlib.pyplot as plt\\nimport matplotlib.image as mpimage\\nfrom tensorflow.keras.preprocessing.image import ImageDataGenerator\\nfrom tensorflow.keras.preprocessing import image\\n\\nfrom keras.datasets import mnist\\nfrom keras.datasets import fashion_mnist\\n\\nfrom sklearn.preprocessing import StandardScaler\\nfrom sklearn.metrics import classification_report\\nfrom sklearn.metrics import confusion_matrix\\n\\nimport itertools\\n\\n%matplotlib inline\\n%reload_ext nb_black\";\n",
       "                var nbb_formatted_code = \"import os\\nimport random\\nfrom shutil import copyfile\\n\\n\\nimport tensorflow as tf\\nimport tensorflow.keras as keras\\nimport numpy as np\\nimport pandas as pd\\nimport matplotlib.pyplot as plt\\nimport matplotlib.image as mpimage\\nfrom tensorflow.keras.preprocessing.image import ImageDataGenerator\\nfrom tensorflow.keras.preprocessing import image\\n\\nfrom keras.datasets import mnist\\nfrom keras.datasets import fashion_mnist\\n\\nfrom sklearn.preprocessing import StandardScaler\\nfrom sklearn.metrics import classification_report\\nfrom sklearn.metrics import confusion_matrix\\n\\nimport itertools\\n\\n%matplotlib inline\\n%reload_ext nb_black\";\n",
       "                var nbb_cells = Jupyter.notebook.get_cells();\n",
       "                for (var i = 0; i < nbb_cells.length; ++i) {\n",
       "                    if (nbb_cells[i].input_prompt_number == nbb_cell_id) {\n",
       "                        if (nbb_cells[i].get_text() == nbb_unformatted_code) {\n",
       "                             nbb_cells[i].set_text(nbb_formatted_code);\n",
       "                        }\n",
       "                        break;\n",
       "                    }\n",
       "                }\n",
       "            }, 500);\n",
       "            "
      ],
      "text/plain": [
       "<IPython.core.display.Javascript object>"
      ]
     },
     "metadata": {},
     "output_type": "display_data"
    }
   ],
   "source": [
    "import os\n",
    "import random\n",
    "from shutil import copyfile\n",
    "\n",
    "\n",
    "import tensorflow as tf\n",
    "import tensorflow.keras as keras\n",
    "import numpy as np\n",
    "import pandas as pd\n",
    "import matplotlib.pyplot as plt\n",
    "import matplotlib.image as mpimage\n",
    "from tensorflow.keras.preprocessing.image import ImageDataGenerator\n",
    "from tensorflow.keras.preprocessing import image\n",
    "\n",
    "from keras.datasets import mnist\n",
    "from keras.datasets import fashion_mnist\n",
    "\n",
    "from sklearn.preprocessing import StandardScaler\n",
    "from sklearn.metrics import classification_report\n",
    "from sklearn.metrics import confusion_matrix\n",
    "\n",
    "import itertools\n",
    "\n",
    "%matplotlib inline\n",
    "%reload_ext nb_black"
   ]
  },
  {
   "cell_type": "code",
   "execution_count": 2,
   "metadata": {},
   "outputs": [
    {
     "data": {
      "application/javascript": [
       "\n",
       "            setTimeout(function() {\n",
       "                var nbb_cell_id = 2;\n",
       "                var nbb_unformatted_code = \"TRAINING_DATASET_PATH = \\\"rock_paper_scissor_dataset/training/rps/\\\"\\nTESTING_DATASET_PATH = \\\"rock_paper_scissor_dataset/testing/rps-test-set/\\\"\";\n",
       "                var nbb_formatted_code = \"TRAINING_DATASET_PATH = \\\"rock_paper_scissor_dataset/training/rps/\\\"\\nTESTING_DATASET_PATH = \\\"rock_paper_scissor_dataset/testing/rps-test-set/\\\"\";\n",
       "                var nbb_cells = Jupyter.notebook.get_cells();\n",
       "                for (var i = 0; i < nbb_cells.length; ++i) {\n",
       "                    if (nbb_cells[i].input_prompt_number == nbb_cell_id) {\n",
       "                        if (nbb_cells[i].get_text() == nbb_unformatted_code) {\n",
       "                             nbb_cells[i].set_text(nbb_formatted_code);\n",
       "                        }\n",
       "                        break;\n",
       "                    }\n",
       "                }\n",
       "            }, 500);\n",
       "            "
      ],
      "text/plain": [
       "<IPython.core.display.Javascript object>"
      ]
     },
     "metadata": {},
     "output_type": "display_data"
    }
   ],
   "source": [
    "TRAINING_DATASET_PATH = \"rock_paper_scissor_dataset/training/rps/\"\n",
    "TESTING_DATASET_PATH = \"rock_paper_scissor_dataset/testing/rps-test-set/\""
   ]
  },
  {
   "cell_type": "code",
   "execution_count": 3,
   "metadata": {},
   "outputs": [
    {
     "data": {
      "application/javascript": [
       "\n",
       "            setTimeout(function() {\n",
       "                var nbb_cell_id = 3;\n",
       "                var nbb_unformatted_code = \"TARGET_IMAGE_SIZE = 150\\nBATCH_SIZE = 32\";\n",
       "                var nbb_formatted_code = \"TARGET_IMAGE_SIZE = 150\\nBATCH_SIZE = 32\";\n",
       "                var nbb_cells = Jupyter.notebook.get_cells();\n",
       "                for (var i = 0; i < nbb_cells.length; ++i) {\n",
       "                    if (nbb_cells[i].input_prompt_number == nbb_cell_id) {\n",
       "                        if (nbb_cells[i].get_text() == nbb_unformatted_code) {\n",
       "                             nbb_cells[i].set_text(nbb_formatted_code);\n",
       "                        }\n",
       "                        break;\n",
       "                    }\n",
       "                }\n",
       "            }, 500);\n",
       "            "
      ],
      "text/plain": [
       "<IPython.core.display.Javascript object>"
      ]
     },
     "metadata": {},
     "output_type": "display_data"
    }
   ],
   "source": [
    "TARGET_IMAGE_SIZE = 150\n",
    "BATCH_SIZE = 32"
   ]
  },
  {
   "cell_type": "markdown",
   "metadata": {},
   "source": [
    "## Prepare Dataset"
   ]
  },
  {
   "cell_type": "code",
   "execution_count": 4,
   "metadata": {},
   "outputs": [
    {
     "name": "stdout",
     "output_type": "stream",
     "text": [
      "Found 2520 images belonging to 3 classes.\n",
      "Found 372 images belonging to 3 classes.\n"
     ]
    },
    {
     "data": {
      "application/javascript": [
       "\n",
       "            setTimeout(function() {\n",
       "                var nbb_cell_id = 4;\n",
       "                var nbb_unformatted_code = \"train_data_gen = ImageDataGenerator(\\n    rescale=1.0 / 255,\\n    rotation_range=40,\\n    zoom_range=0.2,\\n    width_shift_range=0.2,\\n    height_shift_range=0.2,\\n    shear_range=0.2,\\n    horizontal_flip=True,\\n    fill_mode=\\\"nearest\\\",\\n)\\n\\ntrain_generator = train_data_gen.flow_from_directory(\\n    TRAINING_DATASET_PATH,\\n    target_size=(TARGET_IMAGE_SIZE, TARGET_IMAGE_SIZE),\\n    batch_size=BATCH_SIZE,\\n    class_mode=\\\"categorical\\\",\\n)\\n\\nvalidation_data_gen = ImageDataGenerator(rescale=1.0 / 255,)\\n\\nvalidation_generator = validation_data_gen.flow_from_directory(\\n    TESTING_DATASET_PATH,\\n    target_size=(TARGET_IMAGE_SIZE, TARGET_IMAGE_SIZE),\\n    batch_size=BATCH_SIZE,\\n    class_mode=\\\"categorical\\\",\\n)\";\n",
       "                var nbb_formatted_code = \"train_data_gen = ImageDataGenerator(\\n    rescale=1.0 / 255,\\n    rotation_range=40,\\n    zoom_range=0.2,\\n    width_shift_range=0.2,\\n    height_shift_range=0.2,\\n    shear_range=0.2,\\n    horizontal_flip=True,\\n    fill_mode=\\\"nearest\\\",\\n)\\n\\ntrain_generator = train_data_gen.flow_from_directory(\\n    TRAINING_DATASET_PATH,\\n    target_size=(TARGET_IMAGE_SIZE, TARGET_IMAGE_SIZE),\\n    batch_size=BATCH_SIZE,\\n    class_mode=\\\"categorical\\\",\\n)\\n\\nvalidation_data_gen = ImageDataGenerator(rescale=1.0 / 255,)\\n\\nvalidation_generator = validation_data_gen.flow_from_directory(\\n    TESTING_DATASET_PATH,\\n    target_size=(TARGET_IMAGE_SIZE, TARGET_IMAGE_SIZE),\\n    batch_size=BATCH_SIZE,\\n    class_mode=\\\"categorical\\\",\\n)\";\n",
       "                var nbb_cells = Jupyter.notebook.get_cells();\n",
       "                for (var i = 0; i < nbb_cells.length; ++i) {\n",
       "                    if (nbb_cells[i].input_prompt_number == nbb_cell_id) {\n",
       "                        if (nbb_cells[i].get_text() == nbb_unformatted_code) {\n",
       "                             nbb_cells[i].set_text(nbb_formatted_code);\n",
       "                        }\n",
       "                        break;\n",
       "                    }\n",
       "                }\n",
       "            }, 500);\n",
       "            "
      ],
      "text/plain": [
       "<IPython.core.display.Javascript object>"
      ]
     },
     "metadata": {},
     "output_type": "display_data"
    }
   ],
   "source": [
    "train_data_gen = ImageDataGenerator(\n",
    "    rescale=1.0 / 255,\n",
    "    rotation_range=40,\n",
    "    zoom_range=0.2,\n",
    "    width_shift_range=0.2,\n",
    "    height_shift_range=0.2,\n",
    "    shear_range=0.2,\n",
    "    horizontal_flip=True,\n",
    "    fill_mode=\"nearest\",\n",
    ")\n",
    "\n",
    "train_generator = train_data_gen.flow_from_directory(\n",
    "    TRAINING_DATASET_PATH,\n",
    "    target_size=(TARGET_IMAGE_SIZE, TARGET_IMAGE_SIZE),\n",
    "    batch_size=BATCH_SIZE,\n",
    "    class_mode=\"categorical\",\n",
    ")\n",
    "\n",
    "validation_data_gen = ImageDataGenerator(rescale=1.0 / 255,)\n",
    "\n",
    "validation_generator = validation_data_gen.flow_from_directory(\n",
    "    TESTING_DATASET_PATH,\n",
    "    target_size=(TARGET_IMAGE_SIZE, TARGET_IMAGE_SIZE),\n",
    "    batch_size=BATCH_SIZE,\n",
    "    class_mode=\"categorical\",\n",
    ")"
   ]
  },
  {
   "cell_type": "markdown",
   "metadata": {},
   "source": [
    "## Simple Model"
   ]
  },
  {
   "cell_type": "code",
   "execution_count": 5,
   "metadata": {},
   "outputs": [
    {
     "data": {
      "application/javascript": [
       "\n",
       "            setTimeout(function() {\n",
       "                var nbb_cell_id = 5;\n",
       "                var nbb_unformatted_code = \"def create_simple_conv_model():\\n\\n    model = keras.Sequential()\\n\\n    model.add(\\n        keras.layers.Conv2D(\\n            filters=16,\\n            kernel_size=(3, 3),\\n            activation=\\\"relu\\\",\\n            input_shape=(TARGET_IMAGE_SIZE, TARGET_IMAGE_SIZE, 3),\\n        )\\n    )\\n    model.add(keras.layers.MaxPool2D(pool_size=(2, 2)))\\n\\n    model.add(keras.layers.Conv2D(filters=32, kernel_size=(3, 3), activation=\\\"relu\\\"))\\n    model.add(keras.layers.MaxPool2D(pool_size=(2, 2)))\\n\\n    model.add(keras.layers.Conv2D(filters=64, kernel_size=(3, 3), activation=\\\"relu\\\"))\\n    model.add(keras.layers.MaxPool2D(pool_size=(2, 2)))\\n\\n    model.add(keras.layers.Flatten())\\n\\n    model.add(keras.layers.Dense(units=512, activation=\\\"relu\\\"))\\n    model.add(keras.layers.Dense(units=256, activation=\\\"relu\\\"))\\n    model.add(keras.layers.Dense(units=3, activation=\\\"softmax\\\"))\\n\\n    model.compile(\\n        optimizer=\\\"adam\\\", loss=\\\"categorical_crossentropy\\\", metrics=[\\\"accuracy\\\"]\\n    )\\n\\n    return model\";\n",
       "                var nbb_formatted_code = \"def create_simple_conv_model():\\n\\n    model = keras.Sequential()\\n\\n    model.add(\\n        keras.layers.Conv2D(\\n            filters=16,\\n            kernel_size=(3, 3),\\n            activation=\\\"relu\\\",\\n            input_shape=(TARGET_IMAGE_SIZE, TARGET_IMAGE_SIZE, 3),\\n        )\\n    )\\n    model.add(keras.layers.MaxPool2D(pool_size=(2, 2)))\\n\\n    model.add(keras.layers.Conv2D(filters=32, kernel_size=(3, 3), activation=\\\"relu\\\"))\\n    model.add(keras.layers.MaxPool2D(pool_size=(2, 2)))\\n\\n    model.add(keras.layers.Conv2D(filters=64, kernel_size=(3, 3), activation=\\\"relu\\\"))\\n    model.add(keras.layers.MaxPool2D(pool_size=(2, 2)))\\n\\n    model.add(keras.layers.Flatten())\\n\\n    model.add(keras.layers.Dense(units=512, activation=\\\"relu\\\"))\\n    model.add(keras.layers.Dense(units=256, activation=\\\"relu\\\"))\\n    model.add(keras.layers.Dense(units=3, activation=\\\"softmax\\\"))\\n\\n    model.compile(\\n        optimizer=\\\"adam\\\", loss=\\\"categorical_crossentropy\\\", metrics=[\\\"accuracy\\\"]\\n    )\\n\\n    return model\";\n",
       "                var nbb_cells = Jupyter.notebook.get_cells();\n",
       "                for (var i = 0; i < nbb_cells.length; ++i) {\n",
       "                    if (nbb_cells[i].input_prompt_number == nbb_cell_id) {\n",
       "                        if (nbb_cells[i].get_text() == nbb_unformatted_code) {\n",
       "                             nbb_cells[i].set_text(nbb_formatted_code);\n",
       "                        }\n",
       "                        break;\n",
       "                    }\n",
       "                }\n",
       "            }, 500);\n",
       "            "
      ],
      "text/plain": [
       "<IPython.core.display.Javascript object>"
      ]
     },
     "metadata": {},
     "output_type": "display_data"
    }
   ],
   "source": [
    "def create_simple_conv_model():\n",
    "\n",
    "    model = keras.Sequential()\n",
    "\n",
    "    model.add(\n",
    "        keras.layers.Conv2D(\n",
    "            filters=16,\n",
    "            kernel_size=(3, 3),\n",
    "            activation=\"relu\",\n",
    "            input_shape=(TARGET_IMAGE_SIZE, TARGET_IMAGE_SIZE, 3),\n",
    "        )\n",
    "    )\n",
    "    model.add(keras.layers.MaxPool2D(pool_size=(2, 2)))\n",
    "\n",
    "    model.add(keras.layers.Conv2D(filters=32, kernel_size=(3, 3), activation=\"relu\"))\n",
    "    model.add(keras.layers.MaxPool2D(pool_size=(2, 2)))\n",
    "\n",
    "    model.add(keras.layers.Conv2D(filters=64, kernel_size=(3, 3), activation=\"relu\"))\n",
    "    model.add(keras.layers.MaxPool2D(pool_size=(2, 2)))\n",
    "\n",
    "    model.add(keras.layers.Flatten())\n",
    "\n",
    "    model.add(keras.layers.Dense(units=512, activation=\"relu\"))\n",
    "    model.add(keras.layers.Dense(units=256, activation=\"relu\"))\n",
    "    model.add(keras.layers.Dense(units=3, activation=\"softmax\"))\n",
    "\n",
    "    model.compile(\n",
    "        optimizer=\"adam\", loss=\"categorical_crossentropy\", metrics=[\"accuracy\"]\n",
    "    )\n",
    "\n",
    "    return model"
   ]
  },
  {
   "cell_type": "code",
   "execution_count": 6,
   "metadata": {},
   "outputs": [
    {
     "data": {
      "application/javascript": [
       "\n",
       "            setTimeout(function() {\n",
       "                var nbb_cell_id = 6;\n",
       "                var nbb_unformatted_code = \"simple_conv_model = create_simple_conv_model()\";\n",
       "                var nbb_formatted_code = \"simple_conv_model = create_simple_conv_model()\";\n",
       "                var nbb_cells = Jupyter.notebook.get_cells();\n",
       "                for (var i = 0; i < nbb_cells.length; ++i) {\n",
       "                    if (nbb_cells[i].input_prompt_number == nbb_cell_id) {\n",
       "                        if (nbb_cells[i].get_text() == nbb_unformatted_code) {\n",
       "                             nbb_cells[i].set_text(nbb_formatted_code);\n",
       "                        }\n",
       "                        break;\n",
       "                    }\n",
       "                }\n",
       "            }, 500);\n",
       "            "
      ],
      "text/plain": [
       "<IPython.core.display.Javascript object>"
      ]
     },
     "metadata": {},
     "output_type": "display_data"
    }
   ],
   "source": [
    "simple_conv_model = create_simple_conv_model()"
   ]
  },
  {
   "cell_type": "code",
   "execution_count": 7,
   "metadata": {},
   "outputs": [
    {
     "data": {
      "application/javascript": [
       "\n",
       "            setTimeout(function() {\n",
       "                var nbb_cell_id = 7;\n",
       "                var nbb_unformatted_code = \"early_stopping = keras.callbacks.EarlyStopping(patience=3, monitor=\\\"val_accuracy\\\")\";\n",
       "                var nbb_formatted_code = \"early_stopping = keras.callbacks.EarlyStopping(patience=3, monitor=\\\"val_accuracy\\\")\";\n",
       "                var nbb_cells = Jupyter.notebook.get_cells();\n",
       "                for (var i = 0; i < nbb_cells.length; ++i) {\n",
       "                    if (nbb_cells[i].input_prompt_number == nbb_cell_id) {\n",
       "                        if (nbb_cells[i].get_text() == nbb_unformatted_code) {\n",
       "                             nbb_cells[i].set_text(nbb_formatted_code);\n",
       "                        }\n",
       "                        break;\n",
       "                    }\n",
       "                }\n",
       "            }, 500);\n",
       "            "
      ],
      "text/plain": [
       "<IPython.core.display.Javascript object>"
      ]
     },
     "metadata": {},
     "output_type": "display_data"
    }
   ],
   "source": [
    "early_stopping = keras.callbacks.EarlyStopping(patience=3, monitor=\"val_accuracy\")"
   ]
  },
  {
   "cell_type": "code",
   "execution_count": 8,
   "metadata": {},
   "outputs": [
    {
     "name": "stdout",
     "output_type": "stream",
     "text": [
      "WARNING:tensorflow:sample_weight modes were coerced from\n",
      "  ...\n",
      "    to  \n",
      "  ['...']\n",
      "WARNING:tensorflow:sample_weight modes were coerced from\n",
      "  ...\n",
      "    to  \n",
      "  ['...']\n",
      "Train for 79 steps, validate for 12 steps\n",
      "Epoch 1/15\n",
      "79/79 [==============================] - 25s 315ms/step - loss: 1.0167 - accuracy: 0.5040 - val_loss: 0.3914 - val_accuracy: 0.9301\n",
      "Epoch 2/15\n",
      "79/79 [==============================] - 26s 333ms/step - loss: 0.6013 - accuracy: 0.7437 - val_loss: 0.2945 - val_accuracy: 0.9005\n",
      "Epoch 3/15\n",
      "79/79 [==============================] - 27s 340ms/step - loss: 0.3935 - accuracy: 0.8425 - val_loss: 0.1226 - val_accuracy: 0.9785\n",
      "Epoch 4/15\n",
      "79/79 [==============================] - 28s 350ms/step - loss: 0.2879 - accuracy: 0.8909 - val_loss: 0.0648 - val_accuracy: 0.9919\n",
      "Epoch 5/15\n",
      "79/79 [==============================] - 27s 347ms/step - loss: 0.2259 - accuracy: 0.9194 - val_loss: 0.1604 - val_accuracy: 0.9220\n",
      "Epoch 6/15\n",
      "79/79 [==============================] - 27s 348ms/step - loss: 0.1841 - accuracy: 0.9373 - val_loss: 0.0836 - val_accuracy: 0.9570\n",
      "Epoch 7/15\n",
      "79/79 [==============================] - 30s 374ms/step - loss: 0.1327 - accuracy: 0.9563 - val_loss: 0.3915 - val_accuracy: 0.8522\n"
     ]
    },
    {
     "data": {
      "application/javascript": [
       "\n",
       "            setTimeout(function() {\n",
       "                var nbb_cell_id = 8;\n",
       "                var nbb_unformatted_code = \"simple_conv_model_history = simple_conv_model.fit(\\n    train_generator,\\n    epochs=15,\\n    validation_data=validation_generator,\\n    callbacks=[early_stopping],\\n)\";\n",
       "                var nbb_formatted_code = \"simple_conv_model_history = simple_conv_model.fit(\\n    train_generator,\\n    epochs=15,\\n    validation_data=validation_generator,\\n    callbacks=[early_stopping],\\n)\";\n",
       "                var nbb_cells = Jupyter.notebook.get_cells();\n",
       "                for (var i = 0; i < nbb_cells.length; ++i) {\n",
       "                    if (nbb_cells[i].input_prompt_number == nbb_cell_id) {\n",
       "                        if (nbb_cells[i].get_text() == nbb_unformatted_code) {\n",
       "                             nbb_cells[i].set_text(nbb_formatted_code);\n",
       "                        }\n",
       "                        break;\n",
       "                    }\n",
       "                }\n",
       "            }, 500);\n",
       "            "
      ],
      "text/plain": [
       "<IPython.core.display.Javascript object>"
      ]
     },
     "metadata": {},
     "output_type": "display_data"
    }
   ],
   "source": [
    "simple_conv_model_history = simple_conv_model.fit(\n",
    "    train_generator,\n",
    "    epochs=15,\n",
    "    validation_data=validation_generator,\n",
    "    callbacks=[early_stopping],\n",
    ")"
   ]
  },
  {
   "cell_type": "code",
   "execution_count": 9,
   "metadata": {},
   "outputs": [
    {
     "data": {
      "text/plain": [
       "Text(0.5, 1.0, 'Loss Train vs Validation')"
      ]
     },
     "execution_count": 9,
     "metadata": {},
     "output_type": "execute_result"
    },
    {
     "data": {
      "image/png": "[encoded data removed]",
      "text/plain": [
       "<Figure size 432x288 with 1 Axes>"
      ]
     },
     "metadata": {
      "needs_background": "light"
     },
     "output_type": "display_data"
    },
    {
     "data": {
      "application/javascript": [
       "\n",
       "            setTimeout(function() {\n",
       "                var nbb_cell_id = 9;\n",
       "                var nbb_unformatted_code = \"plt.plot(\\n    simple_conv_model_history.epoch,\\n    simple_conv_model_history.history[\\\"loss\\\"],\\n    \\\"r-\\\",\\n    label=\\\"Training\\\",\\n)\\nplt.plot(\\n    simple_conv_model_history.epoch,\\n    simple_conv_model_history.history[\\\"val_loss\\\"],\\n    \\\"g-\\\",\\n    label=\\\"Validation\\\",\\n)\\n\\nplt.title(\\\"Loss Train vs Validation\\\")\";\n",
       "                var nbb_formatted_code = \"plt.plot(\\n    simple_conv_model_history.epoch,\\n    simple_conv_model_history.history[\\\"loss\\\"],\\n    \\\"r-\\\",\\n    label=\\\"Training\\\",\\n)\\nplt.plot(\\n    simple_conv_model_history.epoch,\\n    simple_conv_model_history.history[\\\"val_loss\\\"],\\n    \\\"g-\\\",\\n    label=\\\"Validation\\\",\\n)\\n\\nplt.title(\\\"Loss Train vs Validation\\\")\";\n",
       "                var nbb_cells = Jupyter.notebook.get_cells();\n",
       "                for (var i = 0; i < nbb_cells.length; ++i) {\n",
       "                    if (nbb_cells[i].input_prompt_number == nbb_cell_id) {\n",
       "                        if (nbb_cells[i].get_text() == nbb_unformatted_code) {\n",
       "                             nbb_cells[i].set_text(nbb_formatted_code);\n",
       "                        }\n",
       "                        break;\n",
       "                    }\n",
       "                }\n",
       "            }, 500);\n",
       "            "
      ],
      "text/plain": [
       "<IPython.core.display.Javascript object>"
      ]
     },
     "metadata": {},
     "output_type": "display_data"
    }
   ],
   "source": [
    "plt.plot(\n",
    "    simple_conv_model_history.epoch,\n",
    "    simple_conv_model_history.history[\"loss\"],\n",
    "    \"r-\",\n",
    "    label=\"Training\",\n",
    ")\n",
    "plt.plot(\n",
    "    simple_conv_model_history.epoch,\n",
    "    simple_conv_model_history.history[\"val_loss\"],\n",
    "    \"g-\",\n",
    "    label=\"Validation\",\n",
    ")\n",
    "\n",
    "plt.title(\"Loss Train vs Validation\")"
   ]
  },
  {
   "cell_type": "code",
   "execution_count": 10,
   "metadata": {},
   "outputs": [
    {
     "data": {
      "text/plain": [
       "Text(0.5, 1.0, 'Accuracy Train vs Validation')"
      ]
     },
     "execution_count": 10,
     "metadata": {},
     "output_type": "execute_result"
    },
    {
     "data": {
      "image/png": "[encoded data removed]",
      "text/plain": [
       "<Figure size 432x288 with 1 Axes>"
      ]
     },
     "metadata": {
      "needs_background": "light"
     },
     "output_type": "display_data"
    },
    {
     "data": {
      "application/javascript": [
       "\n",
       "            setTimeout(function() {\n",
       "                var nbb_cell_id = 10;\n",
       "                var nbb_unformatted_code = \"plt.plot(\\n    simple_conv_model_history.epoch,\\n    simple_conv_model_history.history[\\\"accuracy\\\"],\\n    color=\\\"r\\\",\\n)\\nplt.plot(\\n    simple_conv_model_history.epoch,\\n    simple_conv_model_history.history[\\\"val_accuracy\\\"],\\n    color=\\\"g\\\",\\n)\\n\\nplt.title(\\\"Accuracy Train vs Validation\\\")\";\n",
       "                var nbb_formatted_code = \"plt.plot(\\n    simple_conv_model_history.epoch,\\n    simple_conv_model_history.history[\\\"accuracy\\\"],\\n    color=\\\"r\\\",\\n)\\nplt.plot(\\n    simple_conv_model_history.epoch,\\n    simple_conv_model_history.history[\\\"val_accuracy\\\"],\\n    color=\\\"g\\\",\\n)\\n\\nplt.title(\\\"Accuracy Train vs Validation\\\")\";\n",
       "                var nbb_cells = Jupyter.notebook.get_cells();\n",
       "                for (var i = 0; i < nbb_cells.length; ++i) {\n",
       "                    if (nbb_cells[i].input_prompt_number == nbb_cell_id) {\n",
       "                        if (nbb_cells[i].get_text() == nbb_unformatted_code) {\n",
       "                             nbb_cells[i].set_text(nbb_formatted_code);\n",
       "                        }\n",
       "                        break;\n",
       "                    }\n",
       "                }\n",
       "            }, 500);\n",
       "            "
      ],
      "text/plain": [
       "<IPython.core.display.Javascript object>"
      ]
     },
     "metadata": {},
     "output_type": "display_data"
    }
   ],
   "source": [
    "plt.plot(\n",
    "    simple_conv_model_history.epoch,\n",
    "    simple_conv_model_history.history[\"accuracy\"],\n",
    "    color=\"r\",\n",
    ")\n",
    "plt.plot(\n",
    "    simple_conv_model_history.epoch,\n",
    "    simple_conv_model_history.history[\"val_accuracy\"],\n",
    "    color=\"g\",\n",
    ")\n",
    "\n",
    "plt.title(\"Accuracy Train vs Validation\")"
   ]
  },
  {
   "cell_type": "code",
   "execution_count": null,
   "metadata": {},
   "outputs": [],
   "source": []
  },
  {
   "cell_type": "markdown",
   "metadata": {},
   "source": [
    "## Transfer Learning"
   ]
  },
  {
   "cell_type": "code",
   "execution_count": 11,
   "metadata": {},
   "outputs": [
    {
     "data": {
      "application/javascript": [
       "\n",
       "            setTimeout(function() {\n",
       "                var nbb_cell_id = 11;\n",
       "                var nbb_unformatted_code = \"from tensorflow.keras.applications.inception_v3 import InceptionV3\";\n",
       "                var nbb_formatted_code = \"from tensorflow.keras.applications.inception_v3 import InceptionV3\";\n",
       "                var nbb_cells = Jupyter.notebook.get_cells();\n",
       "                for (var i = 0; i < nbb_cells.length; ++i) {\n",
       "                    if (nbb_cells[i].input_prompt_number == nbb_cell_id) {\n",
       "                        if (nbb_cells[i].get_text() == nbb_unformatted_code) {\n",
       "                             nbb_cells[i].set_text(nbb_formatted_code);\n",
       "                        }\n",
       "                        break;\n",
       "                    }\n",
       "                }\n",
       "            }, 500);\n",
       "            "
      ],
      "text/plain": [
       "<IPython.core.display.Javascript object>"
      ]
     },
     "metadata": {},
     "output_type": "display_data"
    }
   ],
   "source": [
    "from tensorflow.keras.applications.inception_v3 import InceptionV3"
   ]
  },
  {
   "cell_type": "code",
   "execution_count": 12,
   "metadata": {},
   "outputs": [
    {
     "data": {
      "application/javascript": [
       "\n",
       "            setTimeout(function() {\n",
       "                var nbb_cell_id = 12;\n",
       "                var nbb_unformatted_code = \"pretrained_model = InceptionV3(\\n    include_top=False,\\n    weights=None,\\n    input_shape=(TARGET_IMAGE_SIZE, TARGET_IMAGE_SIZE, 3),\\n)\";\n",
       "                var nbb_formatted_code = \"pretrained_model = InceptionV3(\\n    include_top=False,\\n    weights=None,\\n    input_shape=(TARGET_IMAGE_SIZE, TARGET_IMAGE_SIZE, 3),\\n)\";\n",
       "                var nbb_cells = Jupyter.notebook.get_cells();\n",
       "                for (var i = 0; i < nbb_cells.length; ++i) {\n",
       "                    if (nbb_cells[i].input_prompt_number == nbb_cell_id) {\n",
       "                        if (nbb_cells[i].get_text() == nbb_unformatted_code) {\n",
       "                             nbb_cells[i].set_text(nbb_formatted_code);\n",
       "                        }\n",
       "                        break;\n",
       "                    }\n",
       "                }\n",
       "            }, 500);\n",
       "            "
      ],
      "text/plain": [
       "<IPython.core.display.Javascript object>"
      ]
     },
     "metadata": {},
     "output_type": "display_data"
    }
   ],
   "source": [
    "pretrained_model = InceptionV3(\n",
    "    include_top=False,\n",
    "    weights=None,\n",
    "    input_shape=(TARGET_IMAGE_SIZE, TARGET_IMAGE_SIZE, 3),\n",
    ")"
   ]
  },
  {
   "cell_type": "code",
   "execution_count": 13,
   "metadata": {},
   "outputs": [
    {
     "data": {
      "application/javascript": [
       "\n",
       "            setTimeout(function() {\n",
       "                var nbb_cell_id = 13;\n",
       "                var nbb_unformatted_code = \"pretrained_model.load_weights(\\n    \\\"../week_3/pretrained_model/inception_v3_weights_tf_dim_ordering_tf_kernels_notop.h5\\\"\\n)\";\n",
       "                var nbb_formatted_code = \"pretrained_model.load_weights(\\n    \\\"../week_3/pretrained_model/inception_v3_weights_tf_dim_ordering_tf_kernels_notop.h5\\\"\\n)\";\n",
       "                var nbb_cells = Jupyter.notebook.get_cells();\n",
       "                for (var i = 0; i < nbb_cells.length; ++i) {\n",
       "                    if (nbb_cells[i].input_prompt_number == nbb_cell_id) {\n",
       "                        if (nbb_cells[i].get_text() == nbb_unformatted_code) {\n",
       "                             nbb_cells[i].set_text(nbb_formatted_code);\n",
       "                        }\n",
       "                        break;\n",
       "                    }\n",
       "                }\n",
       "            }, 500);\n",
       "            "
      ],
      "text/plain": [
       "<IPython.core.display.Javascript object>"
      ]
     },
     "metadata": {},
     "output_type": "display_data"
    }
   ],
   "source": [
    "pretrained_model.load_weights(\n",
    "    \"../week_3/pretrained_model/inception_v3_weights_tf_dim_ordering_tf_kernels_notop.h5\"\n",
    ")"
   ]
  },
  {
   "cell_type": "code",
   "execution_count": 15,
   "metadata": {},
   "outputs": [
    {
     "data": {
      "application/javascript": [
       "\n",
       "            setTimeout(function() {\n",
       "                var nbb_cell_id = 15;\n",
       "                var nbb_unformatted_code = \"for layers in pretrained_model.layers:\\n    layers.trainable = False\";\n",
       "                var nbb_formatted_code = \"for layers in pretrained_model.layers:\\n    layers.trainable = False\";\n",
       "                var nbb_cells = Jupyter.notebook.get_cells();\n",
       "                for (var i = 0; i < nbb_cells.length; ++i) {\n",
       "                    if (nbb_cells[i].input_prompt_number == nbb_cell_id) {\n",
       "                        if (nbb_cells[i].get_text() == nbb_unformatted_code) {\n",
       "                             nbb_cells[i].set_text(nbb_formatted_code);\n",
       "                        }\n",
       "                        break;\n",
       "                    }\n",
       "                }\n",
       "            }, 500);\n",
       "            "
      ],
      "text/plain": [
       "<IPython.core.display.Javascript object>"
      ]
     },
     "metadata": {},
     "output_type": "display_data"
    }
   ],
   "source": [
    "for layers in pretrained_model.layers:\n",
    "    layers.trainable = False"
   ]
  },
  {
   "cell_type": "code",
   "execution_count": 16,
   "metadata": {},
   "outputs": [
    {
     "data": {
      "application/javascript": [
       "\n",
       "            setTimeout(function() {\n",
       "                var nbb_cell_id = 16;\n",
       "                var nbb_unformatted_code = \"last_layer = pretrained_model.get_layer(\\\"mixed2\\\")\";\n",
       "                var nbb_formatted_code = \"last_layer = pretrained_model.get_layer(\\\"mixed2\\\")\";\n",
       "                var nbb_cells = Jupyter.notebook.get_cells();\n",
       "                for (var i = 0; i < nbb_cells.length; ++i) {\n",
       "                    if (nbb_cells[i].input_prompt_number == nbb_cell_id) {\n",
       "                        if (nbb_cells[i].get_text() == nbb_unformatted_code) {\n",
       "                             nbb_cells[i].set_text(nbb_formatted_code);\n",
       "                        }\n",
       "                        break;\n",
       "                    }\n",
       "                }\n",
       "            }, 500);\n",
       "            "
      ],
      "text/plain": [
       "<IPython.core.display.Javascript object>"
      ]
     },
     "metadata": {},
     "output_type": "display_data"
    }
   ],
   "source": [
    "last_layer = pretrained_model.get_layer(\"mixed2\")"
   ]
  },
  {
   "cell_type": "code",
   "execution_count": 17,
   "metadata": {},
   "outputs": [
    {
     "data": {
      "application/javascript": [
       "\n",
       "            setTimeout(function() {\n",
       "                var nbb_cell_id = 17;\n",
       "                var nbb_unformatted_code = \"def get_transfered_model():\\n\\n    output_layer = keras.layers.Flatten()(last_layer.output)\\n\\n    output_layer = keras.layers.Dense(units=512, activation=\\\"relu\\\")(output_layer)\\n    output_layer = keras.layers.Dropout(rate=0.4)(output_layer)\\n\\n    output_layer = keras.layers.Dense(units=3, activation=\\\"softmax\\\")(output_layer)\\n\\n    model = keras.Model(inputs=pretrained_model.input, outputs=output_layer)\\n\\n    model.compile(\\n        optimizer=\\\"adam\\\", loss=\\\"categorical_crossentropy\\\", metrics=[\\\"accuracy\\\"]\\n    )\\n\\n    return model\";\n",
       "                var nbb_formatted_code = \"def get_transfered_model():\\n\\n    output_layer = keras.layers.Flatten()(last_layer.output)\\n\\n    output_layer = keras.layers.Dense(units=512, activation=\\\"relu\\\")(output_layer)\\n    output_layer = keras.layers.Dropout(rate=0.4)(output_layer)\\n\\n    output_layer = keras.layers.Dense(units=3, activation=\\\"softmax\\\")(output_layer)\\n\\n    model = keras.Model(inputs=pretrained_model.input, outputs=output_layer)\\n\\n    model.compile(\\n        optimizer=\\\"adam\\\", loss=\\\"categorical_crossentropy\\\", metrics=[\\\"accuracy\\\"]\\n    )\\n\\n    return model\";\n",
       "                var nbb_cells = Jupyter.notebook.get_cells();\n",
       "                for (var i = 0; i < nbb_cells.length; ++i) {\n",
       "                    if (nbb_cells[i].input_prompt_number == nbb_cell_id) {\n",
       "                        if (nbb_cells[i].get_text() == nbb_unformatted_code) {\n",
       "                             nbb_cells[i].set_text(nbb_formatted_code);\n",
       "                        }\n",
       "                        break;\n",
       "                    }\n",
       "                }\n",
       "            }, 500);\n",
       "            "
      ],
      "text/plain": [
       "<IPython.core.display.Javascript object>"
      ]
     },
     "metadata": {},
     "output_type": "display_data"
    }
   ],
   "source": [
    "def get_transfered_model():\n",
    "\n",
    "    output_layer = keras.layers.Flatten()(last_layer.output)\n",
    "\n",
    "    output_layer = keras.layers.Dense(units=512, activation=\"relu\")(output_layer)\n",
    "    output_layer = keras.layers.Dropout(rate=0.4)(output_layer)\n",
    "\n",
    "    output_layer = keras.layers.Dense(units=3, activation=\"softmax\")(output_layer)\n",
    "\n",
    "    model = keras.Model(inputs=pretrained_model.input, outputs=output_layer)\n",
    "\n",
    "    model.compile(\n",
    "        optimizer=\"adam\", loss=\"categorical_crossentropy\", metrics=[\"accuracy\"]\n",
    "    )\n",
    "\n",
    "    return model"
   ]
  },
  {
   "cell_type": "code",
   "execution_count": 18,
   "metadata": {},
   "outputs": [
    {
     "data": {
      "application/javascript": [
       "\n",
       "            setTimeout(function() {\n",
       "                var nbb_cell_id = 18;\n",
       "                var nbb_unformatted_code = \"transfer_model = get_transfered_model()\";\n",
       "                var nbb_formatted_code = \"transfer_model = get_transfered_model()\";\n",
       "                var nbb_cells = Jupyter.notebook.get_cells();\n",
       "                for (var i = 0; i < nbb_cells.length; ++i) {\n",
       "                    if (nbb_cells[i].input_prompt_number == nbb_cell_id) {\n",
       "                        if (nbb_cells[i].get_text() == nbb_unformatted_code) {\n",
       "                             nbb_cells[i].set_text(nbb_formatted_code);\n",
       "                        }\n",
       "                        break;\n",
       "                    }\n",
       "                }\n",
       "            }, 500);\n",
       "            "
      ],
      "text/plain": [
       "<IPython.core.display.Javascript object>"
      ]
     },
     "metadata": {},
     "output_type": "display_data"
    }
   ],
   "source": [
    "transfer_model = get_transfered_model()"
   ]
  },
  {
   "cell_type": "code",
   "execution_count": 19,
   "metadata": {},
   "outputs": [
    {
     "name": "stdout",
     "output_type": "stream",
     "text": [
      "WARNING:tensorflow:sample_weight modes were coerced from\n",
      "  ...\n",
      "    to  \n",
      "  ['...']\n",
      "WARNING:tensorflow:sample_weight modes were coerced from\n",
      "  ...\n",
      "    to  \n",
      "  ['...']\n",
      "Train for 79 steps, validate for 12 steps\n",
      "Epoch 1/15\n",
      "79/79 [==============================] - 36s 455ms/step - loss: 7.2103 - accuracy: 0.5619 - val_loss: 0.6045 - val_accuracy: 0.8387\n",
      "Epoch 2/15\n",
      "79/79 [==============================] - 36s 452ms/step - loss: 0.4796 - accuracy: 0.8032 - val_loss: 0.5148 - val_accuracy: 0.7581\n",
      "Epoch 3/15\n",
      "79/79 [==============================] - 37s 468ms/step - loss: 0.3268 - accuracy: 0.8758 - val_loss: 0.6014 - val_accuracy: 0.7204\n",
      "Epoch 4/15\n",
      "79/79 [==============================] - 38s 484ms/step - loss: 0.2701 - accuracy: 0.8968 - val_loss: 0.5570 - val_accuracy: 0.7419\n"
     ]
    },
    {
     "data": {
      "application/javascript": [
       "\n",
       "            setTimeout(function() {\n",
       "                var nbb_cell_id = 19;\n",
       "                var nbb_unformatted_code = \"transfer_model_history = transfer_model.fit(\\n    train_generator,\\n    epochs=15,\\n    validation_data=validation_generator,\\n    callbacks=[early_stopping],\\n)\";\n",
       "                var nbb_formatted_code = \"transfer_model_history = transfer_model.fit(\\n    train_generator,\\n    epochs=15,\\n    validation_data=validation_generator,\\n    callbacks=[early_stopping],\\n)\";\n",
       "                var nbb_cells = Jupyter.notebook.get_cells();\n",
       "                for (var i = 0; i < nbb_cells.length; ++i) {\n",
       "                    if (nbb_cells[i].input_prompt_number == nbb_cell_id) {\n",
       "                        if (nbb_cells[i].get_text() == nbb_unformatted_code) {\n",
       "                             nbb_cells[i].set_text(nbb_formatted_code);\n",
       "                        }\n",
       "                        break;\n",
       "                    }\n",
       "                }\n",
       "            }, 500);\n",
       "            "
      ],
      "text/plain": [
       "<IPython.core.display.Javascript object>"
      ]
     },
     "metadata": {},
     "output_type": "display_data"
    }
   ],
   "source": [
    "transfer_model_history = transfer_model.fit(\n",
    "    train_generator,\n",
    "    epochs=15,\n",
    "    validation_data=validation_generator,\n",
    "    callbacks=[early_stopping],\n",
    ")"
   ]
  },
  {
   "cell_type": "code",
   "execution_count": 20,
   "metadata": {},
   "outputs": [
    {
     "data": {
      "text/plain": [
       "Text(0.5, 1.0, 'Loss Train vs Validation')"
      ]
     },
     "execution_count": 20,
     "metadata": {},
     "output_type": "execute_result"
    },
    {
     "data": {
      "image/png": "[encoded data removed]",
      "text/plain": [
       "<Figure size 432x288 with 1 Axes>"
      ]
     },
     "metadata": {
      "needs_background": "light"
     },
     "output_type": "display_data"
    },
    {
     "data": {
      "application/javascript": [
       "\n",
       "            setTimeout(function() {\n",
       "                var nbb_cell_id = 20;\n",
       "                var nbb_unformatted_code = \"plt.plot(\\n    transfer_model_history.epoch,\\n    transfer_model_history.history[\\\"loss\\\"],\\n    \\\"r-\\\",\\n    label=\\\"Training\\\",\\n)\\nplt.plot(\\n    transfer_model_history.epoch,\\n    transfer_model_history.history[\\\"val_loss\\\"],\\n    \\\"g-\\\",\\n    label=\\\"Validation\\\",\\n)\\n\\nplt.title(\\\"Loss Train vs Validation\\\")\";\n",
       "                var nbb_formatted_code = \"plt.plot(\\n    transfer_model_history.epoch,\\n    transfer_model_history.history[\\\"loss\\\"],\\n    \\\"r-\\\",\\n    label=\\\"Training\\\",\\n)\\nplt.plot(\\n    transfer_model_history.epoch,\\n    transfer_model_history.history[\\\"val_loss\\\"],\\n    \\\"g-\\\",\\n    label=\\\"Validation\\\",\\n)\\n\\nplt.title(\\\"Loss Train vs Validation\\\")\";\n",
       "                var nbb_cells = Jupyter.notebook.get_cells();\n",
       "                for (var i = 0; i < nbb_cells.length; ++i) {\n",
       "                    if (nbb_cells[i].input_prompt_number == nbb_cell_id) {\n",
       "                        if (nbb_cells[i].get_text() == nbb_unformatted_code) {\n",
       "                             nbb_cells[i].set_text(nbb_formatted_code);\n",
       "                        }\n",
       "                        break;\n",
       "                    }\n",
       "                }\n",
       "            }, 500);\n",
       "            "
      ],
      "text/plain": [
       "<IPython.core.display.Javascript object>"
      ]
     },
     "metadata": {},
     "output_type": "display_data"
    }
   ],
   "source": [
    "plt.plot(\n",
    "    transfer_model_history.epoch,\n",
    "    transfer_model_history.history[\"loss\"],\n",
    "    \"r-\",\n",
    "    label=\"Training\",\n",
    ")\n",
    "plt.plot(\n",
    "    transfer_model_history.epoch,\n",
    "    transfer_model_history.history[\"val_loss\"],\n",
    "    \"g-\",\n",
    "    label=\"Validation\",\n",
    ")\n",
    "\n",
    "plt.title(\"Loss Train vs Validation\")"
   ]
  },
  {
   "cell_type": "code",
   "execution_count": 21,
   "metadata": {},
   "outputs": [
    {
     "data": {
      "text/plain": [
       "Text(0.5, 1.0, 'Accuracy Train vs Validation')"
      ]
     },
     "execution_count": 21,
     "metadata": {},
     "output_type": "execute_result"
    },
    {
     "data": {
      "image/png": "[encoded data removed]",
      "text/plain": [
       "<Figure size 432x288 with 1 Axes>"
      ]
     },
     "metadata": {
      "needs_background": "light"
     },
     "output_type": "display_data"
    },
    {
     "data": {
      "application/javascript": [
       "\n",
       "            setTimeout(function() {\n",
       "                var nbb_cell_id = 21;\n",
       "                var nbb_unformatted_code = \"plt.plot(\\n    transfer_model_history.epoch, transfer_model_history.history[\\\"accuracy\\\"], color=\\\"r\\\",\\n)\\nplt.plot(\\n    transfer_model_history.epoch,\\n    transfer_model_history.history[\\\"val_accuracy\\\"],\\n    color=\\\"g\\\",\\n)\\n\\nplt.title(\\\"Accuracy Train vs Validation\\\")\";\n",
       "                var nbb_formatted_code = \"plt.plot(\\n    transfer_model_history.epoch, transfer_model_history.history[\\\"accuracy\\\"], color=\\\"r\\\",\\n)\\nplt.plot(\\n    transfer_model_history.epoch,\\n    transfer_model_history.history[\\\"val_accuracy\\\"],\\n    color=\\\"g\\\",\\n)\\n\\nplt.title(\\\"Accuracy Train vs Validation\\\")\";\n",
       "                var nbb_cells = Jupyter.notebook.get_cells();\n",
       "                for (var i = 0; i < nbb_cells.length; ++i) {\n",
       "                    if (nbb_cells[i].input_prompt_number == nbb_cell_id) {\n",
       "                        if (nbb_cells[i].get_text() == nbb_unformatted_code) {\n",
       "                             nbb_cells[i].set_text(nbb_formatted_code);\n",
       "                        }\n",
       "                        break;\n",
       "                    }\n",
       "                }\n",
       "            }, 500);\n",
       "            "
      ],
      "text/plain": [
       "<IPython.core.display.Javascript object>"
      ]
     },
     "metadata": {},
     "output_type": "display_data"
    }
   ],
   "source": [
    "plt.plot(\n",
    "    transfer_model_history.epoch, transfer_model_history.history[\"accuracy\"], color=\"r\",\n",
    ")\n",
    "plt.plot(\n",
    "    transfer_model_history.epoch,\n",
    "    transfer_model_history.history[\"val_accuracy\"],\n",
    "    color=\"g\",\n",
    ")\n",
    "\n",
    "plt.title(\"Accuracy Train vs Validation\")"
   ]
  },
  {
   "cell_type": "markdown",
   "metadata": {},
   "source": [
    "## Prediction"
   ]
  },
  {
   "cell_type": "code",
   "execution_count": 22,
   "metadata": {},
   "outputs": [
    {
     "data": {
      "application/javascript": [
       "\n",
       "            setTimeout(function() {\n",
       "                var nbb_cell_id = 22;\n",
       "                var nbb_unformatted_code = \"import random\";\n",
       "                var nbb_formatted_code = \"import random\";\n",
       "                var nbb_cells = Jupyter.notebook.get_cells();\n",
       "                for (var i = 0; i < nbb_cells.length; ++i) {\n",
       "                    if (nbb_cells[i].input_prompt_number == nbb_cell_id) {\n",
       "                        if (nbb_cells[i].get_text() == nbb_unformatted_code) {\n",
       "                             nbb_cells[i].set_text(nbb_formatted_code);\n",
       "                        }\n",
       "                        break;\n",
       "                    }\n",
       "                }\n",
       "            }, 500);\n",
       "            "
      ],
      "text/plain": [
       "<IPython.core.display.Javascript object>"
      ]
     },
     "metadata": {},
     "output_type": "display_data"
    }
   ],
   "source": [
    "import random"
   ]
  },
  {
   "cell_type": "code",
   "execution_count": 23,
   "metadata": {},
   "outputs": [
    {
     "data": {
      "application/javascript": [
       "\n",
       "            setTimeout(function() {\n",
       "                var nbb_cell_id = 23;\n",
       "                var nbb_unformatted_code = \"random.seed(42)\";\n",
       "                var nbb_formatted_code = \"random.seed(42)\";\n",
       "                var nbb_cells = Jupyter.notebook.get_cells();\n",
       "                for (var i = 0; i < nbb_cells.length; ++i) {\n",
       "                    if (nbb_cells[i].input_prompt_number == nbb_cell_id) {\n",
       "                        if (nbb_cells[i].get_text() == nbb_unformatted_code) {\n",
       "                             nbb_cells[i].set_text(nbb_formatted_code);\n",
       "                        }\n",
       "                        break;\n",
       "                    }\n",
       "                }\n",
       "            }, 500);\n",
       "            "
      ],
      "text/plain": [
       "<IPython.core.display.Javascript object>"
      ]
     },
     "metadata": {},
     "output_type": "display_data"
    }
   ],
   "source": [
    "random.seed(42)"
   ]
  },
  {
   "cell_type": "code",
   "execution_count": 24,
   "metadata": {},
   "outputs": [
    {
     "data": {
      "application/javascript": [
       "\n",
       "            setTimeout(function() {\n",
       "                var nbb_cell_id = 24;\n",
       "                var nbb_unformatted_code = \"prediction_data_path = \\\"rock_paper_scissor_dataset/prediction/\\\"\";\n",
       "                var nbb_formatted_code = \"prediction_data_path = \\\"rock_paper_scissor_dataset/prediction/\\\"\";\n",
       "                var nbb_cells = Jupyter.notebook.get_cells();\n",
       "                for (var i = 0; i < nbb_cells.length; ++i) {\n",
       "                    if (nbb_cells[i].input_prompt_number == nbb_cell_id) {\n",
       "                        if (nbb_cells[i].get_text() == nbb_unformatted_code) {\n",
       "                             nbb_cells[i].set_text(nbb_formatted_code);\n",
       "                        }\n",
       "                        break;\n",
       "                    }\n",
       "                }\n",
       "            }, 500);\n",
       "            "
      ],
      "text/plain": [
       "<IPython.core.display.Javascript object>"
      ]
     },
     "metadata": {},
     "output_type": "display_data"
    }
   ],
   "source": [
    "prediction_data_path = \"rock_paper_scissor_dataset/prediction/\""
   ]
  },
  {
   "cell_type": "code",
   "execution_count": 25,
   "metadata": {},
   "outputs": [
    {
     "data": {
      "application/javascript": [
       "\n",
       "            setTimeout(function() {\n",
       "                var nbb_cell_id = 25;\n",
       "                var nbb_unformatted_code = \"def postporcess_preciction(prediction: int):\\n    classes = {0: \\\"paper\\\", 1: \\\"rock\\\", 2: \\\"scissors\\\"}\\n    print(\\\"Prediction is: %s\\\" % (classes[prediction]))\";\n",
       "                var nbb_formatted_code = \"def postporcess_preciction(prediction: int):\\n    classes = {0: \\\"paper\\\", 1: \\\"rock\\\", 2: \\\"scissors\\\"}\\n    print(\\\"Prediction is: %s\\\" % (classes[prediction]))\";\n",
       "                var nbb_cells = Jupyter.notebook.get_cells();\n",
       "                for (var i = 0; i < nbb_cells.length; ++i) {\n",
       "                    if (nbb_cells[i].input_prompt_number == nbb_cell_id) {\n",
       "                        if (nbb_cells[i].get_text() == nbb_unformatted_code) {\n",
       "                             nbb_cells[i].set_text(nbb_formatted_code);\n",
       "                        }\n",
       "                        break;\n",
       "                    }\n",
       "                }\n",
       "            }, 500);\n",
       "            "
      ],
      "text/plain": [
       "<IPython.core.display.Javascript object>"
      ]
     },
     "metadata": {},
     "output_type": "display_data"
    }
   ],
   "source": [
    "def postporcess_preciction(prediction: int):\n",
    "    classes = {0: \"paper\", 1: \"rock\", 2: \"scissors\"}\n",
    "    print(\"Prediction is: %s\" % (classes[prediction]))"
   ]
  },
  {
   "cell_type": "code",
   "execution_count": 26,
   "metadata": {},
   "outputs": [
    {
     "data": {
      "application/javascript": [
       "\n",
       "            setTimeout(function() {\n",
       "                var nbb_cell_id = 26;\n",
       "                var nbb_unformatted_code = \"def preprocess_image(prediction_file: str):\\n\\n    print(\\\"Preprocessing\\\", prediction_file)\\n    img = keras.preprocessing.image.load_img(\\n        os.path.join(prediction_data_path, prediction_file),\\n        target_size=(TARGET_IMAGE_SIZE, TARGET_IMAGE_SIZE),\\n    )\\n\\n    x = keras.preprocessing.image.img_to_array(img)\\n\\n    x = np.expand_dims(x, axis=0)\\n\\n    images = np.vstack([x])\\n\\n    images /= 255\\n\\n    return images\";\n",
       "                var nbb_formatted_code = \"def preprocess_image(prediction_file: str):\\n\\n    print(\\\"Preprocessing\\\", prediction_file)\\n    img = keras.preprocessing.image.load_img(\\n        os.path.join(prediction_data_path, prediction_file),\\n        target_size=(TARGET_IMAGE_SIZE, TARGET_IMAGE_SIZE),\\n    )\\n\\n    x = keras.preprocessing.image.img_to_array(img)\\n\\n    x = np.expand_dims(x, axis=0)\\n\\n    images = np.vstack([x])\\n\\n    images /= 255\\n\\n    return images\";\n",
       "                var nbb_cells = Jupyter.notebook.get_cells();\n",
       "                for (var i = 0; i < nbb_cells.length; ++i) {\n",
       "                    if (nbb_cells[i].input_prompt_number == nbb_cell_id) {\n",
       "                        if (nbb_cells[i].get_text() == nbb_unformatted_code) {\n",
       "                             nbb_cells[i].set_text(nbb_formatted_code);\n",
       "                        }\n",
       "                        break;\n",
       "                    }\n",
       "                }\n",
       "            }, 500);\n",
       "            "
      ],
      "text/plain": [
       "<IPython.core.display.Javascript object>"
      ]
     },
     "metadata": {},
     "output_type": "display_data"
    }
   ],
   "source": [
    "def preprocess_image(prediction_file: str):\n",
    "\n",
    "    print(\"Preprocessing\", prediction_file)\n",
    "    img = keras.preprocessing.image.load_img(\n",
    "        os.path.join(prediction_data_path, prediction_file),\n",
    "        target_size=(TARGET_IMAGE_SIZE, TARGET_IMAGE_SIZE),\n",
    "    )\n",
    "\n",
    "    x = keras.preprocessing.image.img_to_array(img)\n",
    "\n",
    "    x = np.expand_dims(x, axis=0)\n",
    "\n",
    "    images = np.vstack([x])\n",
    "\n",
    "    images /= 255\n",
    "\n",
    "    return images"
   ]
  },
  {
   "cell_type": "code",
   "execution_count": 54,
   "metadata": {},
   "outputs": [
    {
     "name": "stdout",
     "output_type": "stream",
     "text": [
      "Preprocessing paper9.png\n"
     ]
    },
    {
     "data": {
      "application/javascript": [
       "\n",
       "            setTimeout(function() {\n",
       "                var nbb_cell_id = 54;\n",
       "                var nbb_unformatted_code = \"prediction_files = os.listdir(prediction_data_path)\\nprediction_file = random.choice(prediction_files)\\nprediction_image = preprocess_image(prediction_file)\";\n",
       "                var nbb_formatted_code = \"prediction_files = os.listdir(prediction_data_path)\\nprediction_file = random.choice(prediction_files)\\nprediction_image = preprocess_image(prediction_file)\";\n",
       "                var nbb_cells = Jupyter.notebook.get_cells();\n",
       "                for (var i = 0; i < nbb_cells.length; ++i) {\n",
       "                    if (nbb_cells[i].input_prompt_number == nbb_cell_id) {\n",
       "                        if (nbb_cells[i].get_text() == nbb_unformatted_code) {\n",
       "                             nbb_cells[i].set_text(nbb_formatted_code);\n",
       "                        }\n",
       "                        break;\n",
       "                    }\n",
       "                }\n",
       "            }, 500);\n",
       "            "
      ],
      "text/plain": [
       "<IPython.core.display.Javascript object>"
      ]
     },
     "metadata": {},
     "output_type": "display_data"
    }
   ],
   "source": [
    "prediction_files = os.listdir(prediction_data_path)\n",
    "prediction_file = random.choice(prediction_files)\n",
    "prediction_image = preprocess_image(prediction_file)"
   ]
  },
  {
   "cell_type": "code",
   "execution_count": 55,
   "metadata": {},
   "outputs": [
    {
     "data": {
      "image/png": "[encoded data removed]",
      "text/plain": [
       "<Figure size 432x288 with 1 Axes>"
      ]
     },
     "metadata": {
      "needs_background": "light"
     },
     "output_type": "display_data"
    },
    {
     "data": {
      "application/javascript": [
       "\n",
       "            setTimeout(function() {\n",
       "                var nbb_cell_id = 55;\n",
       "                var nbb_unformatted_code = \"plt.imshow(plt.imread(os.path.join(prediction_data_path, prediction_file)))\\nplt.show()\";\n",
       "                var nbb_formatted_code = \"plt.imshow(plt.imread(os.path.join(prediction_data_path, prediction_file)))\\nplt.show()\";\n",
       "                var nbb_cells = Jupyter.notebook.get_cells();\n",
       "                for (var i = 0; i < nbb_cells.length; ++i) {\n",
       "                    if (nbb_cells[i].input_prompt_number == nbb_cell_id) {\n",
       "                        if (nbb_cells[i].get_text() == nbb_unformatted_code) {\n",
       "                             nbb_cells[i].set_text(nbb_formatted_code);\n",
       "                        }\n",
       "                        break;\n",
       "                    }\n",
       "                }\n",
       "            }, 500);\n",
       "            "
      ],
      "text/plain": [
       "<IPython.core.display.Javascript object>"
      ]
     },
     "metadata": {},
     "output_type": "display_data"
    }
   ],
   "source": [
    "plt.imshow(plt.imread(os.path.join(prediction_data_path, prediction_file)))\n",
    "plt.show()"
   ]
  },
  {
   "cell_type": "code",
   "execution_count": 56,
   "metadata": {},
   "outputs": [
    {
     "data": {
      "application/javascript": [
       "\n",
       "            setTimeout(function() {\n",
       "                var nbb_cell_id = 56;\n",
       "                var nbb_unformatted_code = \"predicted_value = simple_conv_model.predict_classes(prediction_image)\";\n",
       "                var nbb_formatted_code = \"predicted_value = simple_conv_model.predict_classes(prediction_image)\";\n",
       "                var nbb_cells = Jupyter.notebook.get_cells();\n",
       "                for (var i = 0; i < nbb_cells.length; ++i) {\n",
       "                    if (nbb_cells[i].input_prompt_number == nbb_cell_id) {\n",
       "                        if (nbb_cells[i].get_text() == nbb_unformatted_code) {\n",
       "                             nbb_cells[i].set_text(nbb_formatted_code);\n",
       "                        }\n",
       "                        break;\n",
       "                    }\n",
       "                }\n",
       "            }, 500);\n",
       "            "
      ],
      "text/plain": [
       "<IPython.core.display.Javascript object>"
      ]
     },
     "metadata": {},
     "output_type": "display_data"
    }
   ],
   "source": [
    "predicted_value = simple_conv_model.predict_classes(prediction_image)"
   ]
  },
  {
   "cell_type": "code",
   "execution_count": 57,
   "metadata": {},
   "outputs": [
    {
     "name": "stdout",
     "output_type": "stream",
     "text": [
      "Prediction is: scissors\n"
     ]
    },
    {
     "data": {
      "application/javascript": [
       "\n",
       "            setTimeout(function() {\n",
       "                var nbb_cell_id = 57;\n",
       "                var nbb_unformatted_code = \"postporcess_preciction(predicted_value[0])\";\n",
       "                var nbb_formatted_code = \"postporcess_preciction(predicted_value[0])\";\n",
       "                var nbb_cells = Jupyter.notebook.get_cells();\n",
       "                for (var i = 0; i < nbb_cells.length; ++i) {\n",
       "                    if (nbb_cells[i].input_prompt_number == nbb_cell_id) {\n",
       "                        if (nbb_cells[i].get_text() == nbb_unformatted_code) {\n",
       "                             nbb_cells[i].set_text(nbb_formatted_code);\n",
       "                        }\n",
       "                        break;\n",
       "                    }\n",
       "                }\n",
       "            }, 500);\n",
       "            "
      ],
      "text/plain": [
       "<IPython.core.display.Javascript object>"
      ]
     },
     "metadata": {},
     "output_type": "display_data"
    }
   ],
   "source": [
    "postporcess_preciction(predicted_value[0])"
   ]
  },
  {
   "cell_type": "code",
   "execution_count": 58,
   "metadata": {},
   "outputs": [
    {
     "name": "stdout",
     "output_type": "stream",
     "text": [
      "Prediction is: paper\n"
     ]
    },
    {
     "data": {
      "application/javascript": [
       "\n",
       "            setTimeout(function() {\n",
       "                var nbb_cell_id = 58;\n",
       "                var nbb_unformatted_code = \"postporcess_preciction(np.argmax(transfer_model.predict(prediction_image)))\";\n",
       "                var nbb_formatted_code = \"postporcess_preciction(np.argmax(transfer_model.predict(prediction_image)))\";\n",
       "                var nbb_cells = Jupyter.notebook.get_cells();\n",
       "                for (var i = 0; i < nbb_cells.length; ++i) {\n",
       "                    if (nbb_cells[i].input_prompt_number == nbb_cell_id) {\n",
       "                        if (nbb_cells[i].get_text() == nbb_unformatted_code) {\n",
       "                             nbb_cells[i].set_text(nbb_formatted_code);\n",
       "                        }\n",
       "                        break;\n",
       "                    }\n",
       "                }\n",
       "            }, 500);\n",
       "            "
      ],
      "text/plain": [
       "<IPython.core.display.Javascript object>"
      ]
     },
     "metadata": {},
     "output_type": "display_data"
    }
   ],
   "source": [
    "postporcess_preciction(np.argmax(transfer_model.predict(prediction_image)))"
   ]
  },
  {
   "cell_type": "code",
   "execution_count": null,
   "metadata": {},
   "outputs": [],
   "source": []
  }
 ],
 "metadata": {
  "kernelspec": {
   "display_name": "Python 3",
   "language": "python",
   "name": "python3"
  },
  "language_info": {
   "codemirror_mode": {
    "name": "ipython",
    "version": 3
   },
   "file_extension": ".py",
   "mimetype": "text/x-python",
   "name": "python",
   "nbconvert_exporter": "python",
   "pygments_lexer": "ipython3",
   "version": "3.7.5"
  }
 },
 "nbformat": 4,
 "nbformat_minor": 4
}
