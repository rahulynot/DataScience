{
 "cells": [
  {
   "cell_type": "code",
   "execution_count": 1,
   "metadata": {},
   "outputs": [
    {
     "name": "stderr",
     "output_type": "stream",
     "text": [
      "Using TensorFlow backend.\n"
     ]
    },
    {
     "data": {
      "application/javascript": [
       "\n",
       "            setTimeout(function() {\n",
       "                var nbb_cell_id = 1;\n",
       "                var nbb_unformatted_code = \"import tensorflow as tf\\nimport tensorflow.keras as keras\\nimport numpy as np\\nimport pandas as pd\\nimport matplotlib.pyplot as plt\\n\\n\\nfrom keras.datasets import fashion_mnist\\n\\nfrom sklearn.preprocessing import StandardScaler\\nfrom sklearn.metrics import classification_report\\nfrom sklearn.metrics import confusion_matrix\\n\\nimport itertools\\n\\n%matplotlib inline\\n%reload_ext nb_black\";\n",
       "                var nbb_formatted_code = \"import tensorflow as tf\\nimport tensorflow.keras as keras\\nimport numpy as np\\nimport pandas as pd\\nimport matplotlib.pyplot as plt\\n\\n\\nfrom keras.datasets import fashion_mnist\\n\\nfrom sklearn.preprocessing import StandardScaler\\nfrom sklearn.metrics import classification_report\\nfrom sklearn.metrics import confusion_matrix\\n\\nimport itertools\\n\\n%matplotlib inline\\n%reload_ext nb_black\";\n",
       "                var nbb_cells = Jupyter.notebook.get_cells();\n",
       "                for (var i = 0; i < nbb_cells.length; ++i) {\n",
       "                    if (nbb_cells[i].input_prompt_number == nbb_cell_id) {\n",
       "                        if (nbb_cells[i].get_text() == nbb_unformatted_code) {\n",
       "                             nbb_cells[i].set_text(nbb_formatted_code);\n",
       "                        }\n",
       "                        break;\n",
       "                    }\n",
       "                }\n",
       "            }, 500);\n",
       "            "
      ],
      "text/plain": [
       "<IPython.core.display.Javascript object>"
      ]
     },
     "metadata": {},
     "output_type": "display_data"
    }
   ],
   "source": [
    "import tensorflow as tf\n",
    "import tensorflow.keras as keras\n",
    "import numpy as np\n",
    "import pandas as pd\n",
    "import matplotlib.pyplot as plt\n",
    "\n",
    "\n",
    "from keras.datasets import fashion_mnist\n",
    "\n",
    "from sklearn.preprocessing import StandardScaler\n",
    "from sklearn.metrics import classification_report\n",
    "from sklearn.metrics import confusion_matrix\n",
    "\n",
    "import itertools\n",
    "\n",
    "%matplotlib inline\n",
    "%reload_ext nb_black"
   ]
  },
  {
   "cell_type": "code",
   "execution_count": 2,
   "metadata": {},
   "outputs": [
    {
     "data": {
      "text/plain": [
       "'2.1.0'"
      ]
     },
     "execution_count": 2,
     "metadata": {},
     "output_type": "execute_result"
    },
    {
     "data": {
      "application/javascript": [
       "\n",
       "            setTimeout(function() {\n",
       "                var nbb_cell_id = 2;\n",
       "                var nbb_unformatted_code = \"tf.__version__\";\n",
       "                var nbb_formatted_code = \"tf.__version__\";\n",
       "                var nbb_cells = Jupyter.notebook.get_cells();\n",
       "                for (var i = 0; i < nbb_cells.length; ++i) {\n",
       "                    if (nbb_cells[i].input_prompt_number == nbb_cell_id) {\n",
       "                        if (nbb_cells[i].get_text() == nbb_unformatted_code) {\n",
       "                             nbb_cells[i].set_text(nbb_formatted_code);\n",
       "                        }\n",
       "                        break;\n",
       "                    }\n",
       "                }\n",
       "            }, 500);\n",
       "            "
      ],
      "text/plain": [
       "<IPython.core.display.Javascript object>"
      ]
     },
     "metadata": {},
     "output_type": "display_data"
    }
   ],
   "source": [
    "tf.__version__"
   ]
  },
  {
   "cell_type": "code",
   "execution_count": 3,
   "metadata": {},
   "outputs": [
    {
     "data": {
      "application/javascript": [
       "\n",
       "            setTimeout(function() {\n",
       "                var nbb_cell_id = 3;\n",
       "                var nbb_unformatted_code = \"(x_train, y_train), (x_test, y_test) = fashion_mnist.load_data()\";\n",
       "                var nbb_formatted_code = \"(x_train, y_train), (x_test, y_test) = fashion_mnist.load_data()\";\n",
       "                var nbb_cells = Jupyter.notebook.get_cells();\n",
       "                for (var i = 0; i < nbb_cells.length; ++i) {\n",
       "                    if (nbb_cells[i].input_prompt_number == nbb_cell_id) {\n",
       "                        if (nbb_cells[i].get_text() == nbb_unformatted_code) {\n",
       "                             nbb_cells[i].set_text(nbb_formatted_code);\n",
       "                        }\n",
       "                        break;\n",
       "                    }\n",
       "                }\n",
       "            }, 500);\n",
       "            "
      ],
      "text/plain": [
       "<IPython.core.display.Javascript object>"
      ]
     },
     "metadata": {},
     "output_type": "display_data"
    }
   ],
   "source": [
    "(x_train, y_train), (x_test, y_test) = fashion_mnist.load_data()"
   ]
  },
  {
   "cell_type": "code",
   "execution_count": 4,
   "metadata": {},
   "outputs": [
    {
     "data": {
      "application/javascript": [
       "\n",
       "            setTimeout(function() {\n",
       "                var nbb_cell_id = 4;\n",
       "                var nbb_unformatted_code = \"x_train = x_train / 255.0\\nx_test = x_test / 255.0\";\n",
       "                var nbb_formatted_code = \"x_train = x_train / 255.0\\nx_test = x_test / 255.0\";\n",
       "                var nbb_cells = Jupyter.notebook.get_cells();\n",
       "                for (var i = 0; i < nbb_cells.length; ++i) {\n",
       "                    if (nbb_cells[i].input_prompt_number == nbb_cell_id) {\n",
       "                        if (nbb_cells[i].get_text() == nbb_unformatted_code) {\n",
       "                             nbb_cells[i].set_text(nbb_formatted_code);\n",
       "                        }\n",
       "                        break;\n",
       "                    }\n",
       "                }\n",
       "            }, 500);\n",
       "            "
      ],
      "text/plain": [
       "<IPython.core.display.Javascript object>"
      ]
     },
     "metadata": {},
     "output_type": "display_data"
    }
   ],
   "source": [
    "x_train = x_train / 255.0\n",
    "x_test = x_test / 255.0"
   ]
  },
  {
   "cell_type": "code",
   "execution_count": 5,
   "metadata": {},
   "outputs": [
    {
     "data": {
      "application/javascript": [
       "\n",
       "            setTimeout(function() {\n",
       "                var nbb_cell_id = 5;\n",
       "                var nbb_unformatted_code = \"class_names = [\\n    \\\"T-shirt/top\\\",\\n    \\\"Trouser\\\",\\n    \\\"Pullover\\\",\\n    \\\"Dress\\\",\\n    \\\"Coat\\\",\\n    \\\"Sandal\\\",\\n    \\\"Shirt\\\",\\n    \\\"Sneaker\\\",\\n    \\\"Bag\\\",\\n    \\\"Ankle boot\\\",\\n]\\n\\n\\ndef to_label(index: int) -> str:\\n\\n    return class_names[index]\";\n",
       "                var nbb_formatted_code = \"class_names = [\\n    \\\"T-shirt/top\\\",\\n    \\\"Trouser\\\",\\n    \\\"Pullover\\\",\\n    \\\"Dress\\\",\\n    \\\"Coat\\\",\\n    \\\"Sandal\\\",\\n    \\\"Shirt\\\",\\n    \\\"Sneaker\\\",\\n    \\\"Bag\\\",\\n    \\\"Ankle boot\\\",\\n]\\n\\n\\ndef to_label(index: int) -> str:\\n\\n    return class_names[index]\";\n",
       "                var nbb_cells = Jupyter.notebook.get_cells();\n",
       "                for (var i = 0; i < nbb_cells.length; ++i) {\n",
       "                    if (nbb_cells[i].input_prompt_number == nbb_cell_id) {\n",
       "                        if (nbb_cells[i].get_text() == nbb_unformatted_code) {\n",
       "                             nbb_cells[i].set_text(nbb_formatted_code);\n",
       "                        }\n",
       "                        break;\n",
       "                    }\n",
       "                }\n",
       "            }, 500);\n",
       "            "
      ],
      "text/plain": [
       "<IPython.core.display.Javascript object>"
      ]
     },
     "metadata": {},
     "output_type": "display_data"
    }
   ],
   "source": [
    "class_names = [\n",
    "    \"T-shirt/top\",\n",
    "    \"Trouser\",\n",
    "    \"Pullover\",\n",
    "    \"Dress\",\n",
    "    \"Coat\",\n",
    "    \"Sandal\",\n",
    "    \"Shirt\",\n",
    "    \"Sneaker\",\n",
    "    \"Bag\",\n",
    "    \"Ankle boot\",\n",
    "]\n",
    "\n",
    "\n",
    "def to_label(index: int) -> str:\n",
    "\n",
    "    return class_names[index]"
   ]
  },
  {
   "cell_type": "code",
   "execution_count": 6,
   "metadata": {},
   "outputs": [
    {
     "data": {
      "application/javascript": [
       "\n",
       "            setTimeout(function() {\n",
       "                var nbb_cell_id = 6;\n",
       "                var nbb_unformatted_code = \"class MyEarlyStopping(keras.callbacks.Callback):\\n    def on_epoch_end(self, epoch, logs={}):\\n        print(\\\"\\\\n$$Logs:\\\", logs)\\n        if logs.get(\\\"val_accuracy\\\") > 0.88:\\n            print(\\\"Reached 88% accuracy. Stopping training!\\\")\\n            self.model.stop_training = True\";\n",
       "                var nbb_formatted_code = \"class MyEarlyStopping(keras.callbacks.Callback):\\n    def on_epoch_end(self, epoch, logs={}):\\n        print(\\\"\\\\n$$Logs:\\\", logs)\\n        if logs.get(\\\"val_accuracy\\\") > 0.88:\\n            print(\\\"Reached 88% accuracy. Stopping training!\\\")\\n            self.model.stop_training = True\";\n",
       "                var nbb_cells = Jupyter.notebook.get_cells();\n",
       "                for (var i = 0; i < nbb_cells.length; ++i) {\n",
       "                    if (nbb_cells[i].input_prompt_number == nbb_cell_id) {\n",
       "                        if (nbb_cells[i].get_text() == nbb_unformatted_code) {\n",
       "                             nbb_cells[i].set_text(nbb_formatted_code);\n",
       "                        }\n",
       "                        break;\n",
       "                    }\n",
       "                }\n",
       "            }, 500);\n",
       "            "
      ],
      "text/plain": [
       "<IPython.core.display.Javascript object>"
      ]
     },
     "metadata": {},
     "output_type": "display_data"
    }
   ],
   "source": [
    "class MyEarlyStopping(keras.callbacks.Callback):\n",
    "    def on_epoch_end(self, epoch, logs={}):\n",
    "        print(\"\\n$$Logs:\", logs)\n",
    "        if logs.get(\"val_accuracy\") > 0.88:\n",
    "            print(\"Reached 88% accuracy. Stopping training!\")\n",
    "            self.model.stop_training = True"
   ]
  },
  {
   "cell_type": "code",
   "execution_count": 7,
   "metadata": {},
   "outputs": [
    {
     "data": {
      "application/javascript": [
       "\n",
       "            setTimeout(function() {\n",
       "                var nbb_cell_id = 7;\n",
       "                var nbb_unformatted_code = \"def create_model()->keras.models.Model():\\n    \\n    model = keras.Sequential()\\n    \\n    model.add(keras.layers.Flatten())\\n    model.add(keras.layers.Dense(units=512, activation='relu'))\\n    model.add(keras.layers.Dense(units=256, activation='relu'))\\n    model.add(keras.layers.Dense(units=len(class_names), activation='softmax'))\\n    \\n    model.compile(optimizer='adam', loss='sparse_categorical_crossentropy', metrics=['accuracy'])\\n    \\n    return model\";\n",
       "                var nbb_formatted_code = \"def create_model() -> keras.models.Model():\\n\\n    model = keras.Sequential()\\n\\n    model.add(keras.layers.Flatten())\\n    model.add(keras.layers.Dense(units=512, activation=\\\"relu\\\"))\\n    model.add(keras.layers.Dense(units=256, activation=\\\"relu\\\"))\\n    model.add(keras.layers.Dense(units=len(class_names), activation=\\\"softmax\\\"))\\n\\n    model.compile(\\n        optimizer=\\\"adam\\\", loss=\\\"sparse_categorical_crossentropy\\\", metrics=[\\\"accuracy\\\"]\\n    )\\n\\n    return model\";\n",
       "                var nbb_cells = Jupyter.notebook.get_cells();\n",
       "                for (var i = 0; i < nbb_cells.length; ++i) {\n",
       "                    if (nbb_cells[i].input_prompt_number == nbb_cell_id) {\n",
       "                        if (nbb_cells[i].get_text() == nbb_unformatted_code) {\n",
       "                             nbb_cells[i].set_text(nbb_formatted_code);\n",
       "                        }\n",
       "                        break;\n",
       "                    }\n",
       "                }\n",
       "            }, 500);\n",
       "            "
      ],
      "text/plain": [
       "<IPython.core.display.Javascript object>"
      ]
     },
     "metadata": {},
     "output_type": "display_data"
    }
   ],
   "source": [
    "def create_model()->keras.models.Model():\n",
    "    \n",
    "    model = keras.Sequential()\n",
    "    \n",
    "    model.add(keras.layers.Flatten())\n",
    "    model.add(keras.layers.Dense(units=512, activation='relu'))\n",
    "    model.add(keras.layers.Dense(units=256, activation='relu'))\n",
    "    model.add(keras.layers.Dense(units=len(class_names), activation='softmax'))\n",
    "    \n",
    "    model.compile(optimizer='adam', loss='sparse_categorical_crossentropy', metrics=['accuracy'])\n",
    "    \n",
    "    return model\n"
   ]
  },
  {
   "cell_type": "code",
   "execution_count": 8,
   "metadata": {},
   "outputs": [
    {
     "data": {
      "application/javascript": [
       "\n",
       "            setTimeout(function() {\n",
       "                var nbb_cell_id = 8;\n",
       "                var nbb_unformatted_code = \"model = create_model()\";\n",
       "                var nbb_formatted_code = \"model = create_model()\";\n",
       "                var nbb_cells = Jupyter.notebook.get_cells();\n",
       "                for (var i = 0; i < nbb_cells.length; ++i) {\n",
       "                    if (nbb_cells[i].input_prompt_number == nbb_cell_id) {\n",
       "                        if (nbb_cells[i].get_text() == nbb_unformatted_code) {\n",
       "                             nbb_cells[i].set_text(nbb_formatted_code);\n",
       "                        }\n",
       "                        break;\n",
       "                    }\n",
       "                }\n",
       "            }, 500);\n",
       "            "
      ],
      "text/plain": [
       "<IPython.core.display.Javascript object>"
      ]
     },
     "metadata": {},
     "output_type": "display_data"
    }
   ],
   "source": [
    "model = create_model()"
   ]
  },
  {
   "cell_type": "code",
   "execution_count": 9,
   "metadata": {},
   "outputs": [
    {
     "data": {
      "application/javascript": [
       "\n",
       "            setTimeout(function() {\n",
       "                var nbb_cell_id = 9;\n",
       "                var nbb_unformatted_code = \"early_stopping = keras.callbacks.EarlyStopping(\\n    monitor=\\\"val_accuracy\\\", min_delta=0.01, patience=4, verbose=2\\n)\\n\\nmy_early_stopping = MyEarlyStopping()\";\n",
       "                var nbb_formatted_code = \"early_stopping = keras.callbacks.EarlyStopping(\\n    monitor=\\\"val_accuracy\\\", min_delta=0.01, patience=4, verbose=2\\n)\\n\\nmy_early_stopping = MyEarlyStopping()\";\n",
       "                var nbb_cells = Jupyter.notebook.get_cells();\n",
       "                for (var i = 0; i < nbb_cells.length; ++i) {\n",
       "                    if (nbb_cells[i].input_prompt_number == nbb_cell_id) {\n",
       "                        if (nbb_cells[i].get_text() == nbb_unformatted_code) {\n",
       "                             nbb_cells[i].set_text(nbb_formatted_code);\n",
       "                        }\n",
       "                        break;\n",
       "                    }\n",
       "                }\n",
       "            }, 500);\n",
       "            "
      ],
      "text/plain": [
       "<IPython.core.display.Javascript object>"
      ]
     },
     "metadata": {},
     "output_type": "display_data"
    }
   ],
   "source": [
    "early_stopping = keras.callbacks.EarlyStopping(\n",
    "    monitor=\"val_accuracy\", min_delta=0.01, patience=4, verbose=2\n",
    ")\n",
    "\n",
    "my_early_stopping = MyEarlyStopping()"
   ]
  },
  {
   "cell_type": "code",
   "execution_count": 10,
   "metadata": {},
   "outputs": [
    {
     "name": "stdout",
     "output_type": "stream",
     "text": [
      "Train on 54000 samples, validate on 6000 samples\n",
      "Epoch 1/50\n",
      "54000/54000 [==============================] - 4s 67us/sample - loss: 0.4779 - accuracy: 0.8272 - val_loss: 0.3720 - val_accuracy: 0.8660\n",
      "Epoch 2/50\n",
      "54000/54000 [==============================] - 3s 64us/sample - loss: 0.3602 - accuracy: 0.8665 - val_loss: 0.3939 - val_accuracy: 0.8502\n",
      "Epoch 3/50\n",
      "54000/54000 [==============================] - 3s 62us/sample - loss: 0.3270 - accuracy: 0.8786 - val_loss: 0.3286 - val_accuracy: 0.8795\n",
      "Epoch 4/50\n",
      "54000/54000 [==============================] - 4s 66us/sample - loss: 0.2995 - accuracy: 0.8889 - val_loss: 0.3296 - val_accuracy: 0.8773\n",
      "Epoch 5/50\n",
      "54000/54000 [==============================] - 4s 68us/sample - loss: 0.2822 - accuracy: 0.8951 - val_loss: 0.3371 - val_accuracy: 0.8835\n",
      "Epoch 6/50\n",
      "54000/54000 [==============================] - 4s 66us/sample - loss: 0.2681 - accuracy: 0.8987 - val_loss: 0.3289 - val_accuracy: 0.8832\n",
      "Epoch 7/50\n",
      "54000/54000 [==============================] - 4s 70us/sample - loss: 0.2529 - accuracy: 0.9057 - val_loss: 0.3093 - val_accuracy: 0.8855\n",
      "Epoch 8/50\n",
      "54000/54000 [==============================] - 4s 69us/sample - loss: 0.2431 - accuracy: 0.9086 - val_loss: 0.3111 - val_accuracy: 0.8897\n",
      "Epoch 9/50\n",
      "54000/54000 [==============================] - 4s 80us/sample - loss: 0.2314 - accuracy: 0.9120 - val_loss: 0.3327 - val_accuracy: 0.8887\n",
      "Epoch 10/50\n",
      "54000/54000 [==============================] - 4s 77us/sample - loss: 0.2219 - accuracy: 0.9158 - val_loss: 0.3316 - val_accuracy: 0.8873\n",
      "Epoch 11/50\n",
      "54000/54000 [==============================] - 4s 72us/sample - loss: 0.2128 - accuracy: 0.9189 - val_loss: 0.3236 - val_accuracy: 0.8945\n",
      "Epoch 12/50\n",
      "54000/54000 [==============================] - 4s 75us/sample - loss: 0.2053 - accuracy: 0.9210 - val_loss: 0.3332 - val_accuracy: 0.8855\n",
      "Epoch 13/50\n",
      "54000/54000 [==============================] - 4s 72us/sample - loss: 0.1997 - accuracy: 0.9238 - val_loss: 0.3400 - val_accuracy: 0.8923\n",
      "Epoch 14/50\n",
      "54000/54000 [==============================] - 4s 74us/sample - loss: 0.1888 - accuracy: 0.9286 - val_loss: 0.3308 - val_accuracy: 0.8945\n",
      "Epoch 15/50\n",
      "54000/54000 [==============================] - 4s 72us/sample - loss: 0.1838 - accuracy: 0.9296 - val_loss: 0.3350 - val_accuracy: 0.8960\n",
      "Epoch 16/50\n",
      "54000/54000 [==============================] - 4s 75us/sample - loss: 0.1781 - accuracy: 0.9304 - val_loss: 0.3500 - val_accuracy: 0.8940\n",
      "Epoch 17/50\n",
      "54000/54000 [==============================] - 4s 76us/sample - loss: 0.1704 - accuracy: 0.9349 - val_loss: 0.3834 - val_accuracy: 0.8907\n",
      "Epoch 18/50\n",
      "54000/54000 [==============================] - 4s 70us/sample - loss: 0.1670 - accuracy: 0.9356 - val_loss: 0.3623 - val_accuracy: 0.8965\n",
      "Epoch 19/50\n",
      "54000/54000 [==============================] - 4s 69us/sample - loss: 0.1581 - accuracy: 0.9397 - val_loss: 0.4337 - val_accuracy: 0.8882\n",
      "Epoch 20/50\n",
      "54000/54000 [==============================] - 4s 69us/sample - loss: 0.1573 - accuracy: 0.9394 - val_loss: 0.3796 - val_accuracy: 0.8923\n",
      "Epoch 21/50\n",
      "54000/54000 [==============================] - 4s 77us/sample - loss: 0.1480 - accuracy: 0.9433 - val_loss: 0.4133 - val_accuracy: 0.8927\n",
      "Epoch 22/50\n",
      "54000/54000 [==============================] - 4s 68us/sample - loss: 0.1472 - accuracy: 0.9436 - val_loss: 0.4046 - val_accuracy: 0.8942\n",
      "Epoch 23/50\n",
      "54000/54000 [==============================] - 4s 69us/sample - loss: 0.1399 - accuracy: 0.9466 - val_loss: 0.3884 - val_accuracy: 0.8935\n",
      "Epoch 24/50\n",
      "54000/54000 [==============================] - 4s 73us/sample - loss: 0.1375 - accuracy: 0.9474 - val_loss: 0.4053 - val_accuracy: 0.8958\n",
      "Epoch 25/50\n",
      "54000/54000 [==============================] - 4s 74us/sample - loss: 0.1333 - accuracy: 0.9491 - val_loss: 0.4012 - val_accuracy: 0.9003\n",
      "Epoch 26/50\n",
      "54000/54000 [==============================] - 4s 74us/sample - loss: 0.1329 - accuracy: 0.9491 - val_loss: 0.4137 - val_accuracy: 0.8940\n",
      "Epoch 27/50\n",
      "54000/54000 [==============================] - 4s 71us/sample - loss: 0.1251 - accuracy: 0.9510 - val_loss: 0.4569 - val_accuracy: 0.8888\n",
      "Epoch 28/50\n",
      "54000/54000 [==============================] - 4s 75us/sample - loss: 0.1297 - accuracy: 0.9510 - val_loss: 0.4431 - val_accuracy: 0.8922\n",
      "Epoch 29/50\n",
      "54000/54000 [==============================] - 4s 75us/sample - loss: 0.1171 - accuracy: 0.9549 - val_loss: 0.4390 - val_accuracy: 0.8963\n",
      "Epoch 30/50\n",
      "54000/54000 [==============================] - 4s 73us/sample - loss: 0.1182 - accuracy: 0.9538 - val_loss: 0.4904 - val_accuracy: 0.8960\n",
      "Epoch 31/50\n",
      "54000/54000 [==============================] - 4s 79us/sample - loss: 0.1174 - accuracy: 0.9547 - val_loss: 0.4846 - val_accuracy: 0.8932\n",
      "Epoch 32/50\n",
      "54000/54000 [==============================] - 4s 72us/sample - loss: 0.1125 - accuracy: 0.9567 - val_loss: 0.4478 - val_accuracy: 0.8927\n",
      "Epoch 33/50\n",
      "54000/54000 [==============================] - 4s 76us/sample - loss: 0.1117 - accuracy: 0.9570 - val_loss: 0.4618 - val_accuracy: 0.8948\n",
      "Epoch 34/50\n",
      "54000/54000 [==============================] - 4s 76us/sample - loss: 0.1066 - accuracy: 0.9597 - val_loss: 0.5078 - val_accuracy: 0.8967\n",
      "Epoch 35/50\n",
      "54000/54000 [==============================] - 4s 72us/sample - loss: 0.1052 - accuracy: 0.9597 - val_loss: 0.5286 - val_accuracy: 0.8920\n",
      "Epoch 36/50\n",
      "54000/54000 [==============================] - 4s 69us/sample - loss: 0.1042 - accuracy: 0.9602 - val_loss: 0.5217 - val_accuracy: 0.8943\n",
      "Epoch 37/50\n",
      "54000/54000 [==============================] - 4s 71us/sample - loss: 0.0990 - accuracy: 0.9627 - val_loss: 0.5457 - val_accuracy: 0.8928\n",
      "Epoch 38/50\n",
      "54000/54000 [==============================] - 4s 74us/sample - loss: 0.0954 - accuracy: 0.9630 - val_loss: 0.5260 - val_accuracy: 0.8970\n",
      "Epoch 39/50\n",
      "54000/54000 [==============================] - 4s 71us/sample - loss: 0.0959 - accuracy: 0.9630 - val_loss: 0.5360 - val_accuracy: 0.8993\n",
      "Epoch 40/50\n",
      "54000/54000 [==============================] - 5s 86us/sample - loss: 0.0938 - accuracy: 0.9644 - val_loss: 0.5857 - val_accuracy: 0.8948\n",
      "Epoch 41/50\n",
      "54000/54000 [==============================] - 5s 92us/sample - loss: 0.0913 - accuracy: 0.9646 - val_loss: 0.5528 - val_accuracy: 0.9013\n",
      "Epoch 42/50\n",
      "54000/54000 [==============================] - 4s 72us/sample - loss: 0.0882 - accuracy: 0.9667 - val_loss: 0.6126 - val_accuracy: 0.8915\n",
      "Epoch 43/50\n",
      "54000/54000 [==============================] - 4s 76us/sample - loss: 0.0955 - accuracy: 0.9640 - val_loss: 0.6280 - val_accuracy: 0.8922\n",
      "Epoch 44/50\n",
      "54000/54000 [==============================] - 4s 77us/sample - loss: 0.0841 - accuracy: 0.9684 - val_loss: 0.5974 - val_accuracy: 0.8915\n",
      "Epoch 45/50\n",
      "54000/54000 [==============================] - 4s 77us/sample - loss: 0.0875 - accuracy: 0.9681 - val_loss: 0.5621 - val_accuracy: 0.8970\n",
      "Epoch 46/50\n",
      "54000/54000 [==============================] - 4s 77us/sample - loss: 0.0796 - accuracy: 0.9695 - val_loss: 0.6613 - val_accuracy: 0.8892\n",
      "Epoch 47/50\n",
      "54000/54000 [==============================] - 4s 71us/sample - loss: 0.0878 - accuracy: 0.9676 - val_loss: 0.6564 - val_accuracy: 0.8963\n",
      "Epoch 48/50\n",
      "54000/54000 [==============================] - 4s 72us/sample - loss: 0.0805 - accuracy: 0.9704 - val_loss: 0.6149 - val_accuracy: 0.8943\n",
      "Epoch 49/50\n",
      "54000/54000 [==============================] - 4s 72us/sample - loss: 0.0786 - accuracy: 0.9697 - val_loss: 0.6358 - val_accuracy: 0.8940\n",
      "Epoch 50/50\n",
      "54000/54000 [==============================] - 4s 74us/sample - loss: 0.0799 - accuracy: 0.9698 - val_loss: 0.6128 - val_accuracy: 0.8988\n"
     ]
    },
    {
     "data": {
      "text/plain": [
       "<tensorflow.python.keras.callbacks.History at 0x7f21224f6850>"
      ]
     },
     "execution_count": 10,
     "metadata": {},
     "output_type": "execute_result"
    },
    {
     "data": {
      "application/javascript": [
       "\n",
       "            setTimeout(function() {\n",
       "                var nbb_cell_id = 10;\n",
       "                var nbb_unformatted_code = \"model.fit(x_train, y_train, epochs=50, validation_split=0.1)\";\n",
       "                var nbb_formatted_code = \"model.fit(x_train, y_train, epochs=50, validation_split=0.1)\";\n",
       "                var nbb_cells = Jupyter.notebook.get_cells();\n",
       "                for (var i = 0; i < nbb_cells.length; ++i) {\n",
       "                    if (nbb_cells[i].input_prompt_number == nbb_cell_id) {\n",
       "                        if (nbb_cells[i].get_text() == nbb_unformatted_code) {\n",
       "                             nbb_cells[i].set_text(nbb_formatted_code);\n",
       "                        }\n",
       "                        break;\n",
       "                    }\n",
       "                }\n",
       "            }, 500);\n",
       "            "
      ],
      "text/plain": [
       "<IPython.core.display.Javascript object>"
      ]
     },
     "metadata": {},
     "output_type": "display_data"
    }
   ],
   "source": [
    "model.fit(x_train, y_train, epochs=50, validation_split=0.1)"
   ]
  },
  {
   "cell_type": "code",
   "execution_count": 11,
   "metadata": {},
   "outputs": [
    {
     "name": "stdout",
     "output_type": "stream",
     "text": [
      "10000/10000 [==============================] - 1s 84us/sample - loss: 0.7439 - accuracy: 0.8915\n"
     ]
    },
    {
     "data": {
      "text/plain": [
       "[0.7438657441750168, 0.8915]"
      ]
     },
     "execution_count": 11,
     "metadata": {},
     "output_type": "execute_result"
    },
    {
     "data": {
      "application/javascript": [
       "\n",
       "            setTimeout(function() {\n",
       "                var nbb_cell_id = 11;\n",
       "                var nbb_unformatted_code = \"model.evaluate(x_test, y_test)\";\n",
       "                var nbb_formatted_code = \"model.evaluate(x_test, y_test)\";\n",
       "                var nbb_cells = Jupyter.notebook.get_cells();\n",
       "                for (var i = 0; i < nbb_cells.length; ++i) {\n",
       "                    if (nbb_cells[i].input_prompt_number == nbb_cell_id) {\n",
       "                        if (nbb_cells[i].get_text() == nbb_unformatted_code) {\n",
       "                             nbb_cells[i].set_text(nbb_formatted_code);\n",
       "                        }\n",
       "                        break;\n",
       "                    }\n",
       "                }\n",
       "            }, 500);\n",
       "            "
      ],
      "text/plain": [
       "<IPython.core.display.Javascript object>"
      ]
     },
     "metadata": {},
     "output_type": "display_data"
    }
   ],
   "source": [
    "model.evaluate(x_test, y_test)"
   ]
  },
  {
   "cell_type": "code",
   "execution_count": 12,
   "metadata": {},
   "outputs": [
    {
     "data": {
      "application/javascript": [
       "\n",
       "            setTimeout(function() {\n",
       "                var nbb_cell_id = 12;\n",
       "                var nbb_unformatted_code = \"test_index = 0\";\n",
       "                var nbb_formatted_code = \"test_index = 0\";\n",
       "                var nbb_cells = Jupyter.notebook.get_cells();\n",
       "                for (var i = 0; i < nbb_cells.length; ++i) {\n",
       "                    if (nbb_cells[i].input_prompt_number == nbb_cell_id) {\n",
       "                        if (nbb_cells[i].get_text() == nbb_unformatted_code) {\n",
       "                             nbb_cells[i].set_text(nbb_formatted_code);\n",
       "                        }\n",
       "                        break;\n",
       "                    }\n",
       "                }\n",
       "            }, 500);\n",
       "            "
      ],
      "text/plain": [
       "<IPython.core.display.Javascript object>"
      ]
     },
     "metadata": {},
     "output_type": "display_data"
    }
   ],
   "source": [
    "test_index = 0"
   ]
  },
  {
   "cell_type": "code",
   "execution_count": 13,
   "metadata": {},
   "outputs": [
    {
     "data": {
      "text/plain": [
       "'Ankle boot'"
      ]
     },
     "execution_count": 13,
     "metadata": {},
     "output_type": "execute_result"
    },
    {
     "data": {
      "application/javascript": [
       "\n",
       "            setTimeout(function() {\n",
       "                var nbb_cell_id = 13;\n",
       "                var nbb_unformatted_code = \"prediction = model.predict(\\n    x_test[test_index].reshape(\\n        1, x_test[test_index].shape[0], x_test[test_index].shape[1]\\n    )\\n)\\n\\nprediction = np.argmax(prediction)\\n\\nto_label(prediction)\";\n",
       "                var nbb_formatted_code = \"prediction = model.predict(\\n    x_test[test_index].reshape(\\n        1, x_test[test_index].shape[0], x_test[test_index].shape[1]\\n    )\\n)\\n\\nprediction = np.argmax(prediction)\\n\\nto_label(prediction)\";\n",
       "                var nbb_cells = Jupyter.notebook.get_cells();\n",
       "                for (var i = 0; i < nbb_cells.length; ++i) {\n",
       "                    if (nbb_cells[i].input_prompt_number == nbb_cell_id) {\n",
       "                        if (nbb_cells[i].get_text() == nbb_unformatted_code) {\n",
       "                             nbb_cells[i].set_text(nbb_formatted_code);\n",
       "                        }\n",
       "                        break;\n",
       "                    }\n",
       "                }\n",
       "            }, 500);\n",
       "            "
      ],
      "text/plain": [
       "<IPython.core.display.Javascript object>"
      ]
     },
     "metadata": {},
     "output_type": "display_data"
    }
   ],
   "source": [
    "prediction = model.predict(\n",
    "    x_test[test_index].reshape(\n",
    "        1, x_test[test_index].shape[0], x_test[test_index].shape[1]\n",
    "    )\n",
    ")\n",
    "\n",
    "prediction = np.argmax(prediction)\n",
    "\n",
    "to_label(prediction)"
   ]
  },
  {
   "cell_type": "code",
   "execution_count": 14,
   "metadata": {},
   "outputs": [
    {
     "data": {
      "image/png": "[encoded data removed]",
      "text/plain": [
       "<Figure size 432x288 with 1 Axes>"
      ]
     },
     "metadata": {
      "needs_background": "light"
     },
     "output_type": "display_data"
    },
    {
     "data": {
      "application/javascript": [
       "\n",
       "            setTimeout(function() {\n",
       "                var nbb_cell_id = 14;\n",
       "                var nbb_unformatted_code = \"plt.imshow(x_test[test_index])\\nplt.show()\";\n",
       "                var nbb_formatted_code = \"plt.imshow(x_test[test_index])\\nplt.show()\";\n",
       "                var nbb_cells = Jupyter.notebook.get_cells();\n",
       "                for (var i = 0; i < nbb_cells.length; ++i) {\n",
       "                    if (nbb_cells[i].input_prompt_number == nbb_cell_id) {\n",
       "                        if (nbb_cells[i].get_text() == nbb_unformatted_code) {\n",
       "                             nbb_cells[i].set_text(nbb_formatted_code);\n",
       "                        }\n",
       "                        break;\n",
       "                    }\n",
       "                }\n",
       "            }, 500);\n",
       "            "
      ],
      "text/plain": [
       "<IPython.core.display.Javascript object>"
      ]
     },
     "metadata": {},
     "output_type": "display_data"
    }
   ],
   "source": [
    "plt.imshow(x_test[test_index])\n",
    "plt.show()"
   ]
  },
  {
   "cell_type": "code",
   "execution_count": 15,
   "metadata": {},
   "outputs": [
    {
     "data": {
      "text/plain": [
       "9"
      ]
     },
     "execution_count": 15,
     "metadata": {},
     "output_type": "execute_result"
    },
    {
     "data": {
      "application/javascript": [
       "\n",
       "            setTimeout(function() {\n",
       "                var nbb_cell_id = 15;\n",
       "                var nbb_unformatted_code = \"model.predict_classes(\\n    x_test[test_index].reshape(\\n        1, x_test[test_index].shape[0], x_test[test_index].shape[1]\\n    )\\n)[0]\";\n",
       "                var nbb_formatted_code = \"model.predict_classes(\\n    x_test[test_index].reshape(\\n        1, x_test[test_index].shape[0], x_test[test_index].shape[1]\\n    )\\n)[0]\";\n",
       "                var nbb_cells = Jupyter.notebook.get_cells();\n",
       "                for (var i = 0; i < nbb_cells.length; ++i) {\n",
       "                    if (nbb_cells[i].input_prompt_number == nbb_cell_id) {\n",
       "                        if (nbb_cells[i].get_text() == nbb_unformatted_code) {\n",
       "                             nbb_cells[i].set_text(nbb_formatted_code);\n",
       "                        }\n",
       "                        break;\n",
       "                    }\n",
       "                }\n",
       "            }, 500);\n",
       "            "
      ],
      "text/plain": [
       "<IPython.core.display.Javascript object>"
      ]
     },
     "metadata": {},
     "output_type": "display_data"
    }
   ],
   "source": [
    "model.predict_classes(\n",
    "    x_test[test_index].reshape(\n",
    "        1, x_test[test_index].shape[0], x_test[test_index].shape[1]\n",
    "    )\n",
    ")[0]"
   ]
  },
  {
   "cell_type": "code",
   "execution_count": 16,
   "metadata": {},
   "outputs": [
    {
     "data": {
      "application/javascript": [
       "\n",
       "            setTimeout(function() {\n",
       "                var nbb_cell_id = 16;\n",
       "                var nbb_unformatted_code = \"y_pred = model.predict_classes(x_test)\";\n",
       "                var nbb_formatted_code = \"y_pred = model.predict_classes(x_test)\";\n",
       "                var nbb_cells = Jupyter.notebook.get_cells();\n",
       "                for (var i = 0; i < nbb_cells.length; ++i) {\n",
       "                    if (nbb_cells[i].input_prompt_number == nbb_cell_id) {\n",
       "                        if (nbb_cells[i].get_text() == nbb_unformatted_code) {\n",
       "                             nbb_cells[i].set_text(nbb_formatted_code);\n",
       "                        }\n",
       "                        break;\n",
       "                    }\n",
       "                }\n",
       "            }, 500);\n",
       "            "
      ],
      "text/plain": [
       "<IPython.core.display.Javascript object>"
      ]
     },
     "metadata": {},
     "output_type": "display_data"
    }
   ],
   "source": [
    "y_pred = model.predict_classes(x_test)"
   ]
  },
  {
   "cell_type": "code",
   "execution_count": 17,
   "metadata": {},
   "outputs": [
    {
     "name": "stdout",
     "output_type": "stream",
     "text": [
      "              precision    recall  f1-score   support\n",
      "\n",
      " T-shirt/top       0.82      0.86      0.84      1000\n",
      "     Trouser       0.99      0.98      0.98      1000\n",
      "    Pullover       0.78      0.84      0.81      1000\n",
      "       Dress       0.89      0.90      0.89      1000\n",
      "        Coat       0.82      0.79      0.81      1000\n",
      "      Sandal       0.99      0.95      0.97      1000\n",
      "       Shirt       0.74      0.68      0.71      1000\n",
      "     Sneaker       0.95      0.97      0.96      1000\n",
      "         Bag       0.98      0.97      0.97      1000\n",
      "  Ankle boot       0.95      0.97      0.96      1000\n",
      "\n",
      "    accuracy                           0.89     10000\n",
      "   macro avg       0.89      0.89      0.89     10000\n",
      "weighted avg       0.89      0.89      0.89     10000\n",
      "\n"
     ]
    },
    {
     "data": {
      "application/javascript": [
       "\n",
       "            setTimeout(function() {\n",
       "                var nbb_cell_id = 17;\n",
       "                var nbb_unformatted_code = \"print(classification_report(y_test, y_pred, target_names=class_names))\";\n",
       "                var nbb_formatted_code = \"print(classification_report(y_test, y_pred, target_names=class_names))\";\n",
       "                var nbb_cells = Jupyter.notebook.get_cells();\n",
       "                for (var i = 0; i < nbb_cells.length; ++i) {\n",
       "                    if (nbb_cells[i].input_prompt_number == nbb_cell_id) {\n",
       "                        if (nbb_cells[i].get_text() == nbb_unformatted_code) {\n",
       "                             nbb_cells[i].set_text(nbb_formatted_code);\n",
       "                        }\n",
       "                        break;\n",
       "                    }\n",
       "                }\n",
       "            }, 500);\n",
       "            "
      ],
      "text/plain": [
       "<IPython.core.display.Javascript object>"
      ]
     },
     "metadata": {},
     "output_type": "display_data"
    }
   ],
   "source": [
    "print(classification_report(y_test, y_pred, target_names=class_names))"
   ]
  },
  {
   "cell_type": "code",
   "execution_count": 18,
   "metadata": {},
   "outputs": [
    {
     "data": {
      "application/javascript": [
       "\n",
       "            setTimeout(function() {\n",
       "                var nbb_cell_id = 18;\n",
       "                var nbb_unformatted_code = \"matrix = confusion_matrix(y_test, y_pred)\";\n",
       "                var nbb_formatted_code = \"matrix = confusion_matrix(y_test, y_pred)\";\n",
       "                var nbb_cells = Jupyter.notebook.get_cells();\n",
       "                for (var i = 0; i < nbb_cells.length; ++i) {\n",
       "                    if (nbb_cells[i].input_prompt_number == nbb_cell_id) {\n",
       "                        if (nbb_cells[i].get_text() == nbb_unformatted_code) {\n",
       "                             nbb_cells[i].set_text(nbb_formatted_code);\n",
       "                        }\n",
       "                        break;\n",
       "                    }\n",
       "                }\n",
       "            }, 500);\n",
       "            "
      ],
      "text/plain": [
       "<IPython.core.display.Javascript object>"
      ]
     },
     "metadata": {},
     "output_type": "display_data"
    }
   ],
   "source": [
    "matrix = confusion_matrix(y_test, y_pred)"
   ]
  },
  {
   "cell_type": "code",
   "execution_count": 19,
   "metadata": {},
   "outputs": [
    {
     "data": {
      "application/javascript": [
       "\n",
       "            setTimeout(function() {\n",
       "                var nbb_cell_id = 19;\n",
       "                var nbb_unformatted_code = \"def plot_confusion_matrix(\\n    cm, classes, normalize=False, title=\\\"Confusion matrix\\\", cmap=plt.cm.Blues\\n):\\n\\n    plt.figure(figsize=(20, 10))\\n    plt.imshow(cm, interpolation=\\\"nearest\\\", cmap=cmap)\\n    plt.title(title)\\n    plt.colorbar()\\n    tick_marks = np.arange(len(classes))\\n    plt.xticks(tick_marks, classes, rotation=90)\\n    plt.yticks(tick_marks, classes)\\n\\n    if normalize:\\n        cm = cm.astype(\\\"float\\\") / cm.sum(axis=1)[:, np.newaxis]\\n\\n    thresh = cm.max() / 2.0\\n    for i, j in itertools.product(range(cm.shape[0]), range(cm.shape[1])):\\n        plt.text(\\n            j,\\n            i,\\n            cm[i, j],\\n            horizontalalignment=\\\"center\\\",\\n            color=\\\"white\\\" if cm[i, j] > thresh else \\\"black\\\",\\n        )\\n\\n    plt.tight_layout()\\n    plt.ylabel(\\\"True label\\\")\\n    plt.xlabel(\\\"Predicted label\\\")\";\n",
       "                var nbb_formatted_code = \"def plot_confusion_matrix(\\n    cm, classes, normalize=False, title=\\\"Confusion matrix\\\", cmap=plt.cm.Blues\\n):\\n\\n    plt.figure(figsize=(20, 10))\\n    plt.imshow(cm, interpolation=\\\"nearest\\\", cmap=cmap)\\n    plt.title(title)\\n    plt.colorbar()\\n    tick_marks = np.arange(len(classes))\\n    plt.xticks(tick_marks, classes, rotation=90)\\n    plt.yticks(tick_marks, classes)\\n\\n    if normalize:\\n        cm = cm.astype(\\\"float\\\") / cm.sum(axis=1)[:, np.newaxis]\\n\\n    thresh = cm.max() / 2.0\\n    for i, j in itertools.product(range(cm.shape[0]), range(cm.shape[1])):\\n        plt.text(\\n            j,\\n            i,\\n            cm[i, j],\\n            horizontalalignment=\\\"center\\\",\\n            color=\\\"white\\\" if cm[i, j] > thresh else \\\"black\\\",\\n        )\\n\\n    plt.tight_layout()\\n    plt.ylabel(\\\"True label\\\")\\n    plt.xlabel(\\\"Predicted label\\\")\";\n",
       "                var nbb_cells = Jupyter.notebook.get_cells();\n",
       "                for (var i = 0; i < nbb_cells.length; ++i) {\n",
       "                    if (nbb_cells[i].input_prompt_number == nbb_cell_id) {\n",
       "                        if (nbb_cells[i].get_text() == nbb_unformatted_code) {\n",
       "                             nbb_cells[i].set_text(nbb_formatted_code);\n",
       "                        }\n",
       "                        break;\n",
       "                    }\n",
       "                }\n",
       "            }, 500);\n",
       "            "
      ],
      "text/plain": [
       "<IPython.core.display.Javascript object>"
      ]
     },
     "metadata": {},
     "output_type": "display_data"
    }
   ],
   "source": [
    "def plot_confusion_matrix(\n",
    "    cm, classes, normalize=False, title=\"Confusion matrix\", cmap=plt.cm.Blues\n",
    "):\n",
    "\n",
    "    plt.figure(figsize=(20, 10))\n",
    "    plt.imshow(cm, interpolation=\"nearest\", cmap=cmap)\n",
    "    plt.title(title)\n",
    "    plt.colorbar()\n",
    "    tick_marks = np.arange(len(classes))\n",
    "    plt.xticks(tick_marks, classes, rotation=90)\n",
    "    plt.yticks(tick_marks, classes)\n",
    "\n",
    "    if normalize:\n",
    "        cm = cm.astype(\"float\") / cm.sum(axis=1)[:, np.newaxis]\n",
    "\n",
    "    thresh = cm.max() / 2.0\n",
    "    for i, j in itertools.product(range(cm.shape[0]), range(cm.shape[1])):\n",
    "        plt.text(\n",
    "            j,\n",
    "            i,\n",
    "            cm[i, j],\n",
    "            horizontalalignment=\"center\",\n",
    "            color=\"white\" if cm[i, j] > thresh else \"black\",\n",
    "        )\n",
    "\n",
    "    plt.tight_layout()\n",
    "    plt.ylabel(\"True label\")\n",
    "    plt.xlabel(\"Predicted label\")"
   ]
  },
  {
   "cell_type": "code",
   "execution_count": 20,
   "metadata": {},
   "outputs": [
    {
     "data": {
      "image/png": "[encoded data removed]",
      "text/plain": [
       "<Figure size 1440x720 with 2 Axes>"
      ]
     },
     "metadata": {
      "needs_background": "light"
     },
     "output_type": "display_data"
    },
    {
     "data": {
      "application/javascript": [
       "\n",
       "            setTimeout(function() {\n",
       "                var nbb_cell_id = 20;\n",
       "                var nbb_unformatted_code = \"plot_confusion_matrix(matrix, class_names)\";\n",
       "                var nbb_formatted_code = \"plot_confusion_matrix(matrix, class_names)\";\n",
       "                var nbb_cells = Jupyter.notebook.get_cells();\n",
       "                for (var i = 0; i < nbb_cells.length; ++i) {\n",
       "                    if (nbb_cells[i].input_prompt_number == nbb_cell_id) {\n",
       "                        if (nbb_cells[i].get_text() == nbb_unformatted_code) {\n",
       "                             nbb_cells[i].set_text(nbb_formatted_code);\n",
       "                        }\n",
       "                        break;\n",
       "                    }\n",
       "                }\n",
       "            }, 500);\n",
       "            "
      ],
      "text/plain": [
       "<IPython.core.display.Javascript object>"
      ]
     },
     "metadata": {},
     "output_type": "display_data"
    }
   ],
   "source": [
    "plot_confusion_matrix(matrix, class_names)"
   ]
  },
  {
   "cell_type": "code",
   "execution_count": null,
   "metadata": {},
   "outputs": [],
   "source": []
  }
 ],
 "metadata": {
  "kernelspec": {
   "display_name": "Python 3",
   "language": "python",
   "name": "python3"
  },
  "language_info": {
   "codemirror_mode": {
    "name": "ipython",
    "version": 3
   },
   "file_extension": ".py",
   "mimetype": "text/x-python",
   "name": "python",
   "nbconvert_exporter": "python",
   "pygments_lexer": "ipython3",
   "version": "3.7.5"
  }
 },
 "nbformat": 4,
 "nbformat_minor": 4
}
