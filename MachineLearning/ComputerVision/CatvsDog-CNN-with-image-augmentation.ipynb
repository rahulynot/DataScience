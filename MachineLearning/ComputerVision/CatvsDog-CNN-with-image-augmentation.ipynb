{
 "cells": [
  {
   "cell_type": "code",
   "execution_count": 1,
   "metadata": {},
   "outputs": [
    {
     "name": "stderr",
     "output_type": "stream",
     "text": [
      "Using TensorFlow backend.\n"
     ]
    }
   ],
   "source": [
    "import os\n",
    "import random\n",
    "from shutil import copyfile\n",
    "\n",
    "\n",
    "import tensorflow as tf\n",
    "import tensorflow.keras as keras\n",
    "import numpy as np\n",
    "import pandas as pd\n",
    "import matplotlib.pyplot as plt\n",
    "import matplotlib.image as mpimage\n",
    "from tensorflow.keras.preprocessing.image import ImageDataGenerator\n",
    "from tensorflow.keras.preprocessing import image\n",
    "\n",
    "from keras.datasets import mnist\n",
    "from keras.datasets import fashion_mnist\n",
    "\n",
    "from sklearn.preprocessing import StandardScaler\n",
    "from sklearn.metrics import classification_report\n",
    "from sklearn.metrics import confusion_matrix\n",
    "\n",
    "import itertools\n",
    "\n",
    "%matplotlib inline\n",
    "%reload_ext lab_black"
   ]
  },
  {
   "cell_type": "code",
   "execution_count": 2,
   "metadata": {},
   "outputs": [],
   "source": [
    "TRAIN_DATASET_PATH = \"../week_1/full_dataset/cats-v-dogs/training/\"\n",
    "VALIDATION_DATASET_PATH = \"../week_1/full_dataset/cats-v-dogs/testing/\""
   ]
  },
  {
   "cell_type": "code",
   "execution_count": 4,
   "metadata": {},
   "outputs": [],
   "source": [
    "TARGET_IMG_SIZE = 150\n",
    "BATCH_SIZE = 32"
   ]
  },
  {
   "cell_type": "code",
   "execution_count": 6,
   "metadata": {},
   "outputs": [
    {
     "name": "stdout",
     "output_type": "stream",
     "text": [
      "Found 2700 images belonging to 2 classes.\n",
      "Found 300 images belonging to 2 classes.\n"
     ]
    }
   ],
   "source": [
    "train_data_gen = ImageDataGenerator(rescale=1.0 / 255)\n",
    "\n",
    "train_generator = train_data_gen.flow_from_directory(\n",
    "    TRAIN_DATASET_PATH,\n",
    "    target_size=(TARGET_IMG_SIZE, TARGET_IMG_SIZE),\n",
    "    batch_size=BATCH_SIZE,\n",
    "    class_mode=\"binary\",\n",
    ")\n",
    "\n",
    "validation_data_gen = ImageDataGenerator(rescale=1.0 / 255)\n",
    "\n",
    "validation_generator = validation_data_gen.flow_from_directory(\n",
    "    VALIDATION_DATASET_PATH,\n",
    "    target_size=(TARGET_IMG_SIZE, TARGET_IMG_SIZE),\n",
    "    batch_size=BATCH_SIZE,\n",
    "    class_mode=\"binary\",\n",
    ")"
   ]
  },
  {
   "cell_type": "code",
   "execution_count": 7,
   "metadata": {},
   "outputs": [],
   "source": [
    "def create_conv_model() -> keras.Model:\n",
    "\n",
    "    model = keras.Sequential()\n",
    "\n",
    "    model.add(\n",
    "        keras.layers.Conv2D(\n",
    "            filters=16,\n",
    "            kernel_size=(3, 3),\n",
    "            activation=\"relu\",\n",
    "            input_shape=(TARGET_IMG_SIZE, TARGET_IMG_SIZE, 3),\n",
    "        )\n",
    "    )\n",
    "    model.add(keras.layers.MaxPool2D(pool_size=(2, 2)))\n",
    "\n",
    "    model.add(keras.layers.Conv2D(filters=32, kernel_size=(3, 3), activation=\"relu\"))\n",
    "    model.add(keras.layers.MaxPool2D(pool_size=(2, 2)))\n",
    "\n",
    "    model.add(keras.layers.Conv2D(filters=64, kernel_size=(3, 3), activation=\"relu\"))\n",
    "    model.add(keras.layers.MaxPool2D(pool_size=(2, 2)))\n",
    "\n",
    "    model.add(keras.layers.Flatten())\n",
    "    model.add(keras.layers.Dense(units=512, activation=\"relu\"))\n",
    "    model.add(keras.layers.Dense(units=128, activation=\"relu\"))\n",
    "    model.add(keras.layers.Dense(units=32, activation=\"relu\"))\n",
    "    model.add(keras.layers.Dense(units=1, activation=\"sigmoid\"))\n",
    "\n",
    "    model.compile(optimizer=\"adam\", loss=\"binary_crossentropy\", metrics=[\"accuracy\"])\n",
    "\n",
    "    return model"
   ]
  },
  {
   "cell_type": "code",
   "execution_count": 8,
   "metadata": {},
   "outputs": [],
   "source": [
    "conv_model = create_conv_model()"
   ]
  },
  {
   "cell_type": "code",
   "execution_count": 9,
   "metadata": {},
   "outputs": [
    {
     "name": "stdout",
     "output_type": "stream",
     "text": [
      "WARNING:tensorflow:From <ipython-input-9-5e4cb6513990>:5: Model.fit_generator (from tensorflow.python.keras.engine.training) is deprecated and will be removed in a future version.\n",
      "Instructions for updating:\n",
      "Please use Model.fit, which supports generators.\n",
      "WARNING:tensorflow:sample_weight modes were coerced from\n",
      "  ...\n",
      "    to  \n",
      "  ['...']\n",
      "WARNING:tensorflow:sample_weight modes were coerced from\n",
      "  ...\n",
      "    to  \n",
      "  ['...']\n",
      "Train for 85 steps, validate for 10 steps\n",
      "Epoch 1/15\n",
      "85/85 [==============================] - 15s 177ms/step - loss: 0.6814 - accuracy: 0.5589 - val_loss: 0.6304 - val_accuracy: 0.6833\n",
      "Epoch 2/15\n",
      "85/85 [==============================] - 17s 198ms/step - loss: 0.5741 - accuracy: 0.6993 - val_loss: 0.6029 - val_accuracy: 0.7133\n",
      "Epoch 3/15\n",
      "85/85 [==============================] - 16s 188ms/step - loss: 0.5025 - accuracy: 0.7530 - val_loss: 0.5856 - val_accuracy: 0.7067\n",
      "Epoch 4/15\n",
      "85/85 [==============================] - 16s 186ms/step - loss: 0.4160 - accuracy: 0.8081 - val_loss: 0.6107 - val_accuracy: 0.7633\n",
      "Epoch 5/15\n",
      "85/85 [==============================] - 16s 187ms/step - loss: 0.3443 - accuracy: 0.8500 - val_loss: 0.6513 - val_accuracy: 0.6967\n",
      "Epoch 6/15\n",
      "85/85 [==============================] - 16s 192ms/step - loss: 0.2466 - accuracy: 0.8948 - val_loss: 0.7909 - val_accuracy: 0.7167\n",
      "Epoch 7/15\n",
      "85/85 [==============================] - 16s 194ms/step - loss: 0.1500 - accuracy: 0.9422 - val_loss: 0.9712 - val_accuracy: 0.7233\n",
      "Epoch 8/15\n",
      "85/85 [==============================] - 17s 196ms/step - loss: 0.1164 - accuracy: 0.9552 - val_loss: 1.0095 - val_accuracy: 0.7333\n",
      "Epoch 9/15\n",
      "85/85 [==============================] - 17s 199ms/step - loss: 0.0538 - accuracy: 0.9837 - val_loss: 1.3507 - val_accuracy: 0.6900\n",
      "Epoch 10/15\n",
      "85/85 [==============================] - 17s 205ms/step - loss: 0.0716 - accuracy: 0.9770 - val_loss: 1.2669 - val_accuracy: 0.7067\n",
      "Epoch 11/15\n",
      "85/85 [==============================] - 16s 192ms/step - loss: 0.0447 - accuracy: 0.9822 - val_loss: 1.3894 - val_accuracy: 0.7400\n",
      "Epoch 12/15\n",
      "85/85 [==============================] - 16s 192ms/step - loss: 0.0330 - accuracy: 0.9900 - val_loss: 1.4510 - val_accuracy: 0.7133\n",
      "Epoch 13/15\n",
      "85/85 [==============================] - 16s 191ms/step - loss: 0.0236 - accuracy: 0.9937 - val_loss: 1.7956 - val_accuracy: 0.7000\n",
      "Epoch 14/15\n",
      "85/85 [==============================] - 16s 191ms/step - loss: 0.0473 - accuracy: 0.9867 - val_loss: 1.4948 - val_accuracy: 0.7167\n",
      "Epoch 15/15\n",
      "85/85 [==============================] - 16s 191ms/step - loss: 0.0243 - accuracy: 0.9911 - val_loss: 1.7048 - val_accuracy: 0.7367\n"
     ]
    }
   ],
   "source": [
    "history = conv_model.fit_generator(\n",
    "    train_generator,\n",
    "    #     steps_per_epoch=90,\n",
    "    epochs=15,\n",
    "    validation_data=validation_generator,\n",
    "    #     validation_steps=9,\n",
    ")"
   ]
  },
  {
   "cell_type": "code",
   "execution_count": 17,
   "metadata": {},
   "outputs": [
    {
     "data": {
      "text/plain": [
       "Text(0.5, 1.0, 'Loss Train vs Validation')"
      ]
     },
     "execution_count": 17,
     "metadata": {},
     "output_type": "execute_result"
    },
    {
     "data": {
      "image/png": "[encoded data removed]",
      "text/plain": [
       "<Figure size 432x288 with 1 Axes>"
      ]
     },
     "metadata": {
      "needs_background": "light"
     },
     "output_type": "display_data"
    }
   ],
   "source": [
    "plt.plot(history.epoch, history.history[\"loss\"], \"r-\", label=\"Training\")\n",
    "plt.plot(history.epoch, history.history[\"val_loss\"], \"g-\", label=\"Validation\")\n",
    "\n",
    "plt.title(\"Loss Train vs Validation\")"
   ]
  },
  {
   "cell_type": "code",
   "execution_count": 18,
   "metadata": {},
   "outputs": [
    {
     "data": {
      "text/plain": [
       "Text(0.5, 1.0, 'Accuracy Train vs Validation')"
      ]
     },
     "execution_count": 18,
     "metadata": {},
     "output_type": "execute_result"
    },
    {
     "data": {
      "image/png": "[encoded data removed]",
      "text/plain": [
       "<Figure size 432x288 with 1 Axes>"
      ]
     },
     "metadata": {
      "needs_background": "light"
     },
     "output_type": "display_data"
    }
   ],
   "source": [
    "plt.plot(history.epoch, history.history[\"accuracy\"], color=\"r\")\n",
    "plt.plot(history.epoch, history.history[\"val_accuracy\"], color=\"g\")\n",
    "\n",
    "plt.title(\"Accuracy Train vs Validation\")"
   ]
  },
  {
   "cell_type": "markdown",
   "metadata": {},
   "source": [
    "## Image Augmentation"
   ]
  },
  {
   "cell_type": "code",
   "execution_count": 19,
   "metadata": {},
   "outputs": [],
   "source": [
    "augmentation_args = {\n",
    "    \"rotation_range\": 40,\n",
    "    \"width_shift_range\": 0.2,\n",
    "    \"height_shift_range\": 0.2,\n",
    "    \"shear_range\": 0.2,\n",
    "    \"zoom_range\": 0.2,\n",
    "    \"horizontal_flip\": True,\n",
    "    \"fill_mode\": \"nearest\",\n",
    "}"
   ]
  },
  {
   "cell_type": "code",
   "execution_count": 23,
   "metadata": {},
   "outputs": [
    {
     "name": "stdout",
     "output_type": "stream",
     "text": [
      "Found 2700 images belonging to 2 classes.\n",
      "Found 300 images belonging to 2 classes.\n"
     ]
    }
   ],
   "source": [
    "train_data_gen = ImageDataGenerator(rescale=1.0 / 255, **augmentation_args)\n",
    "\n",
    "train_generator = train_data_gen.flow_from_directory(\n",
    "    TRAIN_DATASET_PATH,\n",
    "    batch_size=BATCH_SIZE,\n",
    "    target_size=(TARGET_IMG_SIZE, TARGET_IMG_SIZE),\n",
    "    class_mode=\"binary\",\n",
    ")\n",
    "\n",
    "validation_data_gen = ImageDataGenerator(rescale=1.0 / 255, **augmentation_args)\n",
    "\n",
    "validation_generator = validation_data_gen.flow_from_directory(\n",
    "    VALIDATION_DATASET_PATH,\n",
    "    batch_size=BATCH_SIZE,\n",
    "    target_size=(TARGET_IMG_SIZE, TARGET_IMG_SIZE),\n",
    "    class_mode=\"binary\",\n",
    ")"
   ]
  },
  {
   "cell_type": "code",
   "execution_count": 22,
   "metadata": {},
   "outputs": [],
   "source": [
    "augemented_model = create_conv_model()"
   ]
  },
  {
   "cell_type": "code",
   "execution_count": 24,
   "metadata": {},
   "outputs": [
    {
     "name": "stdout",
     "output_type": "stream",
     "text": [
      "WARNING:tensorflow:sample_weight modes were coerced from\n",
      "  ...\n",
      "    to  \n",
      "  ['...']\n",
      "WARNING:tensorflow:sample_weight modes were coerced from\n",
      "  ...\n",
      "    to  \n",
      "  ['...']\n",
      "Train for 85 steps, validate for 10 steps\n",
      "Epoch 1/15\n",
      "85/85 [==============================] - 24s 281ms/step - loss: 0.6895 - accuracy: 0.5419 - val_loss: 0.7443 - val_accuracy: 0.5000\n",
      "Epoch 2/15\n",
      "85/85 [==============================] - 26s 304ms/step - loss: 0.6768 - accuracy: 0.5570 - val_loss: 0.6884 - val_accuracy: 0.5967\n",
      "Epoch 3/15\n",
      "85/85 [==============================] - 26s 304ms/step - loss: 0.6574 - accuracy: 0.5822 - val_loss: 0.6958 - val_accuracy: 0.5867\n",
      "Epoch 4/15\n",
      "85/85 [==============================] - 27s 318ms/step - loss: 0.6374 - accuracy: 0.6222 - val_loss: 0.6761 - val_accuracy: 0.6100\n",
      "Epoch 5/15\n",
      "85/85 [==============================] - 27s 318ms/step - loss: 0.6310 - accuracy: 0.6215 - val_loss: 0.6779 - val_accuracy: 0.6700\n",
      "Epoch 6/15\n",
      "85/85 [==============================] - 27s 317ms/step - loss: 0.6375 - accuracy: 0.6296 - val_loss: 0.6663 - val_accuracy: 0.5667\n",
      "Epoch 7/15\n",
      "85/85 [==============================] - 27s 323ms/step - loss: 0.6061 - accuracy: 0.6681 - val_loss: 0.6458 - val_accuracy: 0.6567\n",
      "Epoch 8/15\n",
      "85/85 [==============================] - 40s 470ms/step - loss: 0.6065 - accuracy: 0.6689 - val_loss: 0.6636 - val_accuracy: 0.7033\n",
      "Epoch 9/15\n",
      "85/85 [==============================] - 40s 473ms/step - loss: 0.5964 - accuracy: 0.6759 - val_loss: 0.6315 - val_accuracy: 0.7100\n",
      "Epoch 10/15\n",
      "85/85 [==============================] - 41s 481ms/step - loss: 0.5909 - accuracy: 0.6744 - val_loss: 0.6110 - val_accuracy: 0.6867\n",
      "Epoch 11/15\n",
      "85/85 [==============================] - 42s 497ms/step - loss: 0.5807 - accuracy: 0.6833 - val_loss: 0.6466 - val_accuracy: 0.6633\n",
      "Epoch 12/15\n",
      "85/85 [==============================] - 41s 483ms/step - loss: 0.5713 - accuracy: 0.6926 - val_loss: 0.6284 - val_accuracy: 0.6800\n",
      "Epoch 13/15\n",
      "85/85 [==============================] - 42s 499ms/step - loss: 0.5697 - accuracy: 0.6896 - val_loss: 0.6308 - val_accuracy: 0.6567\n",
      "Epoch 14/15\n",
      "85/85 [==============================] - 44s 516ms/step - loss: 0.5480 - accuracy: 0.7100 - val_loss: 0.5780 - val_accuracy: 0.7200\n",
      "Epoch 15/15\n",
      "85/85 [==============================] - 41s 486ms/step - loss: 0.5569 - accuracy: 0.7004 - val_loss: 0.6001 - val_accuracy: 0.6833\n"
     ]
    }
   ],
   "source": [
    "history_augmented = augemented_model.fit(\n",
    "    train_generator, epochs=15, validation_data=validation_generator\n",
    ")"
   ]
  },
  {
   "cell_type": "code",
   "execution_count": 25,
   "metadata": {},
   "outputs": [
    {
     "data": {
      "text/plain": [
       "Text(0.5, 1.0, 'Loss Train vs Validation')"
      ]
     },
     "execution_count": 25,
     "metadata": {},
     "output_type": "execute_result"
    },
    {
     "data": {
      "image/png": "[encoded data removed]",
      "text/plain": [
       "<Figure size 432x288 with 1 Axes>"
      ]
     },
     "metadata": {
      "needs_background": "light"
     },
     "output_type": "display_data"
    }
   ],
   "source": [
    "plt.plot(\n",
    "    history_augmented.epoch, history_augmented.history[\"loss\"], \"r-\", label=\"Training\"\n",
    ")\n",
    "plt.plot(\n",
    "    history_augmented.epoch,\n",
    "    history_augmented.history[\"val_loss\"],\n",
    "    \"g-\",\n",
    "    label=\"Validation\",\n",
    ")\n",
    "\n",
    "plt.title(\"Loss Train vs Validation\")"
   ]
  },
  {
   "cell_type": "code",
   "execution_count": 30,
   "metadata": {},
   "outputs": [
    {
     "data": {
      "text/plain": [
       "Text(0.5, 1.0, 'Accuracy Train vs Validation')"
      ]
     },
     "execution_count": 30,
     "metadata": {},
     "output_type": "execute_result"
    },
    {
     "data": {
      "image/png": "[encoded data removed]",
      "text/plain": [
       "<Figure size 432x288 with 1 Axes>"
      ]
     },
     "metadata": {
      "needs_background": "light"
     },
     "output_type": "display_data"
    }
   ],
   "source": [
    "plt.plot(history_augmented.epoch, history_augmented.history[\"accuracy\"], color=\"r\")\n",
    "plt.plot(history_augmented.epoch, history_augmented.history[\"val_accuracy\"], color=\"g\")\n",
    "\n",
    "plt.title(\"Accuracy Train vs Validation\")"
   ]
  },
  {
   "cell_type": "code",
   "execution_count": null,
   "metadata": {},
   "outputs": [],
   "source": []
  }
 ],
 "metadata": {
  "kernelspec": {
   "display_name": "Python 3",
   "language": "python",
   "name": "python3"
  },
  "language_info": {
   "codemirror_mode": {
    "name": "ipython",
    "version": 3
   },
   "file_extension": ".py",
   "mimetype": "text/x-python",
   "name": "python",
   "nbconvert_exporter": "python",
   "pygments_lexer": "ipython3",
   "version": "3.7.5"
  }
 },
 "nbformat": 4,
 "nbformat_minor": 4
}
