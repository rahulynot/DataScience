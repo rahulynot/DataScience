{
 "cells": [
  {
   "cell_type": "code",
   "execution_count": 2,
   "metadata": {},
   "outputs": [],
   "source": [
    "import os\n",
    "import random\n",
    "from shutil import copyfile\n",
    "\n",
    "\n",
    "import tensorflow as tf\n",
    "import tensorflow.keras as keras\n",
    "import numpy as np\n",
    "import pandas as pd\n",
    "import matplotlib.pyplot as plt\n",
    "import matplotlib.image as mpimage\n",
    "from tensorflow.keras.preprocessing.image import ImageDataGenerator\n",
    "from tensorflow.keras.preprocessing import image\n",
    "\n",
    "from tensorflow.keras.applications.inception_v3 import InceptionV3\n",
    "\n",
    "from sklearn.preprocessing import StandardScaler\n",
    "from sklearn.metrics import classification_report\n",
    "from sklearn.metrics import confusion_matrix\n",
    "\n",
    "import itertools\n",
    "\n",
    "%matplotlib inline\n",
    "%reload_ext lab_black"
   ]
  },
  {
   "cell_type": "code",
   "execution_count": 3,
   "metadata": {},
   "outputs": [],
   "source": [
    "local_weight_file = (\n",
    "    \"pretrained_model/inception_v3_weights_tf_dim_ordering_tf_kernels_notop.h5\"\n",
    ")"
   ]
  },
  {
   "cell_type": "code",
   "execution_count": 4,
   "metadata": {},
   "outputs": [],
   "source": [
    "TARGET_IMAGE_SIZE = 150"
   ]
  },
  {
   "cell_type": "code",
   "execution_count": 5,
   "metadata": {},
   "outputs": [],
   "source": [
    "pre_trained_model = InceptionV3(\n",
    "    input_shape=(TARGET_IMAGE_SIZE, TARGET_IMAGE_SIZE, 3),\n",
    "    include_top=False,\n",
    "    weights=None,\n",
    ")"
   ]
  },
  {
   "cell_type": "code",
   "execution_count": 6,
   "metadata": {},
   "outputs": [],
   "source": [
    "pre_trained_model.load_weights(local_weight_file)"
   ]
  },
  {
   "cell_type": "code",
   "execution_count": 12,
   "metadata": {},
   "outputs": [],
   "source": [
    "for layer in pre_trained_model.layers:\n",
    "    layer.trainable = False"
   ]
  },
  {
   "cell_type": "code",
   "execution_count": 27,
   "metadata": {},
   "outputs": [],
   "source": [
    "last_layer = pre_trained_model.get_layer(\"mixed7\")"
   ]
  },
  {
   "cell_type": "code",
   "execution_count": 28,
   "metadata": {},
   "outputs": [
    {
     "data": {
      "text/plain": [
       "(None, 7, 7, 768)"
      ]
     },
     "execution_count": 28,
     "metadata": {},
     "output_type": "execute_result"
    }
   ],
   "source": [
    "last_layer.output_shape"
   ]
  },
  {
   "cell_type": "code",
   "execution_count": 29,
   "metadata": {},
   "outputs": [
    {
     "data": {
      "text/plain": [
       "<tf.Tensor 'mixed7/Identity:0' shape=(None, 7, 7, 768) dtype=float32>"
      ]
     },
     "execution_count": 29,
     "metadata": {},
     "output_type": "execute_result"
    }
   ],
   "source": [
    "last_layer.output"
   ]
  },
  {
   "cell_type": "code",
   "execution_count": 39,
   "metadata": {},
   "outputs": [],
   "source": [
    "def create_model_with_transfer_learning():\n",
    "\n",
    "    output_layer = keras.layers.Flatten()(last_layer.output)\n",
    "\n",
    "    output_layer = keras.layers.Dense(units=1024, activation=\"relu\")(output_layer)\n",
    "\n",
    "    output_layer = keras.layers.Dropout(rate=0.2)(output_layer)\n",
    "\n",
    "    output_layer = keras.layers.Dense(units=1, activation=\"sigmoid\")(output_layer)\n",
    "\n",
    "    model = keras.Model(inputs=pre_trained_model.input, outputs=output_layer)\n",
    "\n",
    "    model.compile(optimizer=\"adam\", loss=\"binary_crossentropy\", metrics=[\"accuracy\"])\n",
    "\n",
    "    return model"
   ]
  },
  {
   "cell_type": "markdown",
   "metadata": {},
   "source": [
    "## Prepare Dataset"
   ]
  },
  {
   "cell_type": "code",
   "execution_count": 34,
   "metadata": {},
   "outputs": [],
   "source": [
    "TRAIN_DATASET_PATH = \"../week_1/full_dataset/cats-v-dogs/training/\"\n",
    "VALIDATION_DATASET_PATH = \"../week_1/full_dataset/cats-v-dogs/testing/\"\n",
    "\n",
    "BATCH_SIZE = 32"
   ]
  },
  {
   "cell_type": "code",
   "execution_count": 35,
   "metadata": {},
   "outputs": [],
   "source": [
    "augmentation_args = {\n",
    "    \"rotation_range\": 40,\n",
    "    \"width_shift_range\": 0.2,\n",
    "    \"height_shift_range\": 0.2,\n",
    "    \"shear_range\": 0.2,\n",
    "    \"zoom_range\": 0.2,\n",
    "    \"horizontal_flip\": True,\n",
    "    \"fill_mode\": \"nearest\",\n",
    "}"
   ]
  },
  {
   "cell_type": "code",
   "execution_count": 37,
   "metadata": {},
   "outputs": [
    {
     "name": "stdout",
     "output_type": "stream",
     "text": [
      "Found 2700 images belonging to 2 classes.\n",
      "Found 300 images belonging to 2 classes.\n"
     ]
    }
   ],
   "source": [
    "train_data_gen = ImageDataGenerator(rescale=1.0 / 255, **augmentation_args)\n",
    "\n",
    "train_generator = train_data_gen.flow_from_directory(\n",
    "    TRAIN_DATASET_PATH,\n",
    "    batch_size=BATCH_SIZE,\n",
    "    target_size=(TARGET_IMAGE_SIZE, TARGET_IMAGE_SIZE),\n",
    "    class_mode=\"binary\",\n",
    ")\n",
    "\n",
    "validation_data_gen = ImageDataGenerator(rescale=1.0 / 255)\n",
    "\n",
    "validation_generator = validation_data_gen.flow_from_directory(\n",
    "    VALIDATION_DATASET_PATH,\n",
    "    batch_size=BATCH_SIZE,\n",
    "    target_size=(TARGET_IMAGE_SIZE, TARGET_IMAGE_SIZE),\n",
    "    class_mode=\"binary\",\n",
    ")"
   ]
  },
  {
   "cell_type": "code",
   "execution_count": 44,
   "metadata": {},
   "outputs": [],
   "source": [
    "transfer_model = create_model_with_transfer_learning()"
   ]
  },
  {
   "cell_type": "code",
   "execution_count": 45,
   "metadata": {},
   "outputs": [],
   "source": [
    "early_stopping = keras.callbacks.EarlyStopping(patience=3, monitor='val_accuracy')"
   ]
  },
  {
   "cell_type": "code",
   "execution_count": 46,
   "metadata": {},
   "outputs": [
    {
     "name": "stdout",
     "output_type": "stream",
     "text": [
      "WARNING:tensorflow:sample_weight modes were coerced from\n",
      "  ...\n",
      "    to  \n",
      "  ['...']\n",
      "WARNING:tensorflow:sample_weight modes were coerced from\n",
      "  ...\n",
      "    to  \n",
      "  ['...']\n",
      "Train for 85 steps, validate for 10 steps\n",
      "Epoch 1/15\n",
      "85/85 [==============================] - 38s 443ms/step - loss: 0.5792 - accuracy: 0.7904 - val_loss: 0.1823 - val_accuracy: 0.9367\n",
      "Epoch 2/15\n",
      "85/85 [==============================] - 38s 449ms/step - loss: 0.3420 - accuracy: 0.8552 - val_loss: 0.1154 - val_accuracy: 0.9567\n",
      "Epoch 3/15\n",
      "85/85 [==============================] - 39s 459ms/step - loss: 0.3184 - accuracy: 0.8633 - val_loss: 0.1596 - val_accuracy: 0.9533\n",
      "Epoch 4/15\n",
      "85/85 [==============================] - 40s 472ms/step - loss: 0.2968 - accuracy: 0.8704 - val_loss: 0.0935 - val_accuracy: 0.9633\n",
      "Epoch 5/15\n",
      "85/85 [==============================] - 38s 449ms/step - loss: 0.2736 - accuracy: 0.8789 - val_loss: 0.2326 - val_accuracy: 0.9567\n",
      "Epoch 6/15\n",
      "85/85 [==============================] - 40s 471ms/step - loss: 0.2626 - accuracy: 0.8896 - val_loss: 0.0992 - val_accuracy: 0.9667\n",
      "Epoch 7/15\n",
      "85/85 [==============================] - 39s 459ms/step - loss: 0.2463 - accuracy: 0.8996 - val_loss: 0.1266 - val_accuracy: 0.9667\n"
     ]
    }
   ],
   "source": [
    "history_transfer = transfer_model.fit(\n",
    "    train_generator,\n",
    "    epochs=15,\n",
    "    validation_data=validation_generator,\n",
    "    callbacks=[early_stopping],\n",
    ")"
   ]
  },
  {
   "cell_type": "code",
   "execution_count": 47,
   "metadata": {},
   "outputs": [
    {
     "data": {
      "text/plain": [
       "Text(0.5, 1.0, 'Loss Train vs Validation')"
      ]
     },
     "execution_count": 47,
     "metadata": {},
     "output_type": "execute_result"
    },
    {
     "data": {
      "image/png": "[encoded data removed]",
      "text/plain": [
       "<Figure size 432x288 with 1 Axes>"
      ]
     },
     "metadata": {
      "needs_background": "light"
     },
     "output_type": "display_data"
    }
   ],
   "source": [
    "plt.plot(\n",
    "    history_transfer.epoch, history_transfer.history[\"loss\"], \"r-\", label=\"Training\"\n",
    ")\n",
    "plt.plot(\n",
    "    history_transfer.epoch,\n",
    "    history_transfer.history[\"val_loss\"],\n",
    "    \"g-\",\n",
    "    label=\"Validation\",\n",
    ")\n",
    "\n",
    "plt.title(\"Loss Train vs Validation\")"
   ]
  },
  {
   "cell_type": "code",
   "execution_count": 48,
   "metadata": {},
   "outputs": [
    {
     "data": {
      "text/plain": [
       "Text(0.5, 1.0, 'Accuracy Train vs Validation')"
      ]
     },
     "execution_count": 48,
     "metadata": {},
     "output_type": "execute_result"
    },
    {
     "data": {
      "image/png": "[encoded data removed]",
      "text/plain": [
       "<Figure size 432x288 with 1 Axes>"
      ]
     },
     "metadata": {
      "needs_background": "light"
     },
     "output_type": "display_data"
    }
   ],
   "source": [
    "plt.plot(history_transfer.epoch, history_transfer.history[\"accuracy\"], color=\"r\")\n",
    "plt.plot(history_transfer.epoch, history_transfer.history[\"val_accuracy\"], color=\"g\")\n",
    "\n",
    "plt.title(\"Accuracy Train vs Validation\")"
   ]
  },
  {
   "cell_type": "code",
   "execution_count": null,
   "metadata": {},
   "outputs": [],
   "source": []
  }
 ],
 "metadata": {
  "kernelspec": {
   "display_name": "Python 3",
   "language": "python",
   "name": "python3"
  },
  "language_info": {
   "codemirror_mode": {
    "name": "ipython",
    "version": 3
   },
   "file_extension": ".py",
   "mimetype": "text/x-python",
   "name": "python",
   "nbconvert_exporter": "python",
   "pygments_lexer": "ipython3",
   "version": "3.7.5"
  }
 },
 "nbformat": 4,
 "nbformat_minor": 4
}
