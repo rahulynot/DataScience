{
 "cells": [
  {
   "cell_type": "code",
   "execution_count": 1,
   "metadata": {},
   "outputs": [
    {
     "name": "stderr",
     "output_type": "stream",
     "text": [
      "Using TensorFlow backend.\n"
     ]
    },
    {
     "data": {
      "application/javascript": [
       "\n",
       "            setTimeout(function() {\n",
       "                var nbb_cell_id = 1;\n",
       "                var nbb_unformatted_code = \"import tensorflow as tf\\nimport tensorflow.keras as keras\\nimport numpy as np\\nimport pandas as pd\\nimport matplotlib.pyplot as plt\\n\\nfrom keras.datasets import mnist\\n\\nfrom sklearn.preprocessing import StandardScaler\\nfrom sklearn.metrics import classification_report\\nfrom sklearn.metrics import confusion_matrix\\n\\nimport itertools\\n\\n%matplotlib inline\\n%reload_ext nb_black\";\n",
       "                var nbb_formatted_code = \"import tensorflow as tf\\nimport tensorflow.keras as keras\\nimport numpy as np\\nimport pandas as pd\\nimport matplotlib.pyplot as plt\\n\\nfrom keras.datasets import mnist\\n\\nfrom sklearn.preprocessing import StandardScaler\\nfrom sklearn.metrics import classification_report\\nfrom sklearn.metrics import confusion_matrix\\n\\nimport itertools\\n\\n%matplotlib inline\\n%reload_ext nb_black\";\n",
       "                var nbb_cells = Jupyter.notebook.get_cells();\n",
       "                for (var i = 0; i < nbb_cells.length; ++i) {\n",
       "                    if (nbb_cells[i].input_prompt_number == nbb_cell_id) {\n",
       "                        if (nbb_cells[i].get_text() == nbb_unformatted_code) {\n",
       "                             nbb_cells[i].set_text(nbb_formatted_code);\n",
       "                        }\n",
       "                        break;\n",
       "                    }\n",
       "                }\n",
       "            }, 500);\n",
       "            "
      ],
      "text/plain": [
       "<IPython.core.display.Javascript object>"
      ]
     },
     "metadata": {},
     "output_type": "display_data"
    }
   ],
   "source": [
    "import tensorflow as tf\n",
    "import tensorflow.keras as keras\n",
    "import numpy as np\n",
    "import pandas as pd\n",
    "import matplotlib.pyplot as plt\n",
    "\n",
    "from keras.datasets import mnist\n",
    "\n",
    "from sklearn.preprocessing import StandardScaler\n",
    "from sklearn.metrics import classification_report\n",
    "from sklearn.metrics import confusion_matrix\n",
    "\n",
    "import itertools\n",
    "\n",
    "%matplotlib inline\n",
    "%reload_ext nb_black"
   ]
  },
  {
   "cell_type": "code",
   "execution_count": 2,
   "metadata": {},
   "outputs": [
    {
     "data": {
      "application/javascript": [
       "\n",
       "            setTimeout(function() {\n",
       "                var nbb_cell_id = 2;\n",
       "                var nbb_unformatted_code = \"(x_train, y_train), (x_test, y_test) = mnist.load_data()\\n\\nx_train = x_train / 255\\nx_test = x_test / 255\";\n",
       "                var nbb_formatted_code = \"(x_train, y_train), (x_test, y_test) = mnist.load_data()\\n\\nx_train = x_train / 255\\nx_test = x_test / 255\";\n",
       "                var nbb_cells = Jupyter.notebook.get_cells();\n",
       "                for (var i = 0; i < nbb_cells.length; ++i) {\n",
       "                    if (nbb_cells[i].input_prompt_number == nbb_cell_id) {\n",
       "                        if (nbb_cells[i].get_text() == nbb_unformatted_code) {\n",
       "                             nbb_cells[i].set_text(nbb_formatted_code);\n",
       "                        }\n",
       "                        break;\n",
       "                    }\n",
       "                }\n",
       "            }, 500);\n",
       "            "
      ],
      "text/plain": [
       "<IPython.core.display.Javascript object>"
      ]
     },
     "metadata": {},
     "output_type": "display_data"
    }
   ],
   "source": [
    "(x_train, y_train), (x_test, y_test) = mnist.load_data()\n",
    "\n",
    "x_train = x_train / 255\n",
    "x_test = x_test / 255"
   ]
  },
  {
   "cell_type": "code",
   "execution_count": 3,
   "metadata": {},
   "outputs": [
    {
     "data": {
      "application/javascript": [
       "\n",
       "            setTimeout(function() {\n",
       "                var nbb_cell_id = 3;\n",
       "                var nbb_unformatted_code = \"class_names = np.unique(y_train)\";\n",
       "                var nbb_formatted_code = \"class_names = np.unique(y_train)\";\n",
       "                var nbb_cells = Jupyter.notebook.get_cells();\n",
       "                for (var i = 0; i < nbb_cells.length; ++i) {\n",
       "                    if (nbb_cells[i].input_prompt_number == nbb_cell_id) {\n",
       "                        if (nbb_cells[i].get_text() == nbb_unformatted_code) {\n",
       "                             nbb_cells[i].set_text(nbb_formatted_code);\n",
       "                        }\n",
       "                        break;\n",
       "                    }\n",
       "                }\n",
       "            }, 500);\n",
       "            "
      ],
      "text/plain": [
       "<IPython.core.display.Javascript object>"
      ]
     },
     "metadata": {},
     "output_type": "display_data"
    }
   ],
   "source": [
    "class_names = np.unique(y_train)"
   ]
  },
  {
   "cell_type": "code",
   "execution_count": 4,
   "metadata": {},
   "outputs": [
    {
     "data": {
      "application/javascript": [
       "\n",
       "            setTimeout(function() {\n",
       "                var nbb_cell_id = 4;\n",
       "                var nbb_unformatted_code = \"def create_simple_model() -> keras.models.Model():\\n\\n    model = keras.Sequential()\\n    model.add(keras.layers.Flatten())\\n\\n    model.add(keras.layers.Dense(units=512, activation=\\\"relu\\\"))\\n    model.add(keras.layers.Dense(units=256, activation=\\\"relu\\\"))\\n    model.add(keras.layers.Dense(units=len(class_names), activation=\\\"softmax\\\"))\\n\\n    model.compile(\\n        optimizer=\\\"adam\\\", loss=\\\"sparse_categorical_crossentropy\\\", metrics=[\\\"accuracy\\\"]\\n    )\\n\\n    return model\";\n",
       "                var nbb_formatted_code = \"def create_simple_model() -> keras.models.Model():\\n\\n    model = keras.Sequential()\\n    model.add(keras.layers.Flatten())\\n\\n    model.add(keras.layers.Dense(units=512, activation=\\\"relu\\\"))\\n    model.add(keras.layers.Dense(units=256, activation=\\\"relu\\\"))\\n    model.add(keras.layers.Dense(units=len(class_names), activation=\\\"softmax\\\"))\\n\\n    model.compile(\\n        optimizer=\\\"adam\\\", loss=\\\"sparse_categorical_crossentropy\\\", metrics=[\\\"accuracy\\\"]\\n    )\\n\\n    return model\";\n",
       "                var nbb_cells = Jupyter.notebook.get_cells();\n",
       "                for (var i = 0; i < nbb_cells.length; ++i) {\n",
       "                    if (nbb_cells[i].input_prompt_number == nbb_cell_id) {\n",
       "                        if (nbb_cells[i].get_text() == nbb_unformatted_code) {\n",
       "                             nbb_cells[i].set_text(nbb_formatted_code);\n",
       "                        }\n",
       "                        break;\n",
       "                    }\n",
       "                }\n",
       "            }, 500);\n",
       "            "
      ],
      "text/plain": [
       "<IPython.core.display.Javascript object>"
      ]
     },
     "metadata": {},
     "output_type": "display_data"
    }
   ],
   "source": [
    "def create_simple_model() -> keras.models.Model():\n",
    "\n",
    "    model = keras.Sequential()\n",
    "    model.add(keras.layers.Flatten())\n",
    "\n",
    "    model.add(keras.layers.Dense(units=512, activation=\"relu\"))\n",
    "    model.add(keras.layers.Dense(units=256, activation=\"relu\"))\n",
    "    model.add(keras.layers.Dense(units=len(class_names), activation=\"softmax\"))\n",
    "\n",
    "    model.compile(\n",
    "        optimizer=\"adam\", loss=\"sparse_categorical_crossentropy\", metrics=[\"accuracy\"]\n",
    "    )\n",
    "\n",
    "    return model"
   ]
  },
  {
   "cell_type": "code",
   "execution_count": 5,
   "metadata": {},
   "outputs": [
    {
     "data": {
      "application/javascript": [
       "\n",
       "            setTimeout(function() {\n",
       "                var nbb_cell_id = 5;\n",
       "                var nbb_unformatted_code = \"early_stopping = keras.callbacks.EarlyStopping(monitor='val_accuracy',\\n    min_delta=0.01, patience=4, verbose=2, restore_best_weights=True\\n)\";\n",
       "                var nbb_formatted_code = \"early_stopping = keras.callbacks.EarlyStopping(\\n    monitor=\\\"val_accuracy\\\",\\n    min_delta=0.01,\\n    patience=4,\\n    verbose=2,\\n    restore_best_weights=True,\\n)\";\n",
       "                var nbb_cells = Jupyter.notebook.get_cells();\n",
       "                for (var i = 0; i < nbb_cells.length; ++i) {\n",
       "                    if (nbb_cells[i].input_prompt_number == nbb_cell_id) {\n",
       "                        if (nbb_cells[i].get_text() == nbb_unformatted_code) {\n",
       "                             nbb_cells[i].set_text(nbb_formatted_code);\n",
       "                        }\n",
       "                        break;\n",
       "                    }\n",
       "                }\n",
       "            }, 500);\n",
       "            "
      ],
      "text/plain": [
       "<IPython.core.display.Javascript object>"
      ]
     },
     "metadata": {},
     "output_type": "display_data"
    }
   ],
   "source": [
    "early_stopping = keras.callbacks.EarlyStopping(monitor='val_accuracy',\n",
    "    min_delta=0.01, patience=4, verbose=2, restore_best_weights=True\n",
    ")\n"
   ]
  },
  {
   "cell_type": "code",
   "execution_count": 6,
   "metadata": {},
   "outputs": [
    {
     "data": {
      "application/javascript": [
       "\n",
       "            setTimeout(function() {\n",
       "                var nbb_cell_id = 6;\n",
       "                var nbb_unformatted_code = \"simple_model = create_simple_model()\";\n",
       "                var nbb_formatted_code = \"simple_model = create_simple_model()\";\n",
       "                var nbb_cells = Jupyter.notebook.get_cells();\n",
       "                for (var i = 0; i < nbb_cells.length; ++i) {\n",
       "                    if (nbb_cells[i].input_prompt_number == nbb_cell_id) {\n",
       "                        if (nbb_cells[i].get_text() == nbb_unformatted_code) {\n",
       "                             nbb_cells[i].set_text(nbb_formatted_code);\n",
       "                        }\n",
       "                        break;\n",
       "                    }\n",
       "                }\n",
       "            }, 500);\n",
       "            "
      ],
      "text/plain": [
       "<IPython.core.display.Javascript object>"
      ]
     },
     "metadata": {},
     "output_type": "display_data"
    }
   ],
   "source": [
    "simple_model = create_simple_model()"
   ]
  },
  {
   "cell_type": "code",
   "execution_count": 7,
   "metadata": {},
   "outputs": [
    {
     "name": "stdout",
     "output_type": "stream",
     "text": [
      "Train on 54000 samples, validate on 6000 samples\n",
      "Epoch 1/50\n",
      "54000/54000 [==============================] - 1s 25us/sample - loss: 0.2927 - accuracy: 0.9159 - val_loss: 0.1225 - val_accuracy: 0.9662\n",
      "Epoch 2/50\n",
      "54000/54000 [==============================] - 1s 21us/sample - loss: 0.1067 - accuracy: 0.9678 - val_loss: 0.0889 - val_accuracy: 0.9738\n",
      "Epoch 3/50\n",
      "54000/54000 [==============================] - 1s 21us/sample - loss: 0.0683 - accuracy: 0.9793 - val_loss: 0.0773 - val_accuracy: 0.9780\n",
      "Epoch 4/50\n",
      "54000/54000 [==============================] - 1s 21us/sample - loss: 0.0473 - accuracy: 0.9858 - val_loss: 0.0705 - val_accuracy: 0.9792\n",
      "Epoch 5/50\n",
      "54000/54000 [==============================] - 1s 21us/sample - loss: 0.0310 - accuracy: 0.9907 - val_loss: 0.0781 - val_accuracy: 0.9785\n",
      "Epoch 6/50\n",
      "54000/54000 [==============================] - 1s 21us/sample - loss: 0.0227 - accuracy: 0.9930 - val_loss: 0.0772 - val_accuracy: 0.9770\n",
      "Epoch 7/50\n",
      "52992/54000 [============================>.] - ETA: 0s - loss: 0.0179 - accuracy: 0.9946Restoring model weights from the end of the best epoch.\n",
      "54000/54000 [==============================] - 1s 21us/sample - loss: 0.0179 - accuracy: 0.9946 - val_loss: 0.0801 - val_accuracy: 0.9783\n",
      "Epoch 00007: early stopping\n"
     ]
    },
    {
     "data": {
      "text/plain": [
       "<tensorflow.python.keras.callbacks.History at 0x7febc1ee4450>"
      ]
     },
     "execution_count": 7,
     "metadata": {},
     "output_type": "execute_result"
    },
    {
     "data": {
      "application/javascript": [
       "\n",
       "            setTimeout(function() {\n",
       "                var nbb_cell_id = 7;\n",
       "                var nbb_unformatted_code = \"simple_model.fit(\\n    x_train,\\n    y_train,\\n    epochs=50,\\n    validation_split=0.1,\\n    batch_size=256,\\n    callbacks=[early_stopping],\\n)\";\n",
       "                var nbb_formatted_code = \"simple_model.fit(\\n    x_train,\\n    y_train,\\n    epochs=50,\\n    validation_split=0.1,\\n    batch_size=256,\\n    callbacks=[early_stopping],\\n)\";\n",
       "                var nbb_cells = Jupyter.notebook.get_cells();\n",
       "                for (var i = 0; i < nbb_cells.length; ++i) {\n",
       "                    if (nbb_cells[i].input_prompt_number == nbb_cell_id) {\n",
       "                        if (nbb_cells[i].get_text() == nbb_unformatted_code) {\n",
       "                             nbb_cells[i].set_text(nbb_formatted_code);\n",
       "                        }\n",
       "                        break;\n",
       "                    }\n",
       "                }\n",
       "            }, 500);\n",
       "            "
      ],
      "text/plain": [
       "<IPython.core.display.Javascript object>"
      ]
     },
     "metadata": {},
     "output_type": "display_data"
    }
   ],
   "source": [
    "simple_model.fit(\n",
    "    x_train,\n",
    "    y_train,\n",
    "    epochs=50,\n",
    "    validation_split=0.1,\n",
    "    batch_size=256,\n",
    "    callbacks=[early_stopping],\n",
    ")"
   ]
  },
  {
   "cell_type": "code",
   "execution_count": 8,
   "metadata": {},
   "outputs": [
    {
     "data": {
      "text/plain": [
       "[0.07496312079606578, 0.9768]"
      ]
     },
     "execution_count": 8,
     "metadata": {},
     "output_type": "execute_result"
    },
    {
     "data": {
      "application/javascript": [
       "\n",
       "            setTimeout(function() {\n",
       "                var nbb_cell_id = 8;\n",
       "                var nbb_unformatted_code = \"simple_model.evaluate(x_test, y_test, verbose=0)\";\n",
       "                var nbb_formatted_code = \"simple_model.evaluate(x_test, y_test, verbose=0)\";\n",
       "                var nbb_cells = Jupyter.notebook.get_cells();\n",
       "                for (var i = 0; i < nbb_cells.length; ++i) {\n",
       "                    if (nbb_cells[i].input_prompt_number == nbb_cell_id) {\n",
       "                        if (nbb_cells[i].get_text() == nbb_unformatted_code) {\n",
       "                             nbb_cells[i].set_text(nbb_formatted_code);\n",
       "                        }\n",
       "                        break;\n",
       "                    }\n",
       "                }\n",
       "            }, 500);\n",
       "            "
      ],
      "text/plain": [
       "<IPython.core.display.Javascript object>"
      ]
     },
     "metadata": {},
     "output_type": "display_data"
    }
   ],
   "source": [
    "simple_model.evaluate(x_test, y_test, verbose=0)"
   ]
  },
  {
   "cell_type": "markdown",
   "metadata": {},
   "source": [
    "## Convolution Model"
   ]
  },
  {
   "cell_type": "code",
   "execution_count": 9,
   "metadata": {},
   "outputs": [
    {
     "data": {
      "application/javascript": [
       "\n",
       "            setTimeout(function() {\n",
       "                var nbb_cell_id = 9;\n",
       "                var nbb_unformatted_code = \"def create_convolution_model() -> keras.models.Model():\\n\\n    model = keras.Sequential()\\n\\n    model.add(\\n        keras.layers.Conv2D(\\n            filters=64, kernel_size=(3, 3), activation=\\\"relu\\\", input_shape=(28, 28, 1)\\n        )\\n    )\\n    model.add(keras.layers.MaxPool2D(pool_size=(2, 2)))\\n\\n    model.add(keras.layers.Conv2D(filters=64, kernel_size=(3, 3), activation=\\\"relu\\\"))\\n    model.add(keras.layers.MaxPool2D(pool_size=(2, 2)))\\n\\n    model.add(keras.layers.Flatten())\\n\\n    model.add(keras.layers.Dense(units=512, activation=\\\"relu\\\"))\\n    model.add(keras.layers.Dense(units=256, activation=\\\"relu\\\"))\\n    model.add(keras.layers.Dense(units=len(class_names), activation=\\\"softmax\\\"))\\n\\n    model.compile(\\n        optimizer=\\\"adam\\\", loss=\\\"sparse_categorical_crossentropy\\\", metrics=[\\\"accuracy\\\"]\\n    )\\n\\n    return model\";\n",
       "                var nbb_formatted_code = \"def create_convolution_model() -> keras.models.Model():\\n\\n    model = keras.Sequential()\\n\\n    model.add(\\n        keras.layers.Conv2D(\\n            filters=64, kernel_size=(3, 3), activation=\\\"relu\\\", input_shape=(28, 28, 1)\\n        )\\n    )\\n    model.add(keras.layers.MaxPool2D(pool_size=(2, 2)))\\n\\n    model.add(keras.layers.Conv2D(filters=64, kernel_size=(3, 3), activation=\\\"relu\\\"))\\n    model.add(keras.layers.MaxPool2D(pool_size=(2, 2)))\\n\\n    model.add(keras.layers.Flatten())\\n\\n    model.add(keras.layers.Dense(units=512, activation=\\\"relu\\\"))\\n    model.add(keras.layers.Dense(units=256, activation=\\\"relu\\\"))\\n    model.add(keras.layers.Dense(units=len(class_names), activation=\\\"softmax\\\"))\\n\\n    model.compile(\\n        optimizer=\\\"adam\\\", loss=\\\"sparse_categorical_crossentropy\\\", metrics=[\\\"accuracy\\\"]\\n    )\\n\\n    return model\";\n",
       "                var nbb_cells = Jupyter.notebook.get_cells();\n",
       "                for (var i = 0; i < nbb_cells.length; ++i) {\n",
       "                    if (nbb_cells[i].input_prompt_number == nbb_cell_id) {\n",
       "                        if (nbb_cells[i].get_text() == nbb_unformatted_code) {\n",
       "                             nbb_cells[i].set_text(nbb_formatted_code);\n",
       "                        }\n",
       "                        break;\n",
       "                    }\n",
       "                }\n",
       "            }, 500);\n",
       "            "
      ],
      "text/plain": [
       "<IPython.core.display.Javascript object>"
      ]
     },
     "metadata": {},
     "output_type": "display_data"
    }
   ],
   "source": [
    "def create_convolution_model() -> keras.models.Model():\n",
    "\n",
    "    model = keras.Sequential()\n",
    "\n",
    "    model.add(\n",
    "        keras.layers.Conv2D(\n",
    "            filters=64, kernel_size=(3, 3), activation=\"relu\", input_shape=(28, 28, 1)\n",
    "        )\n",
    "    )\n",
    "    model.add(keras.layers.MaxPool2D(pool_size=(2, 2)))\n",
    "\n",
    "    model.add(keras.layers.Conv2D(filters=64, kernel_size=(3, 3), activation=\"relu\"))\n",
    "    model.add(keras.layers.MaxPool2D(pool_size=(2, 2)))\n",
    "\n",
    "    model.add(keras.layers.Flatten())\n",
    "\n",
    "    model.add(keras.layers.Dense(units=512, activation=\"relu\"))\n",
    "    model.add(keras.layers.Dense(units=256, activation=\"relu\"))\n",
    "    model.add(keras.layers.Dense(units=len(class_names), activation=\"softmax\"))\n",
    "\n",
    "    model.compile(\n",
    "        optimizer=\"adam\", loss=\"sparse_categorical_crossentropy\", metrics=[\"accuracy\"]\n",
    "    )\n",
    "\n",
    "    return model"
   ]
  },
  {
   "cell_type": "code",
   "execution_count": 10,
   "metadata": {},
   "outputs": [
    {
     "data": {
      "application/javascript": [
       "\n",
       "            setTimeout(function() {\n",
       "                var nbb_cell_id = 10;\n",
       "                var nbb_unformatted_code = \"conv_model = create_convolution_model()\";\n",
       "                var nbb_formatted_code = \"conv_model = create_convolution_model()\";\n",
       "                var nbb_cells = Jupyter.notebook.get_cells();\n",
       "                for (var i = 0; i < nbb_cells.length; ++i) {\n",
       "                    if (nbb_cells[i].input_prompt_number == nbb_cell_id) {\n",
       "                        if (nbb_cells[i].get_text() == nbb_unformatted_code) {\n",
       "                             nbb_cells[i].set_text(nbb_formatted_code);\n",
       "                        }\n",
       "                        break;\n",
       "                    }\n",
       "                }\n",
       "            }, 500);\n",
       "            "
      ],
      "text/plain": [
       "<IPython.core.display.Javascript object>"
      ]
     },
     "metadata": {},
     "output_type": "display_data"
    }
   ],
   "source": [
    "conv_model = create_convolution_model()"
   ]
  },
  {
   "cell_type": "code",
   "execution_count": 11,
   "metadata": {},
   "outputs": [
    {
     "data": {
      "application/javascript": [
       "\n",
       "            setTimeout(function() {\n",
       "                var nbb_cell_id = 11;\n",
       "                var nbb_unformatted_code = \"x_train = x_train.reshape(x_train.shape[0], x_train.shape[1], x_train.shape[2], 1)\\nx_test = x_test.reshape(x_test.shape[0], x_test.shape[1], x_test.shape[2], 1)\";\n",
       "                var nbb_formatted_code = \"x_train = x_train.reshape(x_train.shape[0], x_train.shape[1], x_train.shape[2], 1)\\nx_test = x_test.reshape(x_test.shape[0], x_test.shape[1], x_test.shape[2], 1)\";\n",
       "                var nbb_cells = Jupyter.notebook.get_cells();\n",
       "                for (var i = 0; i < nbb_cells.length; ++i) {\n",
       "                    if (nbb_cells[i].input_prompt_number == nbb_cell_id) {\n",
       "                        if (nbb_cells[i].get_text() == nbb_unformatted_code) {\n",
       "                             nbb_cells[i].set_text(nbb_formatted_code);\n",
       "                        }\n",
       "                        break;\n",
       "                    }\n",
       "                }\n",
       "            }, 500);\n",
       "            "
      ],
      "text/plain": [
       "<IPython.core.display.Javascript object>"
      ]
     },
     "metadata": {},
     "output_type": "display_data"
    }
   ],
   "source": [
    "x_train = x_train.reshape(x_train.shape[0], x_train.shape[1], x_train.shape[2], 1)\n",
    "x_test = x_test.reshape(x_test.shape[0], x_test.shape[1], x_test.shape[2], 1)"
   ]
  },
  {
   "cell_type": "code",
   "execution_count": 12,
   "metadata": {},
   "outputs": [
    {
     "name": "stdout",
     "output_type": "stream",
     "text": [
      "Train on 54000 samples, validate on 6000 samples\n",
      "Epoch 1/50\n",
      "54000/54000 [==============================] - 20s 365us/sample - loss: 0.2412 - accuracy: 0.9284 - val_loss: 0.0643 - val_accuracy: 0.9810\n",
      "Epoch 2/50\n",
      "54000/54000 [==============================] - 19s 356us/sample - loss: 0.0554 - accuracy: 0.9827 - val_loss: 0.0426 - val_accuracy: 0.9880\n",
      "Epoch 3/50\n",
      "54000/54000 [==============================] - 18s 341us/sample - loss: 0.0374 - accuracy: 0.9881 - val_loss: 0.0362 - val_accuracy: 0.9893\n",
      "Epoch 4/50\n",
      "54000/54000 [==============================] - 20s 362us/sample - loss: 0.0266 - accuracy: 0.9919 - val_loss: 0.0430 - val_accuracy: 0.9890\n",
      "Epoch 5/50\n",
      "54000/54000 [==============================] - 18s 329us/sample - loss: 0.0201 - accuracy: 0.9937 - val_loss: 0.0368 - val_accuracy: 0.9913\n",
      "Epoch 6/50\n",
      "54000/54000 [==============================] - 17s 321us/sample - loss: 0.0163 - accuracy: 0.9946 - val_loss: 0.0381 - val_accuracy: 0.9903\n",
      "Epoch 7/50\n",
      "54000/54000 [==============================] - 18s 330us/sample - loss: 0.0121 - accuracy: 0.9957 - val_loss: 0.0363 - val_accuracy: 0.9910\n",
      "Epoch 8/50\n",
      "54000/54000 [==============================] - 18s 329us/sample - loss: 0.0113 - accuracy: 0.9962 - val_loss: 0.0448 - val_accuracy: 0.9892\n",
      "Epoch 9/50\n",
      "53760/54000 [============================>.] - ETA: 0s - loss: 0.0085 - accuracy: 0.9972Restoring model weights from the end of the best epoch.\n",
      "54000/54000 [==============================] - 18s 342us/sample - loss: 0.0084 - accuracy: 0.9972 - val_loss: 0.0429 - val_accuracy: 0.9902\n",
      "Epoch 00009: early stopping\n"
     ]
    },
    {
     "data": {
      "text/plain": [
       "<tensorflow.python.keras.callbacks.History at 0x7feb9846c190>"
      ]
     },
     "execution_count": 12,
     "metadata": {},
     "output_type": "execute_result"
    },
    {
     "data": {
      "application/javascript": [
       "\n",
       "            setTimeout(function() {\n",
       "                var nbb_cell_id = 12;\n",
       "                var nbb_unformatted_code = \"conv_model.fit(\\n    x_train,\\n    y_train,\\n    epochs=50,\\n    validation_split=0.1,\\n    batch_size=256,\\n    callbacks=[early_stopping],\\n)\";\n",
       "                var nbb_formatted_code = \"conv_model.fit(\\n    x_train,\\n    y_train,\\n    epochs=50,\\n    validation_split=0.1,\\n    batch_size=256,\\n    callbacks=[early_stopping],\\n)\";\n",
       "                var nbb_cells = Jupyter.notebook.get_cells();\n",
       "                for (var i = 0; i < nbb_cells.length; ++i) {\n",
       "                    if (nbb_cells[i].input_prompt_number == nbb_cell_id) {\n",
       "                        if (nbb_cells[i].get_text() == nbb_unformatted_code) {\n",
       "                             nbb_cells[i].set_text(nbb_formatted_code);\n",
       "                        }\n",
       "                        break;\n",
       "                    }\n",
       "                }\n",
       "            }, 500);\n",
       "            "
      ],
      "text/plain": [
       "<IPython.core.display.Javascript object>"
      ]
     },
     "metadata": {},
     "output_type": "display_data"
    }
   ],
   "source": [
    "conv_model.fit(\n",
    "    x_train,\n",
    "    y_train,\n",
    "    epochs=50,\n",
    "    validation_split=0.1,\n",
    "    batch_size=256,\n",
    "    callbacks=[early_stopping],\n",
    ")"
   ]
  },
  {
   "cell_type": "code",
   "execution_count": 13,
   "metadata": {},
   "outputs": [
    {
     "data": {
      "text/plain": [
       "[0.0303764804004546, 0.989]"
      ]
     },
     "execution_count": 13,
     "metadata": {},
     "output_type": "execute_result"
    },
    {
     "data": {
      "application/javascript": [
       "\n",
       "            setTimeout(function() {\n",
       "                var nbb_cell_id = 13;\n",
       "                var nbb_unformatted_code = \"conv_model.evaluate(x_test, y_test, verbose=0)\";\n",
       "                var nbb_formatted_code = \"conv_model.evaluate(x_test, y_test, verbose=0)\";\n",
       "                var nbb_cells = Jupyter.notebook.get_cells();\n",
       "                for (var i = 0; i < nbb_cells.length; ++i) {\n",
       "                    if (nbb_cells[i].input_prompt_number == nbb_cell_id) {\n",
       "                        if (nbb_cells[i].get_text() == nbb_unformatted_code) {\n",
       "                             nbb_cells[i].set_text(nbb_formatted_code);\n",
       "                        }\n",
       "                        break;\n",
       "                    }\n",
       "                }\n",
       "            }, 500);\n",
       "            "
      ],
      "text/plain": [
       "<IPython.core.display.Javascript object>"
      ]
     },
     "metadata": {},
     "output_type": "display_data"
    }
   ],
   "source": [
    "conv_model.evaluate(x_test, y_test, verbose=0)"
   ]
  },
  {
   "cell_type": "code",
   "execution_count": 18,
   "metadata": {},
   "outputs": [
    {
     "data": {
      "text/plain": [
       "5"
      ]
     },
     "execution_count": 18,
     "metadata": {},
     "output_type": "execute_result"
    },
    {
     "data": {
      "application/javascript": [
       "\n",
       "            setTimeout(function() {\n",
       "                var nbb_cell_id = 18;\n",
       "                var nbb_unformatted_code = \"index = 23\\n\\nconv_model.predict_classes(x_test[index].reshape(1, 28, 28, 1))[0]\";\n",
       "                var nbb_formatted_code = \"index = 23\\n\\nconv_model.predict_classes(x_test[index].reshape(1, 28, 28, 1))[0]\";\n",
       "                var nbb_cells = Jupyter.notebook.get_cells();\n",
       "                for (var i = 0; i < nbb_cells.length; ++i) {\n",
       "                    if (nbb_cells[i].input_prompt_number == nbb_cell_id) {\n",
       "                        if (nbb_cells[i].get_text() == nbb_unformatted_code) {\n",
       "                             nbb_cells[i].set_text(nbb_formatted_code);\n",
       "                        }\n",
       "                        break;\n",
       "                    }\n",
       "                }\n",
       "            }, 500);\n",
       "            "
      ],
      "text/plain": [
       "<IPython.core.display.Javascript object>"
      ]
     },
     "metadata": {},
     "output_type": "display_data"
    }
   ],
   "source": [
    "index = 23\n",
    "\n",
    "conv_model.predict_classes(x_test[index].reshape(1, 28, 28, 1))[0]"
   ]
  },
  {
   "cell_type": "code",
   "execution_count": 19,
   "metadata": {},
   "outputs": [
    {
     "data": {
      "image/png": "[encoded data removed]",
      "text/plain": [
       "<Figure size 432x288 with 1 Axes>"
      ]
     },
     "metadata": {
      "needs_background": "light"
     },
     "output_type": "display_data"
    },
    {
     "data": {
      "application/javascript": [
       "\n",
       "            setTimeout(function() {\n",
       "                var nbb_cell_id = 19;\n",
       "                var nbb_unformatted_code = \"plt.imshow(x_test[index].reshape(28, 28))\\nplt.show()\";\n",
       "                var nbb_formatted_code = \"plt.imshow(x_test[index].reshape(28, 28))\\nplt.show()\";\n",
       "                var nbb_cells = Jupyter.notebook.get_cells();\n",
       "                for (var i = 0; i < nbb_cells.length; ++i) {\n",
       "                    if (nbb_cells[i].input_prompt_number == nbb_cell_id) {\n",
       "                        if (nbb_cells[i].get_text() == nbb_unformatted_code) {\n",
       "                             nbb_cells[i].set_text(nbb_formatted_code);\n",
       "                        }\n",
       "                        break;\n",
       "                    }\n",
       "                }\n",
       "            }, 500);\n",
       "            "
      ],
      "text/plain": [
       "<IPython.core.display.Javascript object>"
      ]
     },
     "metadata": {},
     "output_type": "display_data"
    }
   ],
   "source": [
    "plt.imshow(x_test[index].reshape(28, 28))\n",
    "plt.show()"
   ]
  },
  {
   "cell_type": "code",
   "execution_count": null,
   "metadata": {},
   "outputs": [],
   "source": []
  }
 ],
 "metadata": {
  "kernelspec": {
   "display_name": "Python 3",
   "language": "python",
   "name": "python3"
  },
  "language_info": {
   "codemirror_mode": {
    "name": "ipython",
    "version": 3
   },
   "file_extension": ".py",
   "mimetype": "text/x-python",
   "name": "python",
   "nbconvert_exporter": "python",
   "pygments_lexer": "ipython3",
   "version": "3.7.5"
  }
 },
 "nbformat": 4,
 "nbformat_minor": 4
}
