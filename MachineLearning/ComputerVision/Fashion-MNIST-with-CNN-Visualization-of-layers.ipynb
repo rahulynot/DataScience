{
 "cells": [
  {
   "cell_type": "code",
   "execution_count": 1,
   "metadata": {},
   "outputs": [
    {
     "name": "stderr",
     "output_type": "stream",
     "text": [
      "Using TensorFlow backend.\n"
     ]
    },
    {
     "data": {
      "application/javascript": [
       "\n",
       "            setTimeout(function() {\n",
       "                var nbb_cell_id = 1;\n",
       "                var nbb_unformatted_code = \"import tensorflow as tf\\nimport tensorflow.keras as keras\\nimport numpy as np\\nimport pandas as pd\\nimport matplotlib.pyplot as plt\\n\\nfrom keras.datasets import mnist\\nfrom keras.datasets import fashion_mnist\\n\\nfrom sklearn.preprocessing import StandardScaler\\nfrom sklearn.metrics import classification_report\\nfrom sklearn.metrics import confusion_matrix\\n\\nimport itertools\\n\\n%matplotlib inline\\n%reload_ext nb_black\";\n",
       "                var nbb_formatted_code = \"import tensorflow as tf\\nimport tensorflow.keras as keras\\nimport numpy as np\\nimport pandas as pd\\nimport matplotlib.pyplot as plt\\n\\nfrom keras.datasets import mnist\\nfrom keras.datasets import fashion_mnist\\n\\nfrom sklearn.preprocessing import StandardScaler\\nfrom sklearn.metrics import classification_report\\nfrom sklearn.metrics import confusion_matrix\\n\\nimport itertools\\n\\n%matplotlib inline\\n%reload_ext nb_black\";\n",
       "                var nbb_cells = Jupyter.notebook.get_cells();\n",
       "                for (var i = 0; i < nbb_cells.length; ++i) {\n",
       "                    if (nbb_cells[i].input_prompt_number == nbb_cell_id) {\n",
       "                        if (nbb_cells[i].get_text() == nbb_unformatted_code) {\n",
       "                             nbb_cells[i].set_text(nbb_formatted_code);\n",
       "                        }\n",
       "                        break;\n",
       "                    }\n",
       "                }\n",
       "            }, 500);\n",
       "            "
      ],
      "text/plain": [
       "<IPython.core.display.Javascript object>"
      ]
     },
     "metadata": {},
     "output_type": "display_data"
    }
   ],
   "source": [
    "import tensorflow as tf\n",
    "import tensorflow.keras as keras\n",
    "import numpy as np\n",
    "import pandas as pd\n",
    "import matplotlib.pyplot as plt\n",
    "\n",
    "from keras.datasets import mnist\n",
    "from keras.datasets import fashion_mnist\n",
    "\n",
    "from sklearn.preprocessing import StandardScaler\n",
    "from sklearn.metrics import classification_report\n",
    "from sklearn.metrics import confusion_matrix\n",
    "\n",
    "import itertools\n",
    "\n",
    "%matplotlib inline\n",
    "%reload_ext nb_black\n"
   ]
  },
  {
   "cell_type": "code",
   "execution_count": 2,
   "metadata": {},
   "outputs": [
    {
     "data": {
      "text/plain": [
       "'2.1.0'"
      ]
     },
     "execution_count": 2,
     "metadata": {},
     "output_type": "execute_result"
    },
    {
     "data": {
      "application/javascript": [
       "\n",
       "            setTimeout(function() {\n",
       "                var nbb_cell_id = 2;\n",
       "                var nbb_unformatted_code = \"tf.__version__\";\n",
       "                var nbb_formatted_code = \"tf.__version__\";\n",
       "                var nbb_cells = Jupyter.notebook.get_cells();\n",
       "                for (var i = 0; i < nbb_cells.length; ++i) {\n",
       "                    if (nbb_cells[i].input_prompt_number == nbb_cell_id) {\n",
       "                        if (nbb_cells[i].get_text() == nbb_unformatted_code) {\n",
       "                             nbb_cells[i].set_text(nbb_formatted_code);\n",
       "                        }\n",
       "                        break;\n",
       "                    }\n",
       "                }\n",
       "            }, 500);\n",
       "            "
      ],
      "text/plain": [
       "<IPython.core.display.Javascript object>"
      ]
     },
     "metadata": {},
     "output_type": "display_data"
    }
   ],
   "source": [
    "tf.__version__"
   ]
  },
  {
   "cell_type": "code",
   "execution_count": 3,
   "metadata": {},
   "outputs": [
    {
     "name": "stdout",
     "output_type": "stream",
     "text": [
      "WARNING:tensorflow:From <ipython-input-3-17bb7203622b>:1: is_gpu_available (from tensorflow.python.framework.test_util) is deprecated and will be removed in a future version.\n",
      "Instructions for updating:\n",
      "Use `tf.config.list_physical_devices('GPU')` instead.\n"
     ]
    },
    {
     "data": {
      "text/plain": [
       "False"
      ]
     },
     "execution_count": 3,
     "metadata": {},
     "output_type": "execute_result"
    },
    {
     "data": {
      "application/javascript": [
       "\n",
       "            setTimeout(function() {\n",
       "                var nbb_cell_id = 3;\n",
       "                var nbb_unformatted_code = \"tf.test.is_gpu_available()\";\n",
       "                var nbb_formatted_code = \"tf.test.is_gpu_available()\";\n",
       "                var nbb_cells = Jupyter.notebook.get_cells();\n",
       "                for (var i = 0; i < nbb_cells.length; ++i) {\n",
       "                    if (nbb_cells[i].input_prompt_number == nbb_cell_id) {\n",
       "                        if (nbb_cells[i].get_text() == nbb_unformatted_code) {\n",
       "                             nbb_cells[i].set_text(nbb_formatted_code);\n",
       "                        }\n",
       "                        break;\n",
       "                    }\n",
       "                }\n",
       "            }, 500);\n",
       "            "
      ],
      "text/plain": [
       "<IPython.core.display.Javascript object>"
      ]
     },
     "metadata": {},
     "output_type": "display_data"
    }
   ],
   "source": [
    "tf.test.is_gpu_available()"
   ]
  },
  {
   "cell_type": "code",
   "execution_count": 4,
   "metadata": {},
   "outputs": [
    {
     "data": {
      "application/javascript": [
       "\n",
       "            setTimeout(function() {\n",
       "                var nbb_cell_id = 4;\n",
       "                var nbb_unformatted_code = \"(x_train, y_train), (x_test, y_test) = fashion_mnist.load_data()\";\n",
       "                var nbb_formatted_code = \"(x_train, y_train), (x_test, y_test) = fashion_mnist.load_data()\";\n",
       "                var nbb_cells = Jupyter.notebook.get_cells();\n",
       "                for (var i = 0; i < nbb_cells.length; ++i) {\n",
       "                    if (nbb_cells[i].input_prompt_number == nbb_cell_id) {\n",
       "                        if (nbb_cells[i].get_text() == nbb_unformatted_code) {\n",
       "                             nbb_cells[i].set_text(nbb_formatted_code);\n",
       "                        }\n",
       "                        break;\n",
       "                    }\n",
       "                }\n",
       "            }, 500);\n",
       "            "
      ],
      "text/plain": [
       "<IPython.core.display.Javascript object>"
      ]
     },
     "metadata": {},
     "output_type": "display_data"
    }
   ],
   "source": [
    "(x_train, y_train), (x_test, y_test) = fashion_mnist.load_data()"
   ]
  },
  {
   "cell_type": "code",
   "execution_count": 5,
   "metadata": {},
   "outputs": [
    {
     "data": {
      "application/javascript": [
       "\n",
       "            setTimeout(function() {\n",
       "                var nbb_cell_id = 5;\n",
       "                var nbb_unformatted_code = \"x_train = x_train / 255.0\\nx_test = x_test / 255.0\";\n",
       "                var nbb_formatted_code = \"x_train = x_train / 255.0\\nx_test = x_test / 255.0\";\n",
       "                var nbb_cells = Jupyter.notebook.get_cells();\n",
       "                for (var i = 0; i < nbb_cells.length; ++i) {\n",
       "                    if (nbb_cells[i].input_prompt_number == nbb_cell_id) {\n",
       "                        if (nbb_cells[i].get_text() == nbb_unformatted_code) {\n",
       "                             nbb_cells[i].set_text(nbb_formatted_code);\n",
       "                        }\n",
       "                        break;\n",
       "                    }\n",
       "                }\n",
       "            }, 500);\n",
       "            "
      ],
      "text/plain": [
       "<IPython.core.display.Javascript object>"
      ]
     },
     "metadata": {},
     "output_type": "display_data"
    }
   ],
   "source": [
    "x_train = x_train / 255.0\n",
    "x_test = x_test / 255.0"
   ]
  },
  {
   "cell_type": "code",
   "execution_count": 6,
   "metadata": {},
   "outputs": [
    {
     "data": {
      "application/javascript": [
       "\n",
       "            setTimeout(function() {\n",
       "                var nbb_cell_id = 6;\n",
       "                var nbb_unformatted_code = \"class_names = [\\n    \\\"T-shirt/top\\\",\\n    \\\"Trouser\\\",\\n    \\\"Pullover\\\",\\n    \\\"Dress\\\",\\n    \\\"Coat\\\",\\n    \\\"Sandal\\\",\\n    \\\"Shirt\\\",\\n    \\\"Sneaker\\\",\\n    \\\"Bag\\\",\\n    \\\"Ankle boot\\\",\\n]\\n\\n\\ndef to_label(index: int) -> str:\\n\\n    return class_names[index]\";\n",
       "                var nbb_formatted_code = \"class_names = [\\n    \\\"T-shirt/top\\\",\\n    \\\"Trouser\\\",\\n    \\\"Pullover\\\",\\n    \\\"Dress\\\",\\n    \\\"Coat\\\",\\n    \\\"Sandal\\\",\\n    \\\"Shirt\\\",\\n    \\\"Sneaker\\\",\\n    \\\"Bag\\\",\\n    \\\"Ankle boot\\\",\\n]\\n\\n\\ndef to_label(index: int) -> str:\\n\\n    return class_names[index]\";\n",
       "                var nbb_cells = Jupyter.notebook.get_cells();\n",
       "                for (var i = 0; i < nbb_cells.length; ++i) {\n",
       "                    if (nbb_cells[i].input_prompt_number == nbb_cell_id) {\n",
       "                        if (nbb_cells[i].get_text() == nbb_unformatted_code) {\n",
       "                             nbb_cells[i].set_text(nbb_formatted_code);\n",
       "                        }\n",
       "                        break;\n",
       "                    }\n",
       "                }\n",
       "            }, 500);\n",
       "            "
      ],
      "text/plain": [
       "<IPython.core.display.Javascript object>"
      ]
     },
     "metadata": {},
     "output_type": "display_data"
    }
   ],
   "source": [
    "class_names = [\n",
    "    \"T-shirt/top\",\n",
    "    \"Trouser\",\n",
    "    \"Pullover\",\n",
    "    \"Dress\",\n",
    "    \"Coat\",\n",
    "    \"Sandal\",\n",
    "    \"Shirt\",\n",
    "    \"Sneaker\",\n",
    "    \"Bag\",\n",
    "    \"Ankle boot\",\n",
    "]\n",
    "\n",
    "\n",
    "def to_label(index: int) -> str:\n",
    "\n",
    "    return class_names[index]"
   ]
  },
  {
   "cell_type": "code",
   "execution_count": 7,
   "metadata": {},
   "outputs": [
    {
     "data": {
      "application/javascript": [
       "\n",
       "            setTimeout(function() {\n",
       "                var nbb_cell_id = 7;\n",
       "                var nbb_unformatted_code = \"def plot_confusion_matrix(\\n    cm, classes, normalize=False, title=\\\"Confusion matrix\\\", cmap=plt.cm.Blues\\n):\\n\\n    plt.figure(figsize=(20, 10))\\n    plt.imshow(cm, interpolation=\\\"nearest\\\", cmap=cmap)\\n    plt.title(title)\\n    plt.colorbar()\\n    tick_marks = np.arange(len(classes))\\n    plt.xticks(tick_marks, classes, rotation=90)\\n    plt.yticks(tick_marks, classes)\\n\\n    if normalize:\\n        cm = cm.astype(\\\"float\\\") / cm.sum(axis=1)[:, np.newaxis]\\n\\n    thresh = cm.max() / 2.0\\n    for i, j in itertools.product(range(cm.shape[0]), range(cm.shape[1])):\\n        plt.text(\\n            j,\\n            i,\\n            cm[i, j],\\n            horizontalalignment=\\\"center\\\",\\n            color=\\\"white\\\" if cm[i, j] > thresh else \\\"black\\\",\\n        )\\n\\n    plt.tight_layout()\\n    plt.ylabel(\\\"True label\\\")\\n    plt.xlabel(\\\"Predicted label\\\")\";\n",
       "                var nbb_formatted_code = \"def plot_confusion_matrix(\\n    cm, classes, normalize=False, title=\\\"Confusion matrix\\\", cmap=plt.cm.Blues\\n):\\n\\n    plt.figure(figsize=(20, 10))\\n    plt.imshow(cm, interpolation=\\\"nearest\\\", cmap=cmap)\\n    plt.title(title)\\n    plt.colorbar()\\n    tick_marks = np.arange(len(classes))\\n    plt.xticks(tick_marks, classes, rotation=90)\\n    plt.yticks(tick_marks, classes)\\n\\n    if normalize:\\n        cm = cm.astype(\\\"float\\\") / cm.sum(axis=1)[:, np.newaxis]\\n\\n    thresh = cm.max() / 2.0\\n    for i, j in itertools.product(range(cm.shape[0]), range(cm.shape[1])):\\n        plt.text(\\n            j,\\n            i,\\n            cm[i, j],\\n            horizontalalignment=\\\"center\\\",\\n            color=\\\"white\\\" if cm[i, j] > thresh else \\\"black\\\",\\n        )\\n\\n    plt.tight_layout()\\n    plt.ylabel(\\\"True label\\\")\\n    plt.xlabel(\\\"Predicted label\\\")\";\n",
       "                var nbb_cells = Jupyter.notebook.get_cells();\n",
       "                for (var i = 0; i < nbb_cells.length; ++i) {\n",
       "                    if (nbb_cells[i].input_prompt_number == nbb_cell_id) {\n",
       "                        if (nbb_cells[i].get_text() == nbb_unformatted_code) {\n",
       "                             nbb_cells[i].set_text(nbb_formatted_code);\n",
       "                        }\n",
       "                        break;\n",
       "                    }\n",
       "                }\n",
       "            }, 500);\n",
       "            "
      ],
      "text/plain": [
       "<IPython.core.display.Javascript object>"
      ]
     },
     "metadata": {},
     "output_type": "display_data"
    }
   ],
   "source": [
    "def plot_confusion_matrix(\n",
    "    cm, classes, normalize=False, title=\"Confusion matrix\", cmap=plt.cm.Blues\n",
    "):\n",
    "\n",
    "    plt.figure(figsize=(20, 10))\n",
    "    plt.imshow(cm, interpolation=\"nearest\", cmap=cmap)\n",
    "    plt.title(title)\n",
    "    plt.colorbar()\n",
    "    tick_marks = np.arange(len(classes))\n",
    "    plt.xticks(tick_marks, classes, rotation=90)\n",
    "    plt.yticks(tick_marks, classes)\n",
    "\n",
    "    if normalize:\n",
    "        cm = cm.astype(\"float\") / cm.sum(axis=1)[:, np.newaxis]\n",
    "\n",
    "    thresh = cm.max() / 2.0\n",
    "    for i, j in itertools.product(range(cm.shape[0]), range(cm.shape[1])):\n",
    "        plt.text(\n",
    "            j,\n",
    "            i,\n",
    "            cm[i, j],\n",
    "            horizontalalignment=\"center\",\n",
    "            color=\"white\" if cm[i, j] > thresh else \"black\",\n",
    "        )\n",
    "\n",
    "    plt.tight_layout()\n",
    "    plt.ylabel(\"True label\")\n",
    "    plt.xlabel(\"Predicted label\")"
   ]
  },
  {
   "cell_type": "markdown",
   "metadata": {},
   "source": [
    "## Simple NN Model"
   ]
  },
  {
   "cell_type": "code",
   "execution_count": 8,
   "metadata": {},
   "outputs": [
    {
     "data": {
      "application/javascript": [
       "\n",
       "            setTimeout(function() {\n",
       "                var nbb_cell_id = 8;\n",
       "                var nbb_unformatted_code = \"def create_simple_model() -> keras.models.Model():\\n\\n    model = keras.Sequential()\\n\\n    model.add(keras.layers.Flatten())\\n    model.add(keras.layers.Dense(units=512, activation=\\\"relu\\\"))\\n    model.add(keras.layers.Dense(units=256, activation=\\\"relu\\\"))\\n\\n    model.add(keras.layers.Dense(units=len(class_names), activation=\\\"softmax\\\"))\\n\\n    model.compile(\\n        optimizer=\\\"adam\\\", loss=\\\"sparse_categorical_crossentropy\\\", metrics=[\\\"accuracy\\\"]\\n    )\\n\\n    return model\";\n",
       "                var nbb_formatted_code = \"def create_simple_model() -> keras.models.Model():\\n\\n    model = keras.Sequential()\\n\\n    model.add(keras.layers.Flatten())\\n    model.add(keras.layers.Dense(units=512, activation=\\\"relu\\\"))\\n    model.add(keras.layers.Dense(units=256, activation=\\\"relu\\\"))\\n\\n    model.add(keras.layers.Dense(units=len(class_names), activation=\\\"softmax\\\"))\\n\\n    model.compile(\\n        optimizer=\\\"adam\\\", loss=\\\"sparse_categorical_crossentropy\\\", metrics=[\\\"accuracy\\\"]\\n    )\\n\\n    return model\";\n",
       "                var nbb_cells = Jupyter.notebook.get_cells();\n",
       "                for (var i = 0; i < nbb_cells.length; ++i) {\n",
       "                    if (nbb_cells[i].input_prompt_number == nbb_cell_id) {\n",
       "                        if (nbb_cells[i].get_text() == nbb_unformatted_code) {\n",
       "                             nbb_cells[i].set_text(nbb_formatted_code);\n",
       "                        }\n",
       "                        break;\n",
       "                    }\n",
       "                }\n",
       "            }, 500);\n",
       "            "
      ],
      "text/plain": [
       "<IPython.core.display.Javascript object>"
      ]
     },
     "metadata": {},
     "output_type": "display_data"
    }
   ],
   "source": [
    "def create_simple_model() -> keras.models.Model():\n",
    "\n",
    "    model = keras.Sequential()\n",
    "\n",
    "    model.add(keras.layers.Flatten())\n",
    "    model.add(keras.layers.Dense(units=512, activation=\"relu\"))\n",
    "    model.add(keras.layers.Dense(units=256, activation=\"relu\"))\n",
    "\n",
    "    model.add(keras.layers.Dense(units=len(class_names), activation=\"softmax\"))\n",
    "\n",
    "    model.compile(\n",
    "        optimizer=\"adam\", loss=\"sparse_categorical_crossentropy\", metrics=[\"accuracy\"]\n",
    "    )\n",
    "\n",
    "    return model"
   ]
  },
  {
   "cell_type": "code",
   "execution_count": 9,
   "metadata": {},
   "outputs": [
    {
     "data": {
      "application/javascript": [
       "\n",
       "            setTimeout(function() {\n",
       "                var nbb_cell_id = 9;\n",
       "                var nbb_unformatted_code = \"simple_model = create_simple_model()\";\n",
       "                var nbb_formatted_code = \"simple_model = create_simple_model()\";\n",
       "                var nbb_cells = Jupyter.notebook.get_cells();\n",
       "                for (var i = 0; i < nbb_cells.length; ++i) {\n",
       "                    if (nbb_cells[i].input_prompt_number == nbb_cell_id) {\n",
       "                        if (nbb_cells[i].get_text() == nbb_unformatted_code) {\n",
       "                             nbb_cells[i].set_text(nbb_formatted_code);\n",
       "                        }\n",
       "                        break;\n",
       "                    }\n",
       "                }\n",
       "            }, 500);\n",
       "            "
      ],
      "text/plain": [
       "<IPython.core.display.Javascript object>"
      ]
     },
     "metadata": {},
     "output_type": "display_data"
    }
   ],
   "source": [
    "simple_model = create_simple_model()"
   ]
  },
  {
   "cell_type": "code",
   "execution_count": 10,
   "metadata": {},
   "outputs": [
    {
     "data": {
      "application/javascript": [
       "\n",
       "            setTimeout(function() {\n",
       "                var nbb_cell_id = 10;\n",
       "                var nbb_unformatted_code = \"early_stopping = keras.callbacks.EarlyStopping(\\n    monitor=\\\"val_accuracy\\\", min_delta=0.01, patience=4, verbose=2\\n)\";\n",
       "                var nbb_formatted_code = \"early_stopping = keras.callbacks.EarlyStopping(\\n    monitor=\\\"val_accuracy\\\", min_delta=0.01, patience=4, verbose=2\\n)\";\n",
       "                var nbb_cells = Jupyter.notebook.get_cells();\n",
       "                for (var i = 0; i < nbb_cells.length; ++i) {\n",
       "                    if (nbb_cells[i].input_prompt_number == nbb_cell_id) {\n",
       "                        if (nbb_cells[i].get_text() == nbb_unformatted_code) {\n",
       "                             nbb_cells[i].set_text(nbb_formatted_code);\n",
       "                        }\n",
       "                        break;\n",
       "                    }\n",
       "                }\n",
       "            }, 500);\n",
       "            "
      ],
      "text/plain": [
       "<IPython.core.display.Javascript object>"
      ]
     },
     "metadata": {},
     "output_type": "display_data"
    }
   ],
   "source": [
    "early_stopping = keras.callbacks.EarlyStopping(\n",
    "    monitor=\"val_accuracy\", min_delta=0.01, patience=4, verbose=2\n",
    ")"
   ]
  },
  {
   "cell_type": "code",
   "execution_count": 11,
   "metadata": {},
   "outputs": [
    {
     "name": "stdout",
     "output_type": "stream",
     "text": [
      "Train on 54000 samples, validate on 6000 samples\n",
      "Epoch 1/50\n",
      "54000/54000 [==============================] - 4s 68us/sample - loss: 0.4746 - accuracy: 0.8271 - val_loss: 0.3735 - val_accuracy: 0.8642\n",
      "Epoch 2/50\n",
      "54000/54000 [==============================] - 3s 65us/sample - loss: 0.3594 - accuracy: 0.8663 - val_loss: 0.3594 - val_accuracy: 0.8725\n",
      "Epoch 3/50\n",
      "54000/54000 [==============================] - 4s 66us/sample - loss: 0.3228 - accuracy: 0.8816 - val_loss: 0.3703 - val_accuracy: 0.8632\n",
      "Epoch 4/50\n",
      "54000/54000 [==============================] - 4s 67us/sample - loss: 0.3000 - accuracy: 0.8882 - val_loss: 0.3293 - val_accuracy: 0.8805\n",
      "Epoch 5/50\n",
      "54000/54000 [==============================] - 4s 69us/sample - loss: 0.2803 - accuracy: 0.8949 - val_loss: 0.3218 - val_accuracy: 0.8868\n",
      "Epoch 6/50\n",
      "54000/54000 [==============================] - 4s 69us/sample - loss: 0.2652 - accuracy: 0.9013 - val_loss: 0.3413 - val_accuracy: 0.8808\n",
      "Epoch 7/50\n",
      "54000/54000 [==============================] - 4s 70us/sample - loss: 0.2529 - accuracy: 0.9041 - val_loss: 0.3223 - val_accuracy: 0.8820\n",
      "Epoch 8/50\n",
      "54000/54000 [==============================] - 4s 73us/sample - loss: 0.2392 - accuracy: 0.9090 - val_loss: 0.3490 - val_accuracy: 0.8810\n",
      "Epoch 00008: early stopping\n"
     ]
    },
    {
     "data": {
      "text/plain": [
       "<tensorflow.python.keras.callbacks.History at 0x7f80ae3eae10>"
      ]
     },
     "execution_count": 11,
     "metadata": {},
     "output_type": "execute_result"
    },
    {
     "data": {
      "application/javascript": [
       "\n",
       "            setTimeout(function() {\n",
       "                var nbb_cell_id = 11;\n",
       "                var nbb_unformatted_code = \"simple_model.fit(\\n    x_train, y_train, epochs=50, validation_split=0.1, callbacks=[early_stopping]\\n)\";\n",
       "                var nbb_formatted_code = \"simple_model.fit(\\n    x_train, y_train, epochs=50, validation_split=0.1, callbacks=[early_stopping]\\n)\";\n",
       "                var nbb_cells = Jupyter.notebook.get_cells();\n",
       "                for (var i = 0; i < nbb_cells.length; ++i) {\n",
       "                    if (nbb_cells[i].input_prompt_number == nbb_cell_id) {\n",
       "                        if (nbb_cells[i].get_text() == nbb_unformatted_code) {\n",
       "                             nbb_cells[i].set_text(nbb_formatted_code);\n",
       "                        }\n",
       "                        break;\n",
       "                    }\n",
       "                }\n",
       "            }, 500);\n",
       "            "
      ],
      "text/plain": [
       "<IPython.core.display.Javascript object>"
      ]
     },
     "metadata": {},
     "output_type": "display_data"
    }
   ],
   "source": [
    "simple_model.fit(\n",
    "    x_train, y_train, epochs=50, validation_split=0.1, callbacks=[early_stopping]\n",
    ")"
   ]
  },
  {
   "cell_type": "code",
   "execution_count": 12,
   "metadata": {},
   "outputs": [
    {
     "data": {
      "text/plain": [
       "[0.35713873847723004, 0.8798]"
      ]
     },
     "execution_count": 12,
     "metadata": {},
     "output_type": "execute_result"
    },
    {
     "data": {
      "application/javascript": [
       "\n",
       "            setTimeout(function() {\n",
       "                var nbb_cell_id = 12;\n",
       "                var nbb_unformatted_code = \"simple_model.evaluate(x_test, y_test, verbose=0)\";\n",
       "                var nbb_formatted_code = \"simple_model.evaluate(x_test, y_test, verbose=0)\";\n",
       "                var nbb_cells = Jupyter.notebook.get_cells();\n",
       "                for (var i = 0; i < nbb_cells.length; ++i) {\n",
       "                    if (nbb_cells[i].input_prompt_number == nbb_cell_id) {\n",
       "                        if (nbb_cells[i].get_text() == nbb_unformatted_code) {\n",
       "                             nbb_cells[i].set_text(nbb_formatted_code);\n",
       "                        }\n",
       "                        break;\n",
       "                    }\n",
       "                }\n",
       "            }, 500);\n",
       "            "
      ],
      "text/plain": [
       "<IPython.core.display.Javascript object>"
      ]
     },
     "metadata": {},
     "output_type": "display_data"
    }
   ],
   "source": [
    "simple_model.evaluate(x_test, y_test, verbose=0)"
   ]
  },
  {
   "cell_type": "markdown",
   "metadata": {},
   "source": [
    "## Convolution Model"
   ]
  },
  {
   "cell_type": "code",
   "execution_count": 13,
   "metadata": {},
   "outputs": [
    {
     "data": {
      "application/javascript": [
       "\n",
       "            setTimeout(function() {\n",
       "                var nbb_cell_id = 13;\n",
       "                var nbb_unformatted_code = \"def create_convolution_model() -> keras.models.Model():\\n\\n    model = keras.Sequential()\\n\\n    model.add(\\n        keras.layers.Conv2D(\\n            filters=128, kernel_size=(3, 3), activation=\\\"relu\\\", input_shape=(28, 28, 1)\\n        )\\n    )\\n    model.add(keras.layers.MaxPool2D(pool_size=(2, 2)))\\n\\n    model.add(keras.layers.Conv2D(filters=64, kernel_size=(3, 3), activation=\\\"relu\\\"))\\n    model.add(keras.layers.MaxPool2D(pool_size=(2, 2)))\\n\\n    model.add(keras.layers.Flatten())\\n\\n    model.add(keras.layers.Dense(units=512, activation=\\\"relu\\\"))\\n    model.add(keras.layers.Dense(units=256, activation=\\\"relu\\\"))\\n\\n    model.add(keras.layers.Dense(units=len(class_names), activation=\\\"softmax\\\"))\\n\\n    model.compile(\\n        optimizer=\\\"adam\\\", loss=\\\"sparse_categorical_crossentropy\\\", metrics=[\\\"accuracy\\\"]\\n    )\\n\\n    return model\";\n",
       "                var nbb_formatted_code = \"def create_convolution_model() -> keras.models.Model():\\n\\n    model = keras.Sequential()\\n\\n    model.add(\\n        keras.layers.Conv2D(\\n            filters=128, kernel_size=(3, 3), activation=\\\"relu\\\", input_shape=(28, 28, 1)\\n        )\\n    )\\n    model.add(keras.layers.MaxPool2D(pool_size=(2, 2)))\\n\\n    model.add(keras.layers.Conv2D(filters=64, kernel_size=(3, 3), activation=\\\"relu\\\"))\\n    model.add(keras.layers.MaxPool2D(pool_size=(2, 2)))\\n\\n    model.add(keras.layers.Flatten())\\n\\n    model.add(keras.layers.Dense(units=512, activation=\\\"relu\\\"))\\n    model.add(keras.layers.Dense(units=256, activation=\\\"relu\\\"))\\n\\n    model.add(keras.layers.Dense(units=len(class_names), activation=\\\"softmax\\\"))\\n\\n    model.compile(\\n        optimizer=\\\"adam\\\", loss=\\\"sparse_categorical_crossentropy\\\", metrics=[\\\"accuracy\\\"]\\n    )\\n\\n    return model\";\n",
       "                var nbb_cells = Jupyter.notebook.get_cells();\n",
       "                for (var i = 0; i < nbb_cells.length; ++i) {\n",
       "                    if (nbb_cells[i].input_prompt_number == nbb_cell_id) {\n",
       "                        if (nbb_cells[i].get_text() == nbb_unformatted_code) {\n",
       "                             nbb_cells[i].set_text(nbb_formatted_code);\n",
       "                        }\n",
       "                        break;\n",
       "                    }\n",
       "                }\n",
       "            }, 500);\n",
       "            "
      ],
      "text/plain": [
       "<IPython.core.display.Javascript object>"
      ]
     },
     "metadata": {},
     "output_type": "display_data"
    }
   ],
   "source": [
    "def create_convolution_model() -> keras.models.Model():\n",
    "\n",
    "    model = keras.Sequential()\n",
    "\n",
    "    model.add(\n",
    "        keras.layers.Conv2D(\n",
    "            filters=128, kernel_size=(3, 3), activation=\"relu\", input_shape=(28, 28, 1)\n",
    "        )\n",
    "    )\n",
    "    model.add(keras.layers.MaxPool2D(pool_size=(2, 2)))\n",
    "\n",
    "    model.add(keras.layers.Conv2D(filters=64, kernel_size=(3, 3), activation=\"relu\"))\n",
    "    model.add(keras.layers.MaxPool2D(pool_size=(2, 2)))\n",
    "\n",
    "    model.add(keras.layers.Flatten())\n",
    "\n",
    "    model.add(keras.layers.Dense(units=512, activation=\"relu\"))\n",
    "    model.add(keras.layers.Dense(units=256, activation=\"relu\"))\n",
    "\n",
    "    model.add(keras.layers.Dense(units=len(class_names), activation=\"softmax\"))\n",
    "\n",
    "    model.compile(\n",
    "        optimizer=\"adam\", loss=\"sparse_categorical_crossentropy\", metrics=[\"accuracy\"]\n",
    "    )\n",
    "\n",
    "    return model"
   ]
  },
  {
   "cell_type": "code",
   "execution_count": 14,
   "metadata": {},
   "outputs": [
    {
     "data": {
      "application/javascript": [
       "\n",
       "            setTimeout(function() {\n",
       "                var nbb_cell_id = 14;\n",
       "                var nbb_unformatted_code = \"conv_model = create_convolution_model()\";\n",
       "                var nbb_formatted_code = \"conv_model = create_convolution_model()\";\n",
       "                var nbb_cells = Jupyter.notebook.get_cells();\n",
       "                for (var i = 0; i < nbb_cells.length; ++i) {\n",
       "                    if (nbb_cells[i].input_prompt_number == nbb_cell_id) {\n",
       "                        if (nbb_cells[i].get_text() == nbb_unformatted_code) {\n",
       "                             nbb_cells[i].set_text(nbb_formatted_code);\n",
       "                        }\n",
       "                        break;\n",
       "                    }\n",
       "                }\n",
       "            }, 500);\n",
       "            "
      ],
      "text/plain": [
       "<IPython.core.display.Javascript object>"
      ]
     },
     "metadata": {},
     "output_type": "display_data"
    }
   ],
   "source": [
    "conv_model = create_convolution_model()"
   ]
  },
  {
   "cell_type": "code",
   "execution_count": 15,
   "metadata": {},
   "outputs": [
    {
     "name": "stdout",
     "output_type": "stream",
     "text": [
      "Model: \"sequential_1\"\n",
      "_________________________________________________________________\n",
      "Layer (type)                 Output Shape              Param #   \n",
      "=================================================================\n",
      "conv2d (Conv2D)              (None, 26, 26, 128)       1280      \n",
      "_________________________________________________________________\n",
      "max_pooling2d (MaxPooling2D) (None, 13, 13, 128)       0         \n",
      "_________________________________________________________________\n",
      "conv2d_1 (Conv2D)            (None, 11, 11, 64)        73792     \n",
      "_________________________________________________________________\n",
      "max_pooling2d_1 (MaxPooling2 (None, 5, 5, 64)          0         \n",
      "_________________________________________________________________\n",
      "flatten_1 (Flatten)          (None, 1600)              0         \n",
      "_________________________________________________________________\n",
      "dense_3 (Dense)              (None, 512)               819712    \n",
      "_________________________________________________________________\n",
      "dense_4 (Dense)              (None, 256)               131328    \n",
      "_________________________________________________________________\n",
      "dense_5 (Dense)              (None, 10)                2570      \n",
      "=================================================================\n",
      "Total params: 1,028,682\n",
      "Trainable params: 1,028,682\n",
      "Non-trainable params: 0\n",
      "_________________________________________________________________\n"
     ]
    },
    {
     "data": {
      "application/javascript": [
       "\n",
       "            setTimeout(function() {\n",
       "                var nbb_cell_id = 15;\n",
       "                var nbb_unformatted_code = \"conv_model.summary()\";\n",
       "                var nbb_formatted_code = \"conv_model.summary()\";\n",
       "                var nbb_cells = Jupyter.notebook.get_cells();\n",
       "                for (var i = 0; i < nbb_cells.length; ++i) {\n",
       "                    if (nbb_cells[i].input_prompt_number == nbb_cell_id) {\n",
       "                        if (nbb_cells[i].get_text() == nbb_unformatted_code) {\n",
       "                             nbb_cells[i].set_text(nbb_formatted_code);\n",
       "                        }\n",
       "                        break;\n",
       "                    }\n",
       "                }\n",
       "            }, 500);\n",
       "            "
      ],
      "text/plain": [
       "<IPython.core.display.Javascript object>"
      ]
     },
     "metadata": {},
     "output_type": "display_data"
    }
   ],
   "source": [
    "conv_model.summary()"
   ]
  },
  {
   "cell_type": "code",
   "execution_count": 16,
   "metadata": {},
   "outputs": [
    {
     "data": {
      "application/javascript": [
       "\n",
       "            setTimeout(function() {\n",
       "                var nbb_cell_id = 16;\n",
       "                var nbb_unformatted_code = \"x_conv_train = x_train.reshape(x_train.shape[0], x_train.shape[1], x_train.shape[2], 1)\";\n",
       "                var nbb_formatted_code = \"x_conv_train = x_train.reshape(x_train.shape[0], x_train.shape[1], x_train.shape[2], 1)\";\n",
       "                var nbb_cells = Jupyter.notebook.get_cells();\n",
       "                for (var i = 0; i < nbb_cells.length; ++i) {\n",
       "                    if (nbb_cells[i].input_prompt_number == nbb_cell_id) {\n",
       "                        if (nbb_cells[i].get_text() == nbb_unformatted_code) {\n",
       "                             nbb_cells[i].set_text(nbb_formatted_code);\n",
       "                        }\n",
       "                        break;\n",
       "                    }\n",
       "                }\n",
       "            }, 500);\n",
       "            "
      ],
      "text/plain": [
       "<IPython.core.display.Javascript object>"
      ]
     },
     "metadata": {},
     "output_type": "display_data"
    }
   ],
   "source": [
    "x_conv_train = x_train.reshape(x_train.shape[0], x_train.shape[1], x_train.shape[2], 1)"
   ]
  },
  {
   "cell_type": "code",
   "execution_count": 17,
   "metadata": {},
   "outputs": [
    {
     "name": "stdout",
     "output_type": "stream",
     "text": [
      "Train on 54000 samples, validate on 6000 samples\n",
      "Epoch 1/50\n",
      "54000/54000 [==============================] - 34s 626us/sample - loss: 0.5048 - accuracy: 0.8169 - val_loss: 0.3451 - val_accuracy: 0.8757\n",
      "Epoch 2/50\n",
      "54000/54000 [==============================] - 36s 664us/sample - loss: 0.3106 - accuracy: 0.8862 - val_loss: 0.2877 - val_accuracy: 0.8990\n",
      "Epoch 3/50\n",
      "54000/54000 [==============================] - 35s 647us/sample - loss: 0.2652 - accuracy: 0.9021 - val_loss: 0.2626 - val_accuracy: 0.9035\n",
      "Epoch 4/50\n",
      "54000/54000 [==============================] - 37s 692us/sample - loss: 0.2302 - accuracy: 0.9134 - val_loss: 0.2553 - val_accuracy: 0.9058\n",
      "Epoch 5/50\n",
      "54000/54000 [==============================] - 37s 690us/sample - loss: 0.2047 - accuracy: 0.9239 - val_loss: 0.2407 - val_accuracy: 0.9147\n",
      "Epoch 6/50\n",
      "54000/54000 [==============================] - 34s 627us/sample - loss: 0.1799 - accuracy: 0.9325 - val_loss: 0.2584 - val_accuracy: 0.9073\n",
      "Epoch 7/50\n",
      "54000/54000 [==============================] - 35s 645us/sample - loss: 0.1581 - accuracy: 0.9414 - val_loss: 0.2481 - val_accuracy: 0.9107\n",
      "Epoch 8/50\n",
      "54000/54000 [==============================] - 35s 649us/sample - loss: 0.1397 - accuracy: 0.9473 - val_loss: 0.2504 - val_accuracy: 0.9157\n",
      "Epoch 9/50\n",
      "54000/54000 [==============================] - 37s 678us/sample - loss: 0.1198 - accuracy: 0.9550 - val_loss: 0.2600 - val_accuracy: 0.9150\n",
      "Epoch 00009: early stopping\n"
     ]
    },
    {
     "data": {
      "text/plain": [
       "<tensorflow.python.keras.callbacks.History at 0x7f80ae459690>"
      ]
     },
     "execution_count": 17,
     "metadata": {},
     "output_type": "execute_result"
    },
    {
     "data": {
      "application/javascript": [
       "\n",
       "            setTimeout(function() {\n",
       "                var nbb_cell_id = 17;\n",
       "                var nbb_unformatted_code = \"conv_model.fit(\\n    x_conv_train,\\n    y_train,\\n    epochs=50,\\n    validation_split=0.1,\\n    callbacks=[early_stopping],\\n    batch_size=128,\\n)\";\n",
       "                var nbb_formatted_code = \"conv_model.fit(\\n    x_conv_train,\\n    y_train,\\n    epochs=50,\\n    validation_split=0.1,\\n    callbacks=[early_stopping],\\n    batch_size=128,\\n)\";\n",
       "                var nbb_cells = Jupyter.notebook.get_cells();\n",
       "                for (var i = 0; i < nbb_cells.length; ++i) {\n",
       "                    if (nbb_cells[i].input_prompt_number == nbb_cell_id) {\n",
       "                        if (nbb_cells[i].get_text() == nbb_unformatted_code) {\n",
       "                             nbb_cells[i].set_text(nbb_formatted_code);\n",
       "                        }\n",
       "                        break;\n",
       "                    }\n",
       "                }\n",
       "            }, 500);\n",
       "            "
      ],
      "text/plain": [
       "<IPython.core.display.Javascript object>"
      ]
     },
     "metadata": {},
     "output_type": "display_data"
    }
   ],
   "source": [
    "conv_model.fit(\n",
    "    x_conv_train,\n",
    "    y_train,\n",
    "    epochs=50,\n",
    "    validation_split=0.1,\n",
    "    callbacks=[early_stopping],\n",
    "    batch_size=128,\n",
    ")"
   ]
  },
  {
   "cell_type": "code",
   "execution_count": 30,
   "metadata": {},
   "outputs": [
    {
     "data": {
      "application/javascript": [
       "\n",
       "            setTimeout(function() {\n",
       "                var nbb_cell_id = 30;\n",
       "                var nbb_unformatted_code = \"x_conv_test = x_test.reshape(x_test.shape[0], x_test.shape[1], x_test.shape[2], 1)\";\n",
       "                var nbb_formatted_code = \"x_conv_test = x_test.reshape(x_test.shape[0], x_test.shape[1], x_test.shape[2], 1)\";\n",
       "                var nbb_cells = Jupyter.notebook.get_cells();\n",
       "                for (var i = 0; i < nbb_cells.length; ++i) {\n",
       "                    if (nbb_cells[i].input_prompt_number == nbb_cell_id) {\n",
       "                        if (nbb_cells[i].get_text() == nbb_unformatted_code) {\n",
       "                             nbb_cells[i].set_text(nbb_formatted_code);\n",
       "                        }\n",
       "                        break;\n",
       "                    }\n",
       "                }\n",
       "            }, 500);\n",
       "            "
      ],
      "text/plain": [
       "<IPython.core.display.Javascript object>"
      ]
     },
     "metadata": {},
     "output_type": "display_data"
    }
   ],
   "source": [
    "x_conv_test = x_test.reshape(x_test.shape[0], x_test.shape[1], x_test.shape[2], 1)"
   ]
  },
  {
   "cell_type": "code",
   "execution_count": 31,
   "metadata": {},
   "outputs": [
    {
     "data": {
      "text/plain": [
       "[0.28416601256132124, 0.9106]"
      ]
     },
     "execution_count": 31,
     "metadata": {},
     "output_type": "execute_result"
    },
    {
     "data": {
      "application/javascript": [
       "\n",
       "            setTimeout(function() {\n",
       "                var nbb_cell_id = 31;\n",
       "                var nbb_unformatted_code = \"conv_model.evaluate(x_conv_test, y_test, verbose=0)\";\n",
       "                var nbb_formatted_code = \"conv_model.evaluate(x_conv_test, y_test, verbose=0)\";\n",
       "                var nbb_cells = Jupyter.notebook.get_cells();\n",
       "                for (var i = 0; i < nbb_cells.length; ++i) {\n",
       "                    if (nbb_cells[i].input_prompt_number == nbb_cell_id) {\n",
       "                        if (nbb_cells[i].get_text() == nbb_unformatted_code) {\n",
       "                             nbb_cells[i].set_text(nbb_formatted_code);\n",
       "                        }\n",
       "                        break;\n",
       "                    }\n",
       "                }\n",
       "            }, 500);\n",
       "            "
      ],
      "text/plain": [
       "<IPython.core.display.Javascript object>"
      ]
     },
     "metadata": {},
     "output_type": "display_data"
    }
   ],
   "source": [
    "conv_model.evaluate(x_conv_test, y_test, verbose=0)"
   ]
  },
  {
   "cell_type": "code",
   "execution_count": 32,
   "metadata": {},
   "outputs": [
    {
     "data": {
      "application/javascript": [
       "\n",
       "            setTimeout(function() {\n",
       "                var nbb_cell_id = 32;\n",
       "                var nbb_unformatted_code = \"y_pred = conv_model.predict_classes(x_conv_test)\";\n",
       "                var nbb_formatted_code = \"y_pred = conv_model.predict_classes(x_conv_test)\";\n",
       "                var nbb_cells = Jupyter.notebook.get_cells();\n",
       "                for (var i = 0; i < nbb_cells.length; ++i) {\n",
       "                    if (nbb_cells[i].input_prompt_number == nbb_cell_id) {\n",
       "                        if (nbb_cells[i].get_text() == nbb_unformatted_code) {\n",
       "                             nbb_cells[i].set_text(nbb_formatted_code);\n",
       "                        }\n",
       "                        break;\n",
       "                    }\n",
       "                }\n",
       "            }, 500);\n",
       "            "
      ],
      "text/plain": [
       "<IPython.core.display.Javascript object>"
      ]
     },
     "metadata": {},
     "output_type": "display_data"
    }
   ],
   "source": [
    "y_pred = conv_model.predict_classes(x_conv_test)"
   ]
  },
  {
   "cell_type": "code",
   "execution_count": 33,
   "metadata": {},
   "outputs": [
    {
     "name": "stdout",
     "output_type": "stream",
     "text": [
      "              precision    recall  f1-score   support\n",
      "\n",
      " T-shirt/top       0.83      0.88      0.86      1000\n",
      "     Trouser       0.99      0.98      0.99      1000\n",
      "    Pullover       0.80      0.92      0.85      1000\n",
      "       Dress       0.93      0.92      0.92      1000\n",
      "        Coat       0.87      0.87      0.87      1000\n",
      "      Sandal       0.99      0.98      0.98      1000\n",
      "       Shirt       0.82      0.65      0.73      1000\n",
      "     Sneaker       0.94      0.98      0.96      1000\n",
      "         Bag       0.97      0.98      0.97      1000\n",
      "  Ankle boot       0.99      0.94      0.96      1000\n",
      "\n",
      "    accuracy                           0.91     10000\n",
      "   macro avg       0.91      0.91      0.91     10000\n",
      "weighted avg       0.91      0.91      0.91     10000\n",
      "\n"
     ]
    },
    {
     "data": {
      "application/javascript": [
       "\n",
       "            setTimeout(function() {\n",
       "                var nbb_cell_id = 33;\n",
       "                var nbb_unformatted_code = \"print(classification_report(y_test, y_pred, target_names=class_names))\";\n",
       "                var nbb_formatted_code = \"print(classification_report(y_test, y_pred, target_names=class_names))\";\n",
       "                var nbb_cells = Jupyter.notebook.get_cells();\n",
       "                for (var i = 0; i < nbb_cells.length; ++i) {\n",
       "                    if (nbb_cells[i].input_prompt_number == nbb_cell_id) {\n",
       "                        if (nbb_cells[i].get_text() == nbb_unformatted_code) {\n",
       "                             nbb_cells[i].set_text(nbb_formatted_code);\n",
       "                        }\n",
       "                        break;\n",
       "                    }\n",
       "                }\n",
       "            }, 500);\n",
       "            "
      ],
      "text/plain": [
       "<IPython.core.display.Javascript object>"
      ]
     },
     "metadata": {},
     "output_type": "display_data"
    }
   ],
   "source": [
    "print(classification_report(y_test, y_pred, target_names=class_names))"
   ]
  },
  {
   "cell_type": "code",
   "execution_count": 34,
   "metadata": {},
   "outputs": [
    {
     "data": {
      "application/javascript": [
       "\n",
       "            setTimeout(function() {\n",
       "                var nbb_cell_id = 34;\n",
       "                var nbb_unformatted_code = \"matrix = confusion_matrix(y_test, y_pred)\";\n",
       "                var nbb_formatted_code = \"matrix = confusion_matrix(y_test, y_pred)\";\n",
       "                var nbb_cells = Jupyter.notebook.get_cells();\n",
       "                for (var i = 0; i < nbb_cells.length; ++i) {\n",
       "                    if (nbb_cells[i].input_prompt_number == nbb_cell_id) {\n",
       "                        if (nbb_cells[i].get_text() == nbb_unformatted_code) {\n",
       "                             nbb_cells[i].set_text(nbb_formatted_code);\n",
       "                        }\n",
       "                        break;\n",
       "                    }\n",
       "                }\n",
       "            }, 500);\n",
       "            "
      ],
      "text/plain": [
       "<IPython.core.display.Javascript object>"
      ]
     },
     "metadata": {},
     "output_type": "display_data"
    }
   ],
   "source": [
    "matrix = confusion_matrix(y_test, y_pred)"
   ]
  },
  {
   "cell_type": "code",
   "execution_count": 35,
   "metadata": {},
   "outputs": [
    {
     "data": {
      "image/png": "[encoded data removed]",
      "text/plain": [
       "<Figure size 1440x720 with 2 Axes>"
      ]
     },
     "metadata": {
      "needs_background": "light"
     },
     "output_type": "display_data"
    },
    {
     "data": {
      "application/javascript": [
       "\n",
       "            setTimeout(function() {\n",
       "                var nbb_cell_id = 35;\n",
       "                var nbb_unformatted_code = \"plot_confusion_matrix(matrix, class_names)\";\n",
       "                var nbb_formatted_code = \"plot_confusion_matrix(matrix, class_names)\";\n",
       "                var nbb_cells = Jupyter.notebook.get_cells();\n",
       "                for (var i = 0; i < nbb_cells.length; ++i) {\n",
       "                    if (nbb_cells[i].input_prompt_number == nbb_cell_id) {\n",
       "                        if (nbb_cells[i].get_text() == nbb_unformatted_code) {\n",
       "                             nbb_cells[i].set_text(nbb_formatted_code);\n",
       "                        }\n",
       "                        break;\n",
       "                    }\n",
       "                }\n",
       "            }, 500);\n",
       "            "
      ],
      "text/plain": [
       "<IPython.core.display.Javascript object>"
      ]
     },
     "metadata": {},
     "output_type": "display_data"
    }
   ],
   "source": [
    "plot_confusion_matrix(matrix, class_names)"
   ]
  },
  {
   "cell_type": "markdown",
   "metadata": {},
   "source": [
    "## Visualizing the Convolutions and Pooling"
   ]
  },
  {
   "cell_type": "code",
   "execution_count": 41,
   "metadata": {},
   "outputs": [
    {
     "name": "stdout",
     "output_type": "stream",
     "text": [
      "image 0 : 9 Ankle boot\n",
      "image 1 : 2 Pullover\n",
      "image 2 : 1 Trouser\n",
      "image 3 : 1 Trouser\n",
      "image 4 : 6 Shirt\n",
      "image 5 : 1 Trouser\n",
      "image 6 : 4 Coat\n",
      "image 7 : 6 Shirt\n",
      "image 8 : 5 Sandal\n",
      "image 9 : 7 Sneaker\n",
      "image 10 : 4 Coat\n",
      "image 11 : 5 Sandal\n",
      "image 12 : 7 Sneaker\n",
      "image 13 : 3 Dress\n",
      "image 14 : 4 Coat\n",
      "image 15 : 1 Trouser\n",
      "image 16 : 2 Pullover\n",
      "image 17 : 4 Coat\n",
      "image 18 : 8 Bag\n",
      "image 19 : 0 T-shirt/top\n"
     ]
    },
    {
     "data": {
      "application/javascript": [
       "\n",
       "            setTimeout(function() {\n",
       "                var nbb_cell_id = 41;\n",
       "                var nbb_unformatted_code = \"for i, y in enumerate(y_test[:20]):\\n    print(\\\"image\\\", i, \\\":\\\", y, to_label(y))\";\n",
       "                var nbb_formatted_code = \"for i, y in enumerate(y_test[:20]):\\n    print(\\\"image\\\", i, \\\":\\\", y, to_label(y))\";\n",
       "                var nbb_cells = Jupyter.notebook.get_cells();\n",
       "                for (var i = 0; i < nbb_cells.length; ++i) {\n",
       "                    if (nbb_cells[i].input_prompt_number == nbb_cell_id) {\n",
       "                        if (nbb_cells[i].get_text() == nbb_unformatted_code) {\n",
       "                             nbb_cells[i].set_text(nbb_formatted_code);\n",
       "                        }\n",
       "                        break;\n",
       "                    }\n",
       "                }\n",
       "            }, 500);\n",
       "            "
      ],
      "text/plain": [
       "<IPython.core.display.Javascript object>"
      ]
     },
     "metadata": {},
     "output_type": "display_data"
    }
   ],
   "source": [
    "for i, y in enumerate(y_test[:20]):\n",
    "    print(\"image\", i, \":\", y, to_label(y))"
   ]
  },
  {
   "cell_type": "code",
   "execution_count": 42,
   "metadata": {},
   "outputs": [
    {
     "data": {
      "image/png": "[encoded data removed]",
      "text/plain": [
       "<Figure size 432x288 with 1 Axes>"
      ]
     },
     "metadata": {
      "needs_background": "light"
     },
     "output_type": "display_data"
    },
    {
     "data": {
      "application/javascript": [
       "\n",
       "            setTimeout(function() {\n",
       "                var nbb_cell_id = 42;\n",
       "                var nbb_unformatted_code = \"plt.imshow(x_test[2])\\nplt.show()\";\n",
       "                var nbb_formatted_code = \"plt.imshow(x_test[2])\\nplt.show()\";\n",
       "                var nbb_cells = Jupyter.notebook.get_cells();\n",
       "                for (var i = 0; i < nbb_cells.length; ++i) {\n",
       "                    if (nbb_cells[i].input_prompt_number == nbb_cell_id) {\n",
       "                        if (nbb_cells[i].get_text() == nbb_unformatted_code) {\n",
       "                             nbb_cells[i].set_text(nbb_formatted_code);\n",
       "                        }\n",
       "                        break;\n",
       "                    }\n",
       "                }\n",
       "            }, 500);\n",
       "            "
      ],
      "text/plain": [
       "<IPython.core.display.Javascript object>"
      ]
     },
     "metadata": {},
     "output_type": "display_data"
    }
   ],
   "source": [
    "plt.imshow(x_test[2])\n",
    "plt.show()"
   ]
  },
  {
   "cell_type": "code",
   "execution_count": 43,
   "metadata": {},
   "outputs": [
    {
     "data": {
      "application/javascript": [
       "\n",
       "            setTimeout(function() {\n",
       "                var nbb_cell_id = 43;\n",
       "                var nbb_unformatted_code = \"layer_outputs = [layer.output for layer in conv_model.layers]\";\n",
       "                var nbb_formatted_code = \"layer_outputs = [layer.output for layer in conv_model.layers]\";\n",
       "                var nbb_cells = Jupyter.notebook.get_cells();\n",
       "                for (var i = 0; i < nbb_cells.length; ++i) {\n",
       "                    if (nbb_cells[i].input_prompt_number == nbb_cell_id) {\n",
       "                        if (nbb_cells[i].get_text() == nbb_unformatted_code) {\n",
       "                             nbb_cells[i].set_text(nbb_formatted_code);\n",
       "                        }\n",
       "                        break;\n",
       "                    }\n",
       "                }\n",
       "            }, 500);\n",
       "            "
      ],
      "text/plain": [
       "<IPython.core.display.Javascript object>"
      ]
     },
     "metadata": {},
     "output_type": "display_data"
    }
   ],
   "source": [
    "layer_outputs = [layer.output for layer in conv_model.layers]"
   ]
  },
  {
   "cell_type": "code",
   "execution_count": 44,
   "metadata": {},
   "outputs": [
    {
     "data": {
      "application/javascript": [
       "\n",
       "            setTimeout(function() {\n",
       "                var nbb_cell_id = 44;\n",
       "                var nbb_unformatted_code = \"activation_model = keras.models.Model(inputs=conv_model.input, outputs=layer_outputs)\";\n",
       "                var nbb_formatted_code = \"activation_model = keras.models.Model(inputs=conv_model.input, outputs=layer_outputs)\";\n",
       "                var nbb_cells = Jupyter.notebook.get_cells();\n",
       "                for (var i = 0; i < nbb_cells.length; ++i) {\n",
       "                    if (nbb_cells[i].input_prompt_number == nbb_cell_id) {\n",
       "                        if (nbb_cells[i].get_text() == nbb_unformatted_code) {\n",
       "                             nbb_cells[i].set_text(nbb_formatted_code);\n",
       "                        }\n",
       "                        break;\n",
       "                    }\n",
       "                }\n",
       "            }, 500);\n",
       "            "
      ],
      "text/plain": [
       "<IPython.core.display.Javascript object>"
      ]
     },
     "metadata": {},
     "output_type": "display_data"
    }
   ],
   "source": [
    "activation_model = keras.models.Model(inputs=conv_model.input, outputs=layer_outputs)"
   ]
  },
  {
   "cell_type": "code",
   "execution_count": 47,
   "metadata": {},
   "outputs": [
    {
     "data": {
      "image/png": "[encoded data removed]",
      "text/plain": [
       "<Figure size 1080x1080 with 12 Axes>"
      ]
     },
     "metadata": {
      "needs_background": "light"
     },
     "output_type": "display_data"
    },
    {
     "data": {
      "application/javascript": [
       "\n",
       "            setTimeout(function() {\n",
       "                var nbb_cell_id = 47;\n",
       "                var nbb_unformatted_code = \"f, axarr = plt.subplots(3, 4)\\nf.set_figheight(15)\\nf.set_figwidth(15)\\n\\nFIRST_IMAGE = 89\\nSECOND_IMAGE = 5\\nTHIRD_IMAGE = 658\\nCONVOLUTION_NUMBER = 5\\nfor x in range(0, 4):\\n    f1 = activation_model.predict(x_test[FIRST_IMAGE].reshape(1, 28, 28, 1))[x]\\n    axarr[0, x].imshow(f1[0, :, :, CONVOLUTION_NUMBER])\\n    axarr[0, x].grid(False)\\n\\n    f2 = activation_model.predict(x_test[SECOND_IMAGE].reshape(1, 28, 28, 1))[x]\\n    axarr[1, x].imshow(f2[0, :, :, CONVOLUTION_NUMBER])\\n    axarr[1, x].grid(False)\\n\\n    f3 = activation_model.predict(x_test[THIRD_IMAGE].reshape(1, 28, 28, 1))[x]\\n    axarr[2, x].imshow(f3[0, :, :, CONVOLUTION_NUMBER])\\n    axarr[2, x].grid(False)\\n\\nplt.show()\";\n",
       "                var nbb_formatted_code = \"f, axarr = plt.subplots(3, 4)\\nf.set_figheight(15)\\nf.set_figwidth(15)\\n\\nFIRST_IMAGE = 89\\nSECOND_IMAGE = 5\\nTHIRD_IMAGE = 658\\nCONVOLUTION_NUMBER = 5\\nfor x in range(0, 4):\\n    f1 = activation_model.predict(x_test[FIRST_IMAGE].reshape(1, 28, 28, 1))[x]\\n    axarr[0, x].imshow(f1[0, :, :, CONVOLUTION_NUMBER])\\n    axarr[0, x].grid(False)\\n\\n    f2 = activation_model.predict(x_test[SECOND_IMAGE].reshape(1, 28, 28, 1))[x]\\n    axarr[1, x].imshow(f2[0, :, :, CONVOLUTION_NUMBER])\\n    axarr[1, x].grid(False)\\n\\n    f3 = activation_model.predict(x_test[THIRD_IMAGE].reshape(1, 28, 28, 1))[x]\\n    axarr[2, x].imshow(f3[0, :, :, CONVOLUTION_NUMBER])\\n    axarr[2, x].grid(False)\\n\\nplt.show()\";\n",
       "                var nbb_cells = Jupyter.notebook.get_cells();\n",
       "                for (var i = 0; i < nbb_cells.length; ++i) {\n",
       "                    if (nbb_cells[i].input_prompt_number == nbb_cell_id) {\n",
       "                        if (nbb_cells[i].get_text() == nbb_unformatted_code) {\n",
       "                             nbb_cells[i].set_text(nbb_formatted_code);\n",
       "                        }\n",
       "                        break;\n",
       "                    }\n",
       "                }\n",
       "            }, 500);\n",
       "            "
      ],
      "text/plain": [
       "<IPython.core.display.Javascript object>"
      ]
     },
     "metadata": {},
     "output_type": "display_data"
    }
   ],
   "source": [
    "f, axarr = plt.subplots(3, 4)\n",
    "f.set_figheight(15)\n",
    "f.set_figwidth(15)\n",
    "\n",
    "FIRST_IMAGE = 89\n",
    "SECOND_IMAGE = 5\n",
    "THIRD_IMAGE = 658\n",
    "CONVOLUTION_NUMBER = 5\n",
    "for x in range(0, 4):\n",
    "    f1 = activation_model.predict(x_test[FIRST_IMAGE].reshape(1, 28, 28, 1))[x]\n",
    "    axarr[0, x].imshow(f1[0, :, :, CONVOLUTION_NUMBER])\n",
    "    axarr[0, x].grid(False)\n",
    "\n",
    "    f2 = activation_model.predict(x_test[SECOND_IMAGE].reshape(1, 28, 28, 1))[x]\n",
    "    axarr[1, x].imshow(f2[0, :, :, CONVOLUTION_NUMBER])\n",
    "    axarr[1, x].grid(False)\n",
    "\n",
    "    f3 = activation_model.predict(x_test[THIRD_IMAGE].reshape(1, 28, 28, 1))[x]\n",
    "    axarr[2, x].imshow(f3[0, :, :, CONVOLUTION_NUMBER])\n",
    "    axarr[2, x].grid(False)\n",
    "\n",
    "plt.show()"
   ]
  },
  {
   "cell_type": "code",
   "execution_count": null,
   "metadata": {},
   "outputs": [],
   "source": []
  },
  {
   "cell_type": "code",
   "execution_count": null,
   "metadata": {},
   "outputs": [],
   "source": []
  }
 ],
 "metadata": {
  "kernelspec": {
   "display_name": "Python 3",
   "language": "python",
   "name": "python3"
  },
  "language_info": {
   "codemirror_mode": {
    "name": "ipython",
    "version": 3
   },
   "file_extension": ".py",
   "mimetype": "text/x-python",
   "name": "python",
   "nbconvert_exporter": "python",
   "pygments_lexer": "ipython3",
   "version": "3.7.5"
  }
 },
 "nbformat": 4,
 "nbformat_minor": 4
}
